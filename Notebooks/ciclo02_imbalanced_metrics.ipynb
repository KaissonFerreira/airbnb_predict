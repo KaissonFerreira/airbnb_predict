{
 "cells": [
  {
   "cell_type": "markdown",
   "metadata": {
    "heading_collapsed": true
   },
   "source": [
    "# 0.0 Entender o Problema"
   ]
  },
  {
   "cell_type": "markdown",
   "metadata": {
    "hidden": true
   },
   "source": [
    "-- Objetivo do problema:\n",
    "\n",
    "    -- 1.0 Previsão do primeiro destino que o um novo usuário irá escolher.\n",
    "\n",
    "    -- Porque?\n",
    "\n",
    "        -- Qual o tipo do modelo de negócio do Airbnb?\n",
    "\n",
    "            -- Marketplace (conectar oferta e demanda, e poder ganhar em cima dessa transação).\n",
    "\n",
    "            -- Oferta (Pessoas oferecem acomodação)\n",
    "\n",
    "                -- Tamanho do portifólio\n",
    "                -- Diversidade/densidade de portifólio.\n",
    "                -- Preço médio.\n",
    "\n",
    "            -- Demanda (Pessoas procurando acomodação)\n",
    "\n",
    "                -- Número de usuários\n",
    "                -- LTV (Lifetime Value - Quanto que a pessoa vai gastar com a empresa)\n",
    "                -- CAC (Client Acquisition Cost - Custo por cliente)\n",
    "\n",
    "                Gross Revenue (Margem de lucro) = (fee * Número de usuário) - CAC\n",
    "                **FEE => É a diferença entre o preço médio e o valor dado a pessoa que oferece a acomadação.**\n",
    "\n",
    "-- Proposta da Solução:\n",
    "\n",
    "    -- Modelo de predição do primeiro destino de um novo usuário. Tipo de entrega:\n",
    "\n",
    "        -- 1.0. Salvar a predição em tabelas no banco de dados para ser acessada por meio de uma ferramenta de visualização.\n",
    "        -- 2.0. Construção de API e acesso por meio dela:\n",
    "        \n",
    "            -- Input: Usuário coloca suas características.\n",
    "            -- Output: Mostra as características do usuário e a **predição do destino**.\n",
    "\n",
    "    -- Ciclos para proposta de solução: 16 Ciclos."
   ]
  },
  {
   "cell_type": "markdown",
   "metadata": {
    "heading_collapsed": true
   },
   "source": [
    "# OBSERVAÇÃO DO CICLO ANTERIOR:"
   ]
  },
  {
   "cell_type": "markdown",
   "metadata": {
    "hidden": true
   },
   "source": [
    " - Temos um problema em relação a métrica que será utilizada para mensurar a eficiência e eficácia do meu modelo.\n",
    " "
   ]
  },
  {
   "cell_type": "markdown",
   "metadata": {
    "heading_collapsed": true,
    "hidden": true
   },
   "source": [
    "## Exemplos de métricas para problemas de classificação"
   ]
  },
  {
   "cell_type": "markdown",
   "metadata": {
    "hidden": true
   },
   "source": [
    "- **Acurácia:** Número de predições corretas (soma de todos os números na diagonal principal) sobre o número de todas as predições realizadas pelo modelo. A acurácia é enviesada pela classe que tem mais exemplos. (VP / VP+FP+FN+VN)\n",
    "\n",
    "\n",
    "- **Precisão:** Contar quantas predições foram corretas e dividir por todas as predições realizadas pelo modelo em cada classe. Assim podemo entender o quanto que o modelo está acertando para uma classe específica. Essa métrica pode ser utilizada quando a regra de exige que tenhamos prioridade em analisar uma classe específica. (VP / VP + FN)\n",
    "\n",
    "\n",
    "- **Recall (Sensibility):** Contar quantas predições foram corretas e dividir por todos os exemplos reais de cada classe. (VP / VP + FP) Ex: De todos as predições que ocorrem em determinada classe, deseja-se mensurar o aparecimento de um exemplo real.\n",
    "\n",
    "\n",
    "- O precision e o Recall podem formar a curva roc. A curva Roc é chamada de curva de operação, no qual pode definir o trade holshing para mensurar o ponto ideal de classificar as classes de acordo com esse trade.\n",
    "\n",
    "\n",
    "- **F1 Score:** Resumo da precision e Recall, média harmônica. (2* precision FR * Recall FR / (Precision FR + Recall FR) )\n",
    "Para o time de negócio pode ser chamada de acurácia.\n",
    "\n",
    "\n",
    "- **Balanced Accuracy:** Média das acurácias de cada classe. Ex: (pred corretas classe A/Total pred classe A + pred corretas classe B/Total pred classe B +...+ pred corretas classe N/Total pred classe N) Total de classes\n",
    "\n",
    "Mesmo com classe desbalanceada, essa métrica consegue monitorar a performance. Significa a acurácia real do modelo.\n",
    "\n",
    "\n",
    "- **Kappa Score:** Medir o nível de acordo entre dois avaliadores. Ex: (#Nível de Acordo - (#Nível Acordo ao acaso))/(1 - #Nível de Acordo ao acaso)\n",
    "\n",
    "Essa métrica estima o quão melhor é dois estimadores caso fossem avaliado o nível de acordo ao acaso. Ou seja, define se o modelo vai ser melhor caso fosse feito de aleatório. O Kappa Score pode comparar a performance de dois modelos diferentes.\n",
    "\n",
    "\n"
   ]
  },
  {
   "cell_type": "markdown",
   "metadata": {
    "hidden": true
   },
   "source": [
    "### Escolha das métricas\n",
    "\n",
    "- Poderá ser escolhido o balanced Accuracy e o Kappa Score"
   ]
  },
  {
   "cell_type": "markdown",
   "metadata": {},
   "source": [
    "# Ciclo 01 <font color = 'red'> - End to End </font>"
   ]
  },
  {
   "cell_type": "markdown",
   "metadata": {},
   "source": [
    "## 0.0 Imports"
   ]
  },
  {
   "cell_type": "code",
   "execution_count": 3,
   "metadata": {
    "ExecuteTime": {
     "end_time": "2021-12-28T03:04:25.407916Z",
     "start_time": "2021-12-28T03:04:25.395187Z"
    }
   },
   "outputs": [],
   "source": [
    "import pandas   as pd\n",
    "import numpy    as np\n",
    "\n",
    "from sklearn import model_selection as ms\n",
    "from sklearn import preprocessing   as pp\n",
    "from sklearn import metrics         as m\n",
    "from scikitplot import metrics      as mt\n",
    "\n",
    "from keras import models   as ml\n",
    "from keras import layers   as l\n"
   ]
  },
  {
   "cell_type": "markdown",
   "metadata": {},
   "source": [
    "### 0.1. Helper Functions"
   ]
  },
  {
   "cell_type": "markdown",
   "metadata": {},
   "source": [
    "### 0.2. Loading Data"
   ]
  },
  {
   "cell_type": "code",
   "execution_count": 4,
   "metadata": {
    "ExecuteTime": {
     "end_time": "2021-12-28T03:04:26.391306Z",
     "start_time": "2021-12-28T03:04:25.409927Z"
    }
   },
   "outputs": [
    {
     "data": {
      "text/plain": [
       "(213451, 16)"
      ]
     },
     "execution_count": 4,
     "metadata": {},
     "output_type": "execute_result"
    }
   ],
   "source": [
    "a = r'D:\\CDS\\Projetos\\PA01\\airbnb_predict\\Source\\train_users_2.csv'\n",
    "df_raw = pd.read_csv(a, low_memory=False)\n",
    "df_raw.shape"
   ]
  },
  {
   "cell_type": "code",
   "execution_count": 5,
   "metadata": {
    "ExecuteTime": {
     "end_time": "2021-12-28T03:04:26.407310Z",
     "start_time": "2021-12-28T03:04:26.398309Z"
    }
   },
   "outputs": [],
   "source": [
    "#b = r'D:\\CDS\\Projetos\\PA01\\airbnb_predict\\Source\\sessions.csv'\n",
    "#df_sessions = pd.read_csv(b,low_memory=True)\n",
    "#df_sessions.shape"
   ]
  },
  {
   "cell_type": "code",
   "execution_count": 6,
   "metadata": {
    "ExecuteTime": {
     "end_time": "2021-12-28T03:04:26.437508Z",
     "start_time": "2021-12-28T03:04:26.415308Z"
    }
   },
   "outputs": [],
   "source": [
    "#df_sessions.sample(2)"
   ]
  },
  {
   "cell_type": "markdown",
   "metadata": {
    "heading_collapsed": true
   },
   "source": [
    "## 1.0. Data Description"
   ]
  },
  {
   "cell_type": "code",
   "execution_count": 7,
   "metadata": {
    "ExecuteTime": {
     "end_time": "2021-12-28T03:04:26.485508Z",
     "start_time": "2021-12-28T03:04:26.440509Z"
    },
    "hidden": true
   },
   "outputs": [],
   "source": [
    "df1 = df_raw.copy()"
   ]
  },
  {
   "cell_type": "code",
   "execution_count": 8,
   "metadata": {
    "ExecuteTime": {
     "end_time": "2021-12-28T03:04:26.563512Z",
     "start_time": "2021-12-28T03:04:26.488510Z"
    },
    "hidden": true
   },
   "outputs": [
    {
     "name": "stdout",
     "output_type": "stream",
     "text": [
      "Number of rows: 213451\n",
      "Number of collumns: 16\n"
     ]
    }
   ],
   "source": [
    "print('Number of rows: {}'.format(df1.shape[0]))\n",
    "print('Number of collumns: {}'.format(df1.shape[1]))"
   ]
  },
  {
   "cell_type": "code",
   "execution_count": 9,
   "metadata": {
    "ExecuteTime": {
     "end_time": "2021-12-28T03:04:26.690865Z",
     "start_time": "2021-12-28T03:04:26.565513Z"
    },
    "hidden": true
   },
   "outputs": [
    {
     "data": {
      "text/html": [
       "<div>\n",
       "<style scoped>\n",
       "    .dataframe tbody tr th:only-of-type {\n",
       "        vertical-align: middle;\n",
       "    }\n",
       "\n",
       "    .dataframe tbody tr th {\n",
       "        vertical-align: top;\n",
       "    }\n",
       "\n",
       "    .dataframe thead th {\n",
       "        text-align: right;\n",
       "    }\n",
       "</style>\n",
       "<table border=\"1\" class=\"dataframe\">\n",
       "  <thead>\n",
       "    <tr style=\"text-align: right;\">\n",
       "      <th></th>\n",
       "      <th>id</th>\n",
       "      <th>date_account_created</th>\n",
       "      <th>timestamp_first_active</th>\n",
       "      <th>date_first_booking</th>\n",
       "      <th>gender</th>\n",
       "      <th>age</th>\n",
       "      <th>signup_method</th>\n",
       "      <th>signup_flow</th>\n",
       "      <th>language</th>\n",
       "      <th>affiliate_channel</th>\n",
       "      <th>affiliate_provider</th>\n",
       "      <th>first_affiliate_tracked</th>\n",
       "      <th>signup_app</th>\n",
       "      <th>first_device_type</th>\n",
       "      <th>first_browser</th>\n",
       "      <th>country_destination</th>\n",
       "    </tr>\n",
       "  </thead>\n",
       "  <tbody>\n",
       "    <tr>\n",
       "      <th>0</th>\n",
       "      <td>gxn3p5htnn</td>\n",
       "      <td>2010-06-28</td>\n",
       "      <td>20090319043255</td>\n",
       "      <td>NaN</td>\n",
       "      <td>-unknown-</td>\n",
       "      <td>NaN</td>\n",
       "      <td>facebook</td>\n",
       "      <td>0</td>\n",
       "      <td>en</td>\n",
       "      <td>direct</td>\n",
       "      <td>direct</td>\n",
       "      <td>untracked</td>\n",
       "      <td>Web</td>\n",
       "      <td>Mac Desktop</td>\n",
       "      <td>Chrome</td>\n",
       "      <td>NDF</td>\n",
       "    </tr>\n",
       "    <tr>\n",
       "      <th>1</th>\n",
       "      <td>820tgsjxq7</td>\n",
       "      <td>2011-05-25</td>\n",
       "      <td>20090523174809</td>\n",
       "      <td>NaN</td>\n",
       "      <td>MALE</td>\n",
       "      <td>38.0</td>\n",
       "      <td>facebook</td>\n",
       "      <td>0</td>\n",
       "      <td>en</td>\n",
       "      <td>seo</td>\n",
       "      <td>google</td>\n",
       "      <td>untracked</td>\n",
       "      <td>Web</td>\n",
       "      <td>Mac Desktop</td>\n",
       "      <td>Chrome</td>\n",
       "      <td>NDF</td>\n",
       "    </tr>\n",
       "    <tr>\n",
       "      <th>2</th>\n",
       "      <td>4ft3gnwmtx</td>\n",
       "      <td>2010-09-28</td>\n",
       "      <td>20090609231247</td>\n",
       "      <td>2010-08-02</td>\n",
       "      <td>FEMALE</td>\n",
       "      <td>56.0</td>\n",
       "      <td>basic</td>\n",
       "      <td>3</td>\n",
       "      <td>en</td>\n",
       "      <td>direct</td>\n",
       "      <td>direct</td>\n",
       "      <td>untracked</td>\n",
       "      <td>Web</td>\n",
       "      <td>Windows Desktop</td>\n",
       "      <td>IE</td>\n",
       "      <td>US</td>\n",
       "    </tr>\n",
       "    <tr>\n",
       "      <th>3</th>\n",
       "      <td>bjjt8pjhuk</td>\n",
       "      <td>2011-12-05</td>\n",
       "      <td>20091031060129</td>\n",
       "      <td>2012-09-08</td>\n",
       "      <td>FEMALE</td>\n",
       "      <td>42.0</td>\n",
       "      <td>facebook</td>\n",
       "      <td>0</td>\n",
       "      <td>en</td>\n",
       "      <td>direct</td>\n",
       "      <td>direct</td>\n",
       "      <td>untracked</td>\n",
       "      <td>Web</td>\n",
       "      <td>Mac Desktop</td>\n",
       "      <td>Firefox</td>\n",
       "      <td>other</td>\n",
       "    </tr>\n",
       "    <tr>\n",
       "      <th>4</th>\n",
       "      <td>87mebub9p4</td>\n",
       "      <td>2010-09-14</td>\n",
       "      <td>20091208061105</td>\n",
       "      <td>2010-02-18</td>\n",
       "      <td>-unknown-</td>\n",
       "      <td>41.0</td>\n",
       "      <td>basic</td>\n",
       "      <td>0</td>\n",
       "      <td>en</td>\n",
       "      <td>direct</td>\n",
       "      <td>direct</td>\n",
       "      <td>untracked</td>\n",
       "      <td>Web</td>\n",
       "      <td>Mac Desktop</td>\n",
       "      <td>Chrome</td>\n",
       "      <td>US</td>\n",
       "    </tr>\n",
       "  </tbody>\n",
       "</table>\n",
       "</div>"
      ],
      "text/plain": [
       "           id date_account_created  timestamp_first_active date_first_booking  \\\n",
       "0  gxn3p5htnn           2010-06-28          20090319043255                NaN   \n",
       "1  820tgsjxq7           2011-05-25          20090523174809                NaN   \n",
       "2  4ft3gnwmtx           2010-09-28          20090609231247         2010-08-02   \n",
       "3  bjjt8pjhuk           2011-12-05          20091031060129         2012-09-08   \n",
       "4  87mebub9p4           2010-09-14          20091208061105         2010-02-18   \n",
       "\n",
       "      gender   age signup_method  signup_flow language affiliate_channel  \\\n",
       "0  -unknown-   NaN      facebook            0       en            direct   \n",
       "1       MALE  38.0      facebook            0       en               seo   \n",
       "2     FEMALE  56.0         basic            3       en            direct   \n",
       "3     FEMALE  42.0      facebook            0       en            direct   \n",
       "4  -unknown-  41.0         basic            0       en            direct   \n",
       "\n",
       "  affiliate_provider first_affiliate_tracked signup_app first_device_type  \\\n",
       "0             direct               untracked        Web       Mac Desktop   \n",
       "1             google               untracked        Web       Mac Desktop   \n",
       "2             direct               untracked        Web   Windows Desktop   \n",
       "3             direct               untracked        Web       Mac Desktop   \n",
       "4             direct               untracked        Web       Mac Desktop   \n",
       "\n",
       "  first_browser country_destination  \n",
       "0        Chrome                 NDF  \n",
       "1        Chrome                 NDF  \n",
       "2            IE                  US  \n",
       "3       Firefox               other  \n",
       "4        Chrome                  US  "
      ]
     },
     "execution_count": 9,
     "metadata": {},
     "output_type": "execute_result"
    }
   ],
   "source": [
    "df1.head()"
   ]
  },
  {
   "cell_type": "markdown",
   "metadata": {
    "hidden": true
   },
   "source": [
    "### 1.1 Data type:"
   ]
  },
  {
   "cell_type": "code",
   "execution_count": 10,
   "metadata": {
    "ExecuteTime": {
     "end_time": "2021-12-28T03:04:26.706866Z",
     "start_time": "2021-12-28T03:04:26.692868Z"
    },
    "hidden": true
   },
   "outputs": [
    {
     "data": {
      "text/plain": [
       "id                          object\n",
       "date_account_created        object\n",
       "timestamp_first_active       int64\n",
       "date_first_booking          object\n",
       "gender                      object\n",
       "age                        float64\n",
       "signup_method               object\n",
       "signup_flow                  int64\n",
       "language                    object\n",
       "affiliate_channel           object\n",
       "affiliate_provider          object\n",
       "first_affiliate_tracked     object\n",
       "signup_app                  object\n",
       "first_device_type           object\n",
       "first_browser               object\n",
       "country_destination         object\n",
       "dtype: object"
      ]
     },
     "execution_count": 10,
     "metadata": {},
     "output_type": "execute_result"
    }
   ],
   "source": [
    "df1.dtypes"
   ]
  },
  {
   "cell_type": "markdown",
   "metadata": {
    "hidden": true
   },
   "source": [
    "Obs: A coluna date_account_created tem que ser Datetime."
   ]
  },
  {
   "cell_type": "markdown",
   "metadata": {
    "hidden": true
   },
   "source": [
    "### 1.2 NA check:"
   ]
  },
  {
   "cell_type": "code",
   "execution_count": 11,
   "metadata": {
    "ExecuteTime": {
     "end_time": "2021-12-28T03:04:26.848987Z",
     "start_time": "2021-12-28T03:04:26.712603Z"
    },
    "hidden": true
   },
   "outputs": [
    {
     "data": {
      "text/plain": [
       "id                              0\n",
       "date_account_created            0\n",
       "timestamp_first_active          0\n",
       "date_first_booking         124543\n",
       "gender                          0\n",
       "age                         87990\n",
       "signup_method                   0\n",
       "signup_flow                     0\n",
       "language                        0\n",
       "affiliate_channel               0\n",
       "affiliate_provider              0\n",
       "first_affiliate_tracked      6065\n",
       "signup_app                      0\n",
       "first_device_type               0\n",
       "first_browser                   0\n",
       "country_destination             0\n",
       "dtype: int64"
      ]
     },
     "execution_count": 11,
     "metadata": {},
     "output_type": "execute_result"
    }
   ],
   "source": [
    "df1.isna().sum()"
   ]
  },
  {
   "cell_type": "code",
   "execution_count": 12,
   "metadata": {
    "ExecuteTime": {
     "end_time": "2021-12-28T03:04:27.024369Z",
     "start_time": "2021-12-28T03:04:26.850987Z"
    },
    "hidden": true
   },
   "outputs": [
    {
     "data": {
      "text/plain": [
       "(68171, 16)"
      ]
     },
     "execution_count": 12,
     "metadata": {},
     "output_type": "execute_result"
    }
   ],
   "source": [
    "# Remove missing values\n",
    "df1 = df1.dropna()\n",
    "df1.shape"
   ]
  },
  {
   "cell_type": "markdown",
   "metadata": {
    "hidden": true
   },
   "source": [
    "### 1.3 Change Data Type:"
   ]
  },
  {
   "cell_type": "code",
   "execution_count": 13,
   "metadata": {
    "ExecuteTime": {
     "end_time": "2021-12-28T03:04:27.039846Z",
     "start_time": "2021-12-28T03:04:27.025590Z"
    },
    "hidden": true
   },
   "outputs": [
    {
     "data": {
      "text/plain": [
       "id                          object\n",
       "date_account_created        object\n",
       "timestamp_first_active       int64\n",
       "date_first_booking          object\n",
       "gender                      object\n",
       "age                        float64\n",
       "signup_method               object\n",
       "signup_flow                  int64\n",
       "language                    object\n",
       "affiliate_channel           object\n",
       "affiliate_provider          object\n",
       "first_affiliate_tracked     object\n",
       "signup_app                  object\n",
       "first_device_type           object\n",
       "first_browser               object\n",
       "country_destination         object\n",
       "dtype: object"
      ]
     },
     "execution_count": 13,
     "metadata": {},
     "output_type": "execute_result"
    }
   ],
   "source": [
    "df1.dtypes"
   ]
  },
  {
   "cell_type": "code",
   "execution_count": 14,
   "metadata": {
    "ExecuteTime": {
     "end_time": "2021-12-28T03:04:27.070877Z",
     "start_time": "2021-12-28T03:04:27.041210Z"
    },
    "hidden": true
   },
   "outputs": [
    {
     "data": {
      "text/html": [
       "<div>\n",
       "<style scoped>\n",
       "    .dataframe tbody tr th:only-of-type {\n",
       "        vertical-align: middle;\n",
       "    }\n",
       "\n",
       "    .dataframe tbody tr th {\n",
       "        vertical-align: top;\n",
       "    }\n",
       "\n",
       "    .dataframe thead th {\n",
       "        text-align: right;\n",
       "    }\n",
       "</style>\n",
       "<table border=\"1\" class=\"dataframe\">\n",
       "  <thead>\n",
       "    <tr style=\"text-align: right;\">\n",
       "      <th></th>\n",
       "      <th>id</th>\n",
       "      <th>date_account_created</th>\n",
       "      <th>timestamp_first_active</th>\n",
       "      <th>date_first_booking</th>\n",
       "      <th>gender</th>\n",
       "      <th>age</th>\n",
       "      <th>signup_method</th>\n",
       "      <th>signup_flow</th>\n",
       "      <th>language</th>\n",
       "      <th>affiliate_channel</th>\n",
       "      <th>affiliate_provider</th>\n",
       "      <th>first_affiliate_tracked</th>\n",
       "      <th>signup_app</th>\n",
       "      <th>first_device_type</th>\n",
       "      <th>first_browser</th>\n",
       "      <th>country_destination</th>\n",
       "    </tr>\n",
       "  </thead>\n",
       "  <tbody>\n",
       "    <tr>\n",
       "      <th>2</th>\n",
       "      <td>4ft3gnwmtx</td>\n",
       "      <td>2010-09-28</td>\n",
       "      <td>20090609231247</td>\n",
       "      <td>2010-08-02</td>\n",
       "      <td>FEMALE</td>\n",
       "      <td>56.0</td>\n",
       "      <td>basic</td>\n",
       "      <td>3</td>\n",
       "      <td>en</td>\n",
       "      <td>direct</td>\n",
       "      <td>direct</td>\n",
       "      <td>untracked</td>\n",
       "      <td>Web</td>\n",
       "      <td>Windows Desktop</td>\n",
       "      <td>IE</td>\n",
       "      <td>US</td>\n",
       "    </tr>\n",
       "    <tr>\n",
       "      <th>3</th>\n",
       "      <td>bjjt8pjhuk</td>\n",
       "      <td>2011-12-05</td>\n",
       "      <td>20091031060129</td>\n",
       "      <td>2012-09-08</td>\n",
       "      <td>FEMALE</td>\n",
       "      <td>42.0</td>\n",
       "      <td>facebook</td>\n",
       "      <td>0</td>\n",
       "      <td>en</td>\n",
       "      <td>direct</td>\n",
       "      <td>direct</td>\n",
       "      <td>untracked</td>\n",
       "      <td>Web</td>\n",
       "      <td>Mac Desktop</td>\n",
       "      <td>Firefox</td>\n",
       "      <td>other</td>\n",
       "    </tr>\n",
       "    <tr>\n",
       "      <th>4</th>\n",
       "      <td>87mebub9p4</td>\n",
       "      <td>2010-09-14</td>\n",
       "      <td>20091208061105</td>\n",
       "      <td>2010-02-18</td>\n",
       "      <td>-unknown-</td>\n",
       "      <td>41.0</td>\n",
       "      <td>basic</td>\n",
       "      <td>0</td>\n",
       "      <td>en</td>\n",
       "      <td>direct</td>\n",
       "      <td>direct</td>\n",
       "      <td>untracked</td>\n",
       "      <td>Web</td>\n",
       "      <td>Mac Desktop</td>\n",
       "      <td>Chrome</td>\n",
       "      <td>US</td>\n",
       "    </tr>\n",
       "    <tr>\n",
       "      <th>6</th>\n",
       "      <td>lsw9q7uk0j</td>\n",
       "      <td>2010-01-02</td>\n",
       "      <td>20100102012558</td>\n",
       "      <td>2010-01-05</td>\n",
       "      <td>FEMALE</td>\n",
       "      <td>46.0</td>\n",
       "      <td>basic</td>\n",
       "      <td>0</td>\n",
       "      <td>en</td>\n",
       "      <td>other</td>\n",
       "      <td>craigslist</td>\n",
       "      <td>untracked</td>\n",
       "      <td>Web</td>\n",
       "      <td>Mac Desktop</td>\n",
       "      <td>Safari</td>\n",
       "      <td>US</td>\n",
       "    </tr>\n",
       "    <tr>\n",
       "      <th>7</th>\n",
       "      <td>0d01nltbrs</td>\n",
       "      <td>2010-01-03</td>\n",
       "      <td>20100103191905</td>\n",
       "      <td>2010-01-13</td>\n",
       "      <td>FEMALE</td>\n",
       "      <td>47.0</td>\n",
       "      <td>basic</td>\n",
       "      <td>0</td>\n",
       "      <td>en</td>\n",
       "      <td>direct</td>\n",
       "      <td>direct</td>\n",
       "      <td>omg</td>\n",
       "      <td>Web</td>\n",
       "      <td>Mac Desktop</td>\n",
       "      <td>Safari</td>\n",
       "      <td>US</td>\n",
       "    </tr>\n",
       "  </tbody>\n",
       "</table>\n",
       "</div>"
      ],
      "text/plain": [
       "           id date_account_created  timestamp_first_active date_first_booking  \\\n",
       "2  4ft3gnwmtx           2010-09-28          20090609231247         2010-08-02   \n",
       "3  bjjt8pjhuk           2011-12-05          20091031060129         2012-09-08   \n",
       "4  87mebub9p4           2010-09-14          20091208061105         2010-02-18   \n",
       "6  lsw9q7uk0j           2010-01-02          20100102012558         2010-01-05   \n",
       "7  0d01nltbrs           2010-01-03          20100103191905         2010-01-13   \n",
       "\n",
       "      gender   age signup_method  signup_flow language affiliate_channel  \\\n",
       "2     FEMALE  56.0         basic            3       en            direct   \n",
       "3     FEMALE  42.0      facebook            0       en            direct   \n",
       "4  -unknown-  41.0         basic            0       en            direct   \n",
       "6     FEMALE  46.0         basic            0       en             other   \n",
       "7     FEMALE  47.0         basic            0       en            direct   \n",
       "\n",
       "  affiliate_provider first_affiliate_tracked signup_app first_device_type  \\\n",
       "2             direct               untracked        Web   Windows Desktop   \n",
       "3             direct               untracked        Web       Mac Desktop   \n",
       "4             direct               untracked        Web       Mac Desktop   \n",
       "6         craigslist               untracked        Web       Mac Desktop   \n",
       "7             direct                     omg        Web       Mac Desktop   \n",
       "\n",
       "  first_browser country_destination  \n",
       "2            IE                  US  \n",
       "3       Firefox               other  \n",
       "4        Chrome                  US  \n",
       "6        Safari                  US  \n",
       "7        Safari                  US  "
      ]
     },
     "execution_count": 14,
     "metadata": {},
     "output_type": "execute_result"
    }
   ],
   "source": [
    "df1.head()"
   ]
  },
  {
   "cell_type": "code",
   "execution_count": 15,
   "metadata": {
    "ExecuteTime": {
     "end_time": "2021-12-28T03:04:27.499248Z",
     "start_time": "2021-12-28T03:04:27.072924Z"
    },
    "hidden": true
   },
   "outputs": [],
   "source": [
    "# date_account_created\n",
    "df1['date_account_created'] = pd.to_datetime(df1['date_account_created'])\n",
    "# timestamp_first_active\n",
    "df1['timestamp_first_active'] = pd.to_datetime(df1['timestamp_first_active'], format='%Y%m%d%H%M%S')\n",
    "\n",
    "# date_first_booking\n",
    "df1['date_first_booking'] = pd.to_datetime(df1['date_first_booking'])\n",
    "# age\n",
    "df1['age']=df1['age'].astype(np.int64)"
   ]
  },
  {
   "cell_type": "code",
   "execution_count": 16,
   "metadata": {
    "ExecuteTime": {
     "end_time": "2021-12-28T03:04:27.515253Z",
     "start_time": "2021-12-28T03:04:27.501252Z"
    },
    "hidden": true
   },
   "outputs": [
    {
     "data": {
      "text/plain": [
       "id                                 object\n",
       "date_account_created       datetime64[ns]\n",
       "timestamp_first_active     datetime64[ns]\n",
       "date_first_booking         datetime64[ns]\n",
       "gender                             object\n",
       "age                                 int64\n",
       "signup_method                      object\n",
       "signup_flow                         int64\n",
       "language                           object\n",
       "affiliate_channel                  object\n",
       "affiliate_provider                 object\n",
       "first_affiliate_tracked            object\n",
       "signup_app                         object\n",
       "first_device_type                  object\n",
       "first_browser                      object\n",
       "country_destination                object\n",
       "dtype: object"
      ]
     },
     "execution_count": 16,
     "metadata": {},
     "output_type": "execute_result"
    }
   ],
   "source": [
    "df1.dtypes"
   ]
  },
  {
   "cell_type": "markdown",
   "metadata": {
    "hidden": true
   },
   "source": [
    "### 1.4 Check balanced data:"
   ]
  },
  {
   "cell_type": "code",
   "execution_count": 17,
   "metadata": {
    "ExecuteTime": {
     "end_time": "2021-12-28T03:04:27.580254Z",
     "start_time": "2021-12-28T03:04:27.518253Z"
    },
    "hidden": true
   },
   "outputs": [
    {
     "data": {
      "text/plain": [
       "US       0.708864\n",
       "other    0.110854\n",
       "FR       0.054085\n",
       "IT       0.029763\n",
       "GB       0.025935\n",
       "ES       0.024864\n",
       "CA       0.015696\n",
       "DE       0.012454\n",
       "NL       0.008801\n",
       "AU       0.006366\n",
       "PT       0.002318\n",
       "Name: country_destination, dtype: float64"
      ]
     },
     "execution_count": 17,
     "metadata": {},
     "output_type": "execute_result"
    }
   ],
   "source": [
    "# Observando o balanceamento da variável resposta\n",
    "df1['country_destination'].value_counts(normalize=True)\n",
    "\n",
    "# Obs: Ao excluir as linhas vazias, foi excluído todo uma classe. (NDF = na)"
   ]
  },
  {
   "cell_type": "code",
   "execution_count": 18,
   "metadata": {
    "ExecuteTime": {
     "end_time": "2021-12-28T03:04:27.625249Z",
     "start_time": "2021-12-28T03:04:27.587254Z"
    },
    "hidden": true
   },
   "outputs": [],
   "source": [
    "df = df1.copy()"
   ]
  },
  {
   "cell_type": "markdown",
   "metadata": {
    "heading_collapsed": true
   },
   "source": [
    "## 2.0. Data Filtering"
   ]
  },
  {
   "cell_type": "markdown",
   "metadata": {
    "hidden": true
   },
   "source": [
    "### 2.1. Filteringo rows"
   ]
  },
  {
   "cell_type": "markdown",
   "metadata": {
    "hidden": true
   },
   "source": [
    "### 2.2. Columns selection"
   ]
  },
  {
   "cell_type": "code",
   "execution_count": null,
   "metadata": {
    "hidden": true
   },
   "outputs": [],
   "source": []
  },
  {
   "cell_type": "markdown",
   "metadata": {
    "heading_collapsed": true
   },
   "source": [
    "## 3.0 Data Preparation"
   ]
  },
  {
   "cell_type": "code",
   "execution_count": 19,
   "metadata": {
    "ExecuteTime": {
     "end_time": "2021-12-28T03:04:27.862677Z",
     "start_time": "2021-12-28T03:04:27.628252Z"
    },
    "hidden": true
   },
   "outputs": [],
   "source": [
    "cols_categoric = ['gender',\n",
    "                'signup_method',\n",
    "                'language',\n",
    "                'affiliate_channel',\n",
    "                'affiliate_provider',\n",
    "                'first_affiliate_tracked',\n",
    "                'signup_app',\n",
    "                'first_device_type',\n",
    "                'first_browser']\n",
    "# dummy variable\n",
    "df_dummy = pd.get_dummies( df.drop( ['id','country_destination'], axis=1 ) ) # Retirando as variáveis do ID e a variável resposta (target)\n",
    "\n",
    "#join id and country destination \n",
    "df = pd.concat( [df[['id','country_destination']],df_dummy], axis=1 )"
   ]
  },
  {
   "cell_type": "code",
   "execution_count": 20,
   "metadata": {
    "ExecuteTime": {
     "end_time": "2021-12-28T03:04:27.909347Z",
     "start_time": "2021-12-28T03:04:27.863676Z"
    },
    "hidden": true
   },
   "outputs": [
    {
     "data": {
      "text/html": [
       "<div>\n",
       "<style scoped>\n",
       "    .dataframe tbody tr th:only-of-type {\n",
       "        vertical-align: middle;\n",
       "    }\n",
       "\n",
       "    .dataframe tbody tr th {\n",
       "        vertical-align: top;\n",
       "    }\n",
       "\n",
       "    .dataframe thead th {\n",
       "        text-align: right;\n",
       "    }\n",
       "</style>\n",
       "<table border=\"1\" class=\"dataframe\">\n",
       "  <thead>\n",
       "    <tr style=\"text-align: right;\">\n",
       "      <th></th>\n",
       "      <th>id</th>\n",
       "      <th>country_destination</th>\n",
       "      <th>date_account_created</th>\n",
       "      <th>timestamp_first_active</th>\n",
       "      <th>date_first_booking</th>\n",
       "      <th>age</th>\n",
       "      <th>signup_flow</th>\n",
       "      <th>gender_-unknown-</th>\n",
       "      <th>gender_FEMALE</th>\n",
       "      <th>gender_MALE</th>\n",
       "      <th>...</th>\n",
       "      <th>first_browser_Safari</th>\n",
       "      <th>first_browser_SeaMonkey</th>\n",
       "      <th>first_browser_Silk</th>\n",
       "      <th>first_browser_SiteKiosk</th>\n",
       "      <th>first_browser_SlimBrowser</th>\n",
       "      <th>first_browser_Sogou Explorer</th>\n",
       "      <th>first_browser_Stainless</th>\n",
       "      <th>first_browser_TenFourFox</th>\n",
       "      <th>first_browser_TheWorld Browser</th>\n",
       "      <th>first_browser_Yandex.Browser</th>\n",
       "    </tr>\n",
       "  </thead>\n",
       "  <tbody>\n",
       "    <tr>\n",
       "      <th>2</th>\n",
       "      <td>4ft3gnwmtx</td>\n",
       "      <td>US</td>\n",
       "      <td>2010-09-28</td>\n",
       "      <td>2009-06-09 23:12:47</td>\n",
       "      <td>2010-08-02</td>\n",
       "      <td>56</td>\n",
       "      <td>3</td>\n",
       "      <td>0</td>\n",
       "      <td>1</td>\n",
       "      <td>0</td>\n",
       "      <td>...</td>\n",
       "      <td>0</td>\n",
       "      <td>0</td>\n",
       "      <td>0</td>\n",
       "      <td>0</td>\n",
       "      <td>0</td>\n",
       "      <td>0</td>\n",
       "      <td>0</td>\n",
       "      <td>0</td>\n",
       "      <td>0</td>\n",
       "      <td>0</td>\n",
       "    </tr>\n",
       "    <tr>\n",
       "      <th>3</th>\n",
       "      <td>bjjt8pjhuk</td>\n",
       "      <td>other</td>\n",
       "      <td>2011-12-05</td>\n",
       "      <td>2009-10-31 06:01:29</td>\n",
       "      <td>2012-09-08</td>\n",
       "      <td>42</td>\n",
       "      <td>0</td>\n",
       "      <td>0</td>\n",
       "      <td>1</td>\n",
       "      <td>0</td>\n",
       "      <td>...</td>\n",
       "      <td>0</td>\n",
       "      <td>0</td>\n",
       "      <td>0</td>\n",
       "      <td>0</td>\n",
       "      <td>0</td>\n",
       "      <td>0</td>\n",
       "      <td>0</td>\n",
       "      <td>0</td>\n",
       "      <td>0</td>\n",
       "      <td>0</td>\n",
       "    </tr>\n",
       "    <tr>\n",
       "      <th>4</th>\n",
       "      <td>87mebub9p4</td>\n",
       "      <td>US</td>\n",
       "      <td>2010-09-14</td>\n",
       "      <td>2009-12-08 06:11:05</td>\n",
       "      <td>2010-02-18</td>\n",
       "      <td>41</td>\n",
       "      <td>0</td>\n",
       "      <td>1</td>\n",
       "      <td>0</td>\n",
       "      <td>0</td>\n",
       "      <td>...</td>\n",
       "      <td>0</td>\n",
       "      <td>0</td>\n",
       "      <td>0</td>\n",
       "      <td>0</td>\n",
       "      <td>0</td>\n",
       "      <td>0</td>\n",
       "      <td>0</td>\n",
       "      <td>0</td>\n",
       "      <td>0</td>\n",
       "      <td>0</td>\n",
       "    </tr>\n",
       "    <tr>\n",
       "      <th>6</th>\n",
       "      <td>lsw9q7uk0j</td>\n",
       "      <td>US</td>\n",
       "      <td>2010-01-02</td>\n",
       "      <td>2010-01-02 01:25:58</td>\n",
       "      <td>2010-01-05</td>\n",
       "      <td>46</td>\n",
       "      <td>0</td>\n",
       "      <td>0</td>\n",
       "      <td>1</td>\n",
       "      <td>0</td>\n",
       "      <td>...</td>\n",
       "      <td>1</td>\n",
       "      <td>0</td>\n",
       "      <td>0</td>\n",
       "      <td>0</td>\n",
       "      <td>0</td>\n",
       "      <td>0</td>\n",
       "      <td>0</td>\n",
       "      <td>0</td>\n",
       "      <td>0</td>\n",
       "      <td>0</td>\n",
       "    </tr>\n",
       "    <tr>\n",
       "      <th>7</th>\n",
       "      <td>0d01nltbrs</td>\n",
       "      <td>US</td>\n",
       "      <td>2010-01-03</td>\n",
       "      <td>2010-01-03 19:19:05</td>\n",
       "      <td>2010-01-13</td>\n",
       "      <td>47</td>\n",
       "      <td>0</td>\n",
       "      <td>0</td>\n",
       "      <td>1</td>\n",
       "      <td>0</td>\n",
       "      <td>...</td>\n",
       "      <td>1</td>\n",
       "      <td>0</td>\n",
       "      <td>0</td>\n",
       "      <td>0</td>\n",
       "      <td>0</td>\n",
       "      <td>0</td>\n",
       "      <td>0</td>\n",
       "      <td>0</td>\n",
       "      <td>0</td>\n",
       "      <td>0</td>\n",
       "    </tr>\n",
       "  </tbody>\n",
       "</table>\n",
       "<p>5 rows × 117 columns</p>\n",
       "</div>"
      ],
      "text/plain": [
       "           id country_destination date_account_created timestamp_first_active  \\\n",
       "2  4ft3gnwmtx                  US           2010-09-28    2009-06-09 23:12:47   \n",
       "3  bjjt8pjhuk               other           2011-12-05    2009-10-31 06:01:29   \n",
       "4  87mebub9p4                  US           2010-09-14    2009-12-08 06:11:05   \n",
       "6  lsw9q7uk0j                  US           2010-01-02    2010-01-02 01:25:58   \n",
       "7  0d01nltbrs                  US           2010-01-03    2010-01-03 19:19:05   \n",
       "\n",
       "  date_first_booking  age  signup_flow  gender_-unknown-  gender_FEMALE  \\\n",
       "2         2010-08-02   56            3                 0              1   \n",
       "3         2012-09-08   42            0                 0              1   \n",
       "4         2010-02-18   41            0                 1              0   \n",
       "6         2010-01-05   46            0                 0              1   \n",
       "7         2010-01-13   47            0                 0              1   \n",
       "\n",
       "   gender_MALE  ...  first_browser_Safari  first_browser_SeaMonkey  \\\n",
       "2            0  ...                     0                        0   \n",
       "3            0  ...                     0                        0   \n",
       "4            0  ...                     0                        0   \n",
       "6            0  ...                     1                        0   \n",
       "7            0  ...                     1                        0   \n",
       "\n",
       "   first_browser_Silk  first_browser_SiteKiosk  first_browser_SlimBrowser  \\\n",
       "2                   0                        0                          0   \n",
       "3                   0                        0                          0   \n",
       "4                   0                        0                          0   \n",
       "6                   0                        0                          0   \n",
       "7                   0                        0                          0   \n",
       "\n",
       "   first_browser_Sogou Explorer  first_browser_Stainless  \\\n",
       "2                             0                        0   \n",
       "3                             0                        0   \n",
       "4                             0                        0   \n",
       "6                             0                        0   \n",
       "7                             0                        0   \n",
       "\n",
       "   first_browser_TenFourFox  first_browser_TheWorld Browser  \\\n",
       "2                         0                               0   \n",
       "3                         0                               0   \n",
       "4                         0                               0   \n",
       "6                         0                               0   \n",
       "7                         0                               0   \n",
       "\n",
       "   first_browser_Yandex.Browser  \n",
       "2                             0  \n",
       "3                             0  \n",
       "4                             0  \n",
       "6                             0  \n",
       "7                             0  \n",
       "\n",
       "[5 rows x 117 columns]"
      ]
     },
     "execution_count": 20,
     "metadata": {},
     "output_type": "execute_result"
    }
   ],
   "source": [
    "df.head()"
   ]
  },
  {
   "cell_type": "markdown",
   "metadata": {
    "heading_collapsed": true
   },
   "source": [
    "## 4.0. Feature Selection"
   ]
  },
  {
   "cell_type": "code",
   "execution_count": 21,
   "metadata": {
    "ExecuteTime": {
     "end_time": "2021-12-28T03:04:27.973457Z",
     "start_time": "2021-12-28T03:04:27.911099Z"
    },
    "hidden": true
   },
   "outputs": [
    {
     "data": {
      "text/html": [
       "<div>\n",
       "<style scoped>\n",
       "    .dataframe tbody tr th:only-of-type {\n",
       "        vertical-align: middle;\n",
       "    }\n",
       "\n",
       "    .dataframe tbody tr th {\n",
       "        vertical-align: top;\n",
       "    }\n",
       "\n",
       "    .dataframe thead th {\n",
       "        text-align: right;\n",
       "    }\n",
       "</style>\n",
       "<table border=\"1\" class=\"dataframe\">\n",
       "  <thead>\n",
       "    <tr style=\"text-align: right;\">\n",
       "      <th></th>\n",
       "      <th>42827</th>\n",
       "    </tr>\n",
       "  </thead>\n",
       "  <tbody>\n",
       "    <tr>\n",
       "      <th>id</th>\n",
       "      <td>1zobxmt74b</td>\n",
       "    </tr>\n",
       "    <tr>\n",
       "      <th>country_destination</th>\n",
       "      <td>US</td>\n",
       "    </tr>\n",
       "    <tr>\n",
       "      <th>date_account_created</th>\n",
       "      <td>2012-09-28 00:00:00</td>\n",
       "    </tr>\n",
       "    <tr>\n",
       "      <th>timestamp_first_active</th>\n",
       "      <td>2012-09-28 21:06:10</td>\n",
       "    </tr>\n",
       "    <tr>\n",
       "      <th>date_first_booking</th>\n",
       "      <td>2012-09-30 00:00:00</td>\n",
       "    </tr>\n",
       "    <tr>\n",
       "      <th>...</th>\n",
       "      <td>...</td>\n",
       "    </tr>\n",
       "    <tr>\n",
       "      <th>first_browser_Sogou Explorer</th>\n",
       "      <td>0</td>\n",
       "    </tr>\n",
       "    <tr>\n",
       "      <th>first_browser_Stainless</th>\n",
       "      <td>0</td>\n",
       "    </tr>\n",
       "    <tr>\n",
       "      <th>first_browser_TenFourFox</th>\n",
       "      <td>0</td>\n",
       "    </tr>\n",
       "    <tr>\n",
       "      <th>first_browser_TheWorld Browser</th>\n",
       "      <td>0</td>\n",
       "    </tr>\n",
       "    <tr>\n",
       "      <th>first_browser_Yandex.Browser</th>\n",
       "      <td>0</td>\n",
       "    </tr>\n",
       "  </tbody>\n",
       "</table>\n",
       "<p>117 rows × 1 columns</p>\n",
       "</div>"
      ],
      "text/plain": [
       "                                              42827\n",
       "id                                       1zobxmt74b\n",
       "country_destination                              US\n",
       "date_account_created            2012-09-28 00:00:00\n",
       "timestamp_first_active          2012-09-28 21:06:10\n",
       "date_first_booking              2012-09-30 00:00:00\n",
       "...                                             ...\n",
       "first_browser_Sogou Explorer                      0\n",
       "first_browser_Stainless                           0\n",
       "first_browser_TenFourFox                          0\n",
       "first_browser_TheWorld Browser                    0\n",
       "first_browser_Yandex.Browser                      0\n",
       "\n",
       "[117 rows x 1 columns]"
      ]
     },
     "execution_count": 21,
     "metadata": {},
     "output_type": "execute_result"
    }
   ],
   "source": [
    "df.sample().T"
   ]
  },
  {
   "cell_type": "code",
   "execution_count": 22,
   "metadata": {
    "ExecuteTime": {
     "end_time": "2021-12-28T03:04:28.004732Z",
     "start_time": "2021-12-28T03:04:27.975419Z"
    },
    "hidden": true
   },
   "outputs": [],
   "source": [
    "cols_drop = ['id','date_account_created','timestamp_first_active','date_first_booking'] # Original Dates\n",
    "df=df.drop(cols_drop,axis=1)\n",
    "#df.dtypes"
   ]
  },
  {
   "cell_type": "code",
   "execution_count": 23,
   "metadata": {
    "ExecuteTime": {
     "end_time": "2021-12-28T03:04:28.035663Z",
     "start_time": "2021-12-28T03:04:28.006423Z"
    },
    "hidden": true
   },
   "outputs": [],
   "source": [
    "X = df.drop('country_destination', axis=1)\n",
    "y = df['country_destination'].copy()"
   ]
  },
  {
   "cell_type": "code",
   "execution_count": 24,
   "metadata": {
    "ExecuteTime": {
     "end_time": "2021-12-28T03:04:28.083417Z",
     "start_time": "2021-12-28T03:04:28.037420Z"
    },
    "hidden": true
   },
   "outputs": [
    {
     "data": {
      "text/html": [
       "<div>\n",
       "<style scoped>\n",
       "    .dataframe tbody tr th:only-of-type {\n",
       "        vertical-align: middle;\n",
       "    }\n",
       "\n",
       "    .dataframe tbody tr th {\n",
       "        vertical-align: top;\n",
       "    }\n",
       "\n",
       "    .dataframe thead th {\n",
       "        text-align: right;\n",
       "    }\n",
       "</style>\n",
       "<table border=\"1\" class=\"dataframe\">\n",
       "  <thead>\n",
       "    <tr style=\"text-align: right;\">\n",
       "      <th></th>\n",
       "      <th>age</th>\n",
       "      <th>signup_flow</th>\n",
       "      <th>gender_-unknown-</th>\n",
       "      <th>gender_FEMALE</th>\n",
       "      <th>gender_MALE</th>\n",
       "      <th>gender_OTHER</th>\n",
       "      <th>signup_method_basic</th>\n",
       "      <th>signup_method_facebook</th>\n",
       "      <th>signup_method_google</th>\n",
       "      <th>language_ca</th>\n",
       "      <th>...</th>\n",
       "      <th>first_browser_Safari</th>\n",
       "      <th>first_browser_SeaMonkey</th>\n",
       "      <th>first_browser_Silk</th>\n",
       "      <th>first_browser_SiteKiosk</th>\n",
       "      <th>first_browser_SlimBrowser</th>\n",
       "      <th>first_browser_Sogou Explorer</th>\n",
       "      <th>first_browser_Stainless</th>\n",
       "      <th>first_browser_TenFourFox</th>\n",
       "      <th>first_browser_TheWorld Browser</th>\n",
       "      <th>first_browser_Yandex.Browser</th>\n",
       "    </tr>\n",
       "  </thead>\n",
       "  <tbody>\n",
       "    <tr>\n",
       "      <th>2</th>\n",
       "      <td>56</td>\n",
       "      <td>3</td>\n",
       "      <td>0</td>\n",
       "      <td>1</td>\n",
       "      <td>0</td>\n",
       "      <td>0</td>\n",
       "      <td>1</td>\n",
       "      <td>0</td>\n",
       "      <td>0</td>\n",
       "      <td>0</td>\n",
       "      <td>...</td>\n",
       "      <td>0</td>\n",
       "      <td>0</td>\n",
       "      <td>0</td>\n",
       "      <td>0</td>\n",
       "      <td>0</td>\n",
       "      <td>0</td>\n",
       "      <td>0</td>\n",
       "      <td>0</td>\n",
       "      <td>0</td>\n",
       "      <td>0</td>\n",
       "    </tr>\n",
       "    <tr>\n",
       "      <th>3</th>\n",
       "      <td>42</td>\n",
       "      <td>0</td>\n",
       "      <td>0</td>\n",
       "      <td>1</td>\n",
       "      <td>0</td>\n",
       "      <td>0</td>\n",
       "      <td>0</td>\n",
       "      <td>1</td>\n",
       "      <td>0</td>\n",
       "      <td>0</td>\n",
       "      <td>...</td>\n",
       "      <td>0</td>\n",
       "      <td>0</td>\n",
       "      <td>0</td>\n",
       "      <td>0</td>\n",
       "      <td>0</td>\n",
       "      <td>0</td>\n",
       "      <td>0</td>\n",
       "      <td>0</td>\n",
       "      <td>0</td>\n",
       "      <td>0</td>\n",
       "    </tr>\n",
       "    <tr>\n",
       "      <th>4</th>\n",
       "      <td>41</td>\n",
       "      <td>0</td>\n",
       "      <td>1</td>\n",
       "      <td>0</td>\n",
       "      <td>0</td>\n",
       "      <td>0</td>\n",
       "      <td>1</td>\n",
       "      <td>0</td>\n",
       "      <td>0</td>\n",
       "      <td>0</td>\n",
       "      <td>...</td>\n",
       "      <td>0</td>\n",
       "      <td>0</td>\n",
       "      <td>0</td>\n",
       "      <td>0</td>\n",
       "      <td>0</td>\n",
       "      <td>0</td>\n",
       "      <td>0</td>\n",
       "      <td>0</td>\n",
       "      <td>0</td>\n",
       "      <td>0</td>\n",
       "    </tr>\n",
       "    <tr>\n",
       "      <th>6</th>\n",
       "      <td>46</td>\n",
       "      <td>0</td>\n",
       "      <td>0</td>\n",
       "      <td>1</td>\n",
       "      <td>0</td>\n",
       "      <td>0</td>\n",
       "      <td>1</td>\n",
       "      <td>0</td>\n",
       "      <td>0</td>\n",
       "      <td>0</td>\n",
       "      <td>...</td>\n",
       "      <td>1</td>\n",
       "      <td>0</td>\n",
       "      <td>0</td>\n",
       "      <td>0</td>\n",
       "      <td>0</td>\n",
       "      <td>0</td>\n",
       "      <td>0</td>\n",
       "      <td>0</td>\n",
       "      <td>0</td>\n",
       "      <td>0</td>\n",
       "    </tr>\n",
       "    <tr>\n",
       "      <th>7</th>\n",
       "      <td>47</td>\n",
       "      <td>0</td>\n",
       "      <td>0</td>\n",
       "      <td>1</td>\n",
       "      <td>0</td>\n",
       "      <td>0</td>\n",
       "      <td>1</td>\n",
       "      <td>0</td>\n",
       "      <td>0</td>\n",
       "      <td>0</td>\n",
       "      <td>...</td>\n",
       "      <td>1</td>\n",
       "      <td>0</td>\n",
       "      <td>0</td>\n",
       "      <td>0</td>\n",
       "      <td>0</td>\n",
       "      <td>0</td>\n",
       "      <td>0</td>\n",
       "      <td>0</td>\n",
       "      <td>0</td>\n",
       "      <td>0</td>\n",
       "    </tr>\n",
       "    <tr>\n",
       "      <th>...</th>\n",
       "      <td>...</td>\n",
       "      <td>...</td>\n",
       "      <td>...</td>\n",
       "      <td>...</td>\n",
       "      <td>...</td>\n",
       "      <td>...</td>\n",
       "      <td>...</td>\n",
       "      <td>...</td>\n",
       "      <td>...</td>\n",
       "      <td>...</td>\n",
       "      <td>...</td>\n",
       "      <td>...</td>\n",
       "      <td>...</td>\n",
       "      <td>...</td>\n",
       "      <td>...</td>\n",
       "      <td>...</td>\n",
       "      <td>...</td>\n",
       "      <td>...</td>\n",
       "      <td>...</td>\n",
       "      <td>...</td>\n",
       "      <td>...</td>\n",
       "    </tr>\n",
       "    <tr>\n",
       "      <th>213415</th>\n",
       "      <td>55</td>\n",
       "      <td>0</td>\n",
       "      <td>1</td>\n",
       "      <td>0</td>\n",
       "      <td>0</td>\n",
       "      <td>0</td>\n",
       "      <td>1</td>\n",
       "      <td>0</td>\n",
       "      <td>0</td>\n",
       "      <td>0</td>\n",
       "      <td>...</td>\n",
       "      <td>0</td>\n",
       "      <td>0</td>\n",
       "      <td>0</td>\n",
       "      <td>0</td>\n",
       "      <td>0</td>\n",
       "      <td>0</td>\n",
       "      <td>0</td>\n",
       "      <td>0</td>\n",
       "      <td>0</td>\n",
       "      <td>0</td>\n",
       "    </tr>\n",
       "    <tr>\n",
       "      <th>213439</th>\n",
       "      <td>43</td>\n",
       "      <td>0</td>\n",
       "      <td>0</td>\n",
       "      <td>0</td>\n",
       "      <td>1</td>\n",
       "      <td>0</td>\n",
       "      <td>1</td>\n",
       "      <td>0</td>\n",
       "      <td>0</td>\n",
       "      <td>0</td>\n",
       "      <td>...</td>\n",
       "      <td>0</td>\n",
       "      <td>0</td>\n",
       "      <td>0</td>\n",
       "      <td>0</td>\n",
       "      <td>0</td>\n",
       "      <td>0</td>\n",
       "      <td>0</td>\n",
       "      <td>0</td>\n",
       "      <td>0</td>\n",
       "      <td>0</td>\n",
       "    </tr>\n",
       "    <tr>\n",
       "      <th>213441</th>\n",
       "      <td>34</td>\n",
       "      <td>0</td>\n",
       "      <td>0</td>\n",
       "      <td>1</td>\n",
       "      <td>0</td>\n",
       "      <td>0</td>\n",
       "      <td>1</td>\n",
       "      <td>0</td>\n",
       "      <td>0</td>\n",
       "      <td>0</td>\n",
       "      <td>...</td>\n",
       "      <td>0</td>\n",
       "      <td>0</td>\n",
       "      <td>0</td>\n",
       "      <td>0</td>\n",
       "      <td>0</td>\n",
       "      <td>0</td>\n",
       "      <td>0</td>\n",
       "      <td>0</td>\n",
       "      <td>0</td>\n",
       "      <td>0</td>\n",
       "    </tr>\n",
       "    <tr>\n",
       "      <th>213443</th>\n",
       "      <td>36</td>\n",
       "      <td>0</td>\n",
       "      <td>0</td>\n",
       "      <td>1</td>\n",
       "      <td>0</td>\n",
       "      <td>0</td>\n",
       "      <td>1</td>\n",
       "      <td>0</td>\n",
       "      <td>0</td>\n",
       "      <td>0</td>\n",
       "      <td>...</td>\n",
       "      <td>1</td>\n",
       "      <td>0</td>\n",
       "      <td>0</td>\n",
       "      <td>0</td>\n",
       "      <td>0</td>\n",
       "      <td>0</td>\n",
       "      <td>0</td>\n",
       "      <td>0</td>\n",
       "      <td>0</td>\n",
       "      <td>0</td>\n",
       "    </tr>\n",
       "    <tr>\n",
       "      <th>213445</th>\n",
       "      <td>23</td>\n",
       "      <td>0</td>\n",
       "      <td>0</td>\n",
       "      <td>1</td>\n",
       "      <td>0</td>\n",
       "      <td>0</td>\n",
       "      <td>1</td>\n",
       "      <td>0</td>\n",
       "      <td>0</td>\n",
       "      <td>0</td>\n",
       "      <td>...</td>\n",
       "      <td>0</td>\n",
       "      <td>0</td>\n",
       "      <td>0</td>\n",
       "      <td>0</td>\n",
       "      <td>0</td>\n",
       "      <td>0</td>\n",
       "      <td>0</td>\n",
       "      <td>0</td>\n",
       "      <td>0</td>\n",
       "      <td>0</td>\n",
       "    </tr>\n",
       "  </tbody>\n",
       "</table>\n",
       "<p>68171 rows × 112 columns</p>\n",
       "</div>"
      ],
      "text/plain": [
       "        age  signup_flow  gender_-unknown-  gender_FEMALE  gender_MALE  \\\n",
       "2        56            3                 0              1            0   \n",
       "3        42            0                 0              1            0   \n",
       "4        41            0                 1              0            0   \n",
       "6        46            0                 0              1            0   \n",
       "7        47            0                 0              1            0   \n",
       "...     ...          ...               ...            ...          ...   \n",
       "213415   55            0                 1              0            0   \n",
       "213439   43            0                 0              0            1   \n",
       "213441   34            0                 0              1            0   \n",
       "213443   36            0                 0              1            0   \n",
       "213445   23            0                 0              1            0   \n",
       "\n",
       "        gender_OTHER  signup_method_basic  signup_method_facebook  \\\n",
       "2                  0                    1                       0   \n",
       "3                  0                    0                       1   \n",
       "4                  0                    1                       0   \n",
       "6                  0                    1                       0   \n",
       "7                  0                    1                       0   \n",
       "...              ...                  ...                     ...   \n",
       "213415             0                    1                       0   \n",
       "213439             0                    1                       0   \n",
       "213441             0                    1                       0   \n",
       "213443             0                    1                       0   \n",
       "213445             0                    1                       0   \n",
       "\n",
       "        signup_method_google  language_ca  ...  first_browser_Safari  \\\n",
       "2                          0            0  ...                     0   \n",
       "3                          0            0  ...                     0   \n",
       "4                          0            0  ...                     0   \n",
       "6                          0            0  ...                     1   \n",
       "7                          0            0  ...                     1   \n",
       "...                      ...          ...  ...                   ...   \n",
       "213415                     0            0  ...                     0   \n",
       "213439                     0            0  ...                     0   \n",
       "213441                     0            0  ...                     0   \n",
       "213443                     0            0  ...                     1   \n",
       "213445                     0            0  ...                     0   \n",
       "\n",
       "        first_browser_SeaMonkey  first_browser_Silk  first_browser_SiteKiosk  \\\n",
       "2                             0                   0                        0   \n",
       "3                             0                   0                        0   \n",
       "4                             0                   0                        0   \n",
       "6                             0                   0                        0   \n",
       "7                             0                   0                        0   \n",
       "...                         ...                 ...                      ...   \n",
       "213415                        0                   0                        0   \n",
       "213439                        0                   0                        0   \n",
       "213441                        0                   0                        0   \n",
       "213443                        0                   0                        0   \n",
       "213445                        0                   0                        0   \n",
       "\n",
       "        first_browser_SlimBrowser  first_browser_Sogou Explorer  \\\n",
       "2                               0                             0   \n",
       "3                               0                             0   \n",
       "4                               0                             0   \n",
       "6                               0                             0   \n",
       "7                               0                             0   \n",
       "...                           ...                           ...   \n",
       "213415                          0                             0   \n",
       "213439                          0                             0   \n",
       "213441                          0                             0   \n",
       "213443                          0                             0   \n",
       "213445                          0                             0   \n",
       "\n",
       "        first_browser_Stainless  first_browser_TenFourFox  \\\n",
       "2                             0                         0   \n",
       "3                             0                         0   \n",
       "4                             0                         0   \n",
       "6                             0                         0   \n",
       "7                             0                         0   \n",
       "...                         ...                       ...   \n",
       "213415                        0                         0   \n",
       "213439                        0                         0   \n",
       "213441                        0                         0   \n",
       "213443                        0                         0   \n",
       "213445                        0                         0   \n",
       "\n",
       "        first_browser_TheWorld Browser  first_browser_Yandex.Browser  \n",
       "2                                    0                             0  \n",
       "3                                    0                             0  \n",
       "4                                    0                             0  \n",
       "6                                    0                             0  \n",
       "7                                    0                             0  \n",
       "...                                ...                           ...  \n",
       "213415                               0                             0  \n",
       "213439                               0                             0  \n",
       "213441                               0                             0  \n",
       "213443                               0                             0  \n",
       "213445                               0                             0  \n",
       "\n",
       "[68171 rows x 112 columns]"
      ]
     },
     "execution_count": 24,
     "metadata": {},
     "output_type": "execute_result"
    }
   ],
   "source": [
    "X"
   ]
  },
  {
   "cell_type": "markdown",
   "metadata": {
    "heading_collapsed": true
   },
   "source": [
    "## 5.0. Machine Learning Model - Neural Network MLP"
   ]
  },
  {
   "cell_type": "code",
   "execution_count": 25,
   "metadata": {
    "ExecuteTime": {
     "end_time": "2021-12-28T03:04:28.194454Z",
     "start_time": "2021-12-28T03:04:28.085421Z"
    },
    "hidden": true
   },
   "outputs": [],
   "source": [
    "# Split Dataset into training and test\n",
    "x_train, x_test, y_train, y_test = ms.train_test_split(\n",
    "                                                        X,\n",
    "                                                        y,\n",
    "                                                        test_size = 0.25,\n",
    "                                                        random_state=42\n",
    "                                                        )"
   ]
  },
  {
   "cell_type": "code",
   "execution_count": 26,
   "metadata": {
    "ExecuteTime": {
     "end_time": "2021-12-28T03:04:28.209424Z",
     "start_time": "2021-12-28T03:04:28.198424Z"
    },
    "hidden": true
   },
   "outputs": [],
   "source": [
    "#y_train.values # Tem que transformar em valores numéricos. Utiliza-se o One Hot Encoding"
   ]
  },
  {
   "cell_type": "code",
   "execution_count": 27,
   "metadata": {
    "ExecuteTime": {
     "end_time": "2021-12-28T03:04:28.225423Z",
     "start_time": "2021-12-28T03:04:28.214425Z"
    },
    "hidden": true
   },
   "outputs": [],
   "source": [
    "#y_train.values.reshape(-1,1)"
   ]
  },
  {
   "cell_type": "code",
   "execution_count": 28,
   "metadata": {
    "ExecuteTime": {
     "end_time": "2021-12-28T03:04:28.271427Z",
     "start_time": "2021-12-28T03:04:28.229483Z"
    },
    "hidden": true
   },
   "outputs": [],
   "source": [
    "ohe = pp.OneHotEncoder()\n",
    "y_ohe = y_train.values.reshape(-1,1)\n",
    "y_train_nn = ohe.fit_transform(y_ohe).toarray()"
   ]
  },
  {
   "cell_type": "code",
   "execution_count": 29,
   "metadata": {
    "ExecuteTime": {
     "end_time": "2021-12-28T03:04:28.287421Z",
     "start_time": "2021-12-28T03:04:28.275422Z"
    },
    "hidden": true
   },
   "outputs": [],
   "source": [
    "#y_train_nn.shape"
   ]
  },
  {
   "cell_type": "code",
   "execution_count": 30,
   "metadata": {
    "ExecuteTime": {
     "end_time": "2021-12-28T03:07:40.063332Z",
     "start_time": "2021-12-28T03:04:28.289420Z"
    },
    "hidden": true
   },
   "outputs": [
    {
     "name": "stdout",
     "output_type": "stream",
     "text": [
      "Epoch 1/100\n",
      "1598/1598 [==============================] - 4s 1ms/step - loss: 1.3634 - accuracy: 0.7021\n",
      "Epoch 2/100\n",
      "1598/1598 [==============================] - 2s 1ms/step - loss: 1.3097 - accuracy: 0.7044\n",
      "Epoch 3/100\n",
      "1598/1598 [==============================] - 2s 1ms/step - loss: 1.2613 - accuracy: 0.7065\n",
      "Epoch 4/100\n",
      "1598/1598 [==============================] - 2s 1ms/step - loss: 1.2494 - accuracy: 0.7060\n",
      "Epoch 5/100\n",
      "1598/1598 [==============================] - 2s 1ms/step - loss: 1.2330 - accuracy: 0.7064\n",
      "Epoch 6/100\n",
      "1598/1598 [==============================] - 2s 1ms/step - loss: 1.2135 - accuracy: 0.7069\n",
      "Epoch 7/100\n",
      "1598/1598 [==============================] - 2s 1ms/step - loss: 1.2020 - accuracy: 0.7067\n",
      "Epoch 8/100\n",
      "1598/1598 [==============================] - 2s 1ms/step - loss: 1.1861 - accuracy: 0.7070\n",
      "Epoch 9/100\n",
      "1598/1598 [==============================] - 2s 1ms/step - loss: 1.1694 - accuracy: 0.7069\n",
      "Epoch 10/100\n",
      "1598/1598 [==============================] - 2s 1ms/step - loss: 1.1637 - accuracy: 0.7070\n",
      "Epoch 11/100\n",
      "1598/1598 [==============================] - 2s 1ms/step - loss: 1.1553 - accuracy: 0.7069\n",
      "Epoch 12/100\n",
      "1598/1598 [==============================] - 2s 1ms/step - loss: 1.1507 - accuracy: 0.7072\n",
      "Epoch 13/100\n",
      "1598/1598 [==============================] - 2s 1ms/step - loss: 1.1437 - accuracy: 0.7072\n",
      "Epoch 14/100\n",
      "1598/1598 [==============================] - 2s 1ms/step - loss: 1.1410 - accuracy: 0.7073: 0s - loss: 1.1\n",
      "Epoch 15/100\n",
      "1598/1598 [==============================] - 2s 1ms/step - loss: 1.1377 - accuracy: 0.7074\n",
      "Epoch 16/100\n",
      "1598/1598 [==============================] - 2s 1ms/step - loss: 1.1350 - accuracy: 0.7078\n",
      "Epoch 17/100\n",
      "1598/1598 [==============================] - 2s 1ms/step - loss: 1.1347 - accuracy: 0.7080\n",
      "Epoch 18/100\n",
      "1598/1598 [==============================] - 2s 1ms/step - loss: 1.1335 - accuracy: 0.7079\n",
      "Epoch 19/100\n",
      "1598/1598 [==============================] - 3s 2ms/step - loss: 1.1313 - accuracy: 0.7079\n",
      "Epoch 20/100\n",
      "1598/1598 [==============================] - 2s 1ms/step - loss: 1.1300 - accuracy: 0.7081\n",
      "Epoch 21/100\n",
      "1598/1598 [==============================] - 2s 1ms/step - loss: 1.1300 - accuracy: 0.7079\n",
      "Epoch 22/100\n",
      "1598/1598 [==============================] - 2s 1ms/step - loss: 1.1277 - accuracy: 0.7081\n",
      "Epoch 23/100\n",
      "1598/1598 [==============================] - 2s 1ms/step - loss: 1.1266 - accuracy: 0.7080\n",
      "Epoch 24/100\n",
      "1598/1598 [==============================] - 2s 1ms/step - loss: 1.1271 - accuracy: 0.7081\n",
      "Epoch 25/100\n",
      "1598/1598 [==============================] - 2s 1ms/step - loss: 1.1259 - accuracy: 0.7082\n",
      "Epoch 26/100\n",
      "1598/1598 [==============================] - 2s 1ms/step - loss: 1.1256 - accuracy: 0.7082\n",
      "Epoch 27/100\n",
      "1598/1598 [==============================] - 2s 1ms/step - loss: 1.1248 - accuracy: 0.7081\n",
      "Epoch 28/100\n",
      "1598/1598 [==============================] - 2s 1ms/step - loss: 1.1237 - accuracy: 0.7081\n",
      "Epoch 29/100\n",
      "1598/1598 [==============================] - 2s 1ms/step - loss: 1.1229 - accuracy: 0.7083\n",
      "Epoch 30/100\n",
      "1598/1598 [==============================] - 2s 1ms/step - loss: 1.1225 - accuracy: 0.7083\n",
      "Epoch 31/100\n",
      "1598/1598 [==============================] - 2s 1ms/step - loss: 1.1215 - accuracy: 0.7083\n",
      "Epoch 32/100\n",
      "1598/1598 [==============================] - 2s 1ms/step - loss: 1.1215 - accuracy: 0.7083\n",
      "Epoch 33/100\n",
      "1598/1598 [==============================] - 2s 1ms/step - loss: 1.1201 - accuracy: 0.7085\n",
      "Epoch 34/100\n",
      "1598/1598 [==============================] - 2s 1ms/step - loss: 1.1193 - accuracy: 0.7084\n",
      "Epoch 35/100\n",
      "1598/1598 [==============================] - 2s 1ms/step - loss: 1.1189 - accuracy: 0.7084\n",
      "Epoch 36/100\n",
      "1598/1598 [==============================] - 2s 1ms/step - loss: 1.1186 - accuracy: 0.7084\n",
      "Epoch 37/100\n",
      "1598/1598 [==============================] - 2s 1ms/step - loss: 1.1174 - accuracy: 0.7085\n",
      "Epoch 38/100\n",
      "1598/1598 [==============================] - 2s 1ms/step - loss: 1.1172 - accuracy: 0.7087\n",
      "Epoch 39/100\n",
      "1598/1598 [==============================] - 2s 1ms/step - loss: 1.1172 - accuracy: 0.7086\n",
      "Epoch 40/100\n",
      "1598/1598 [==============================] - 2s 1ms/step - loss: 1.1165 - accuracy: 0.7085\n",
      "Epoch 41/100\n",
      "1598/1598 [==============================] - 2s 1ms/step - loss: 1.1156 - accuracy: 0.7086\n",
      "Epoch 42/100\n",
      "1598/1598 [==============================] - 2s 1ms/step - loss: 1.1153 - accuracy: 0.7088\n",
      "Epoch 43/100\n",
      "1598/1598 [==============================] - 2s 1ms/step - loss: 1.1157 - accuracy: 0.7089\n",
      "Epoch 44/100\n",
      "1598/1598 [==============================] - 3s 2ms/step - loss: 1.1148 - accuracy: 0.7087\n",
      "Epoch 45/100\n",
      "1598/1598 [==============================] - 2s 1ms/step - loss: 1.1143 - accuracy: 0.7089\n",
      "Epoch 46/100\n",
      "1598/1598 [==============================] - 2s 1ms/step - loss: 1.1142 - accuracy: 0.7089: 0s - loss:\n",
      "Epoch 47/100\n",
      "1598/1598 [==============================] - 2s 1ms/step - loss: 1.1134 - accuracy: 0.7088\n",
      "Epoch 48/100\n",
      "1598/1598 [==============================] - 2s 1ms/step - loss: 1.1133 - accuracy: 0.7092\n",
      "Epoch 49/100\n",
      "1598/1598 [==============================] - 2s 1ms/step - loss: 1.1130 - accuracy: 0.7091\n",
      "Epoch 50/100\n",
      "1598/1598 [==============================] - 2s 1ms/step - loss: 1.1116 - accuracy: 0.7091\n",
      "Epoch 51/100\n",
      "1598/1598 [==============================] - 2s 1ms/step - loss: 1.1120 - accuracy: 0.7094\n",
      "Epoch 52/100\n",
      "1598/1598 [==============================] - 2s 1ms/step - loss: 1.1116 - accuracy: 0.7092\n",
      "Epoch 53/100\n",
      "1598/1598 [==============================] - 2s 1ms/step - loss: 1.1109 - accuracy: 0.7094\n",
      "Epoch 54/100\n",
      "1598/1598 [==============================] - 2s 1ms/step - loss: 1.1109 - accuracy: 0.7093\n",
      "Epoch 55/100\n",
      "1598/1598 [==============================] - 2s 1ms/step - loss: 1.1118 - accuracy: 0.7095\n",
      "Epoch 56/100\n",
      "1598/1598 [==============================] - 2s 1ms/step - loss: 1.1101 - accuracy: 0.7094\n",
      "Epoch 57/100\n",
      "1598/1598 [==============================] - 2s 1ms/step - loss: 1.1089 - accuracy: 0.7096\n",
      "Epoch 58/100\n",
      "1598/1598 [==============================] - 2s 1ms/step - loss: 1.1090 - accuracy: 0.7097\n",
      "Epoch 59/100\n",
      "1598/1598 [==============================] - 2s 1ms/step - loss: 1.1091 - accuracy: 0.7096\n",
      "Epoch 60/100\n",
      "1598/1598 [==============================] - 2s 1ms/step - loss: 1.1093 - accuracy: 0.7095\n",
      "Epoch 61/100\n",
      "1598/1598 [==============================] - 2s 1ms/step - loss: 1.1079 - accuracy: 0.7095\n",
      "Epoch 62/100\n",
      "1598/1598 [==============================] - 2s 1ms/step - loss: 1.1076 - accuracy: 0.7097\n",
      "Epoch 63/100\n",
      "1598/1598 [==============================] - 2s 1ms/step - loss: 1.1074 - accuracy: 0.7096\n",
      "Epoch 64/100\n",
      "1598/1598 [==============================] - 2s 1ms/step - loss: 1.1066 - accuracy: 0.7099\n",
      "Epoch 65/100\n",
      "1598/1598 [==============================] - 2s 1ms/step - loss: 1.1078 - accuracy: 0.7096\n",
      "Epoch 66/100\n",
      "1598/1598 [==============================] - 2s 1ms/step - loss: 1.1063 - accuracy: 0.7096\n",
      "Epoch 67/100\n",
      "1598/1598 [==============================] - 2s 1ms/step - loss: 1.1058 - accuracy: 0.7098\n",
      "Epoch 68/100\n",
      "1598/1598 [==============================] - 2s 1ms/step - loss: 1.1065 - accuracy: 0.7099\n",
      "Epoch 69/100\n",
      "1598/1598 [==============================] - 2s 1ms/step - loss: 1.1061 - accuracy: 0.7100\n",
      "Epoch 70/100\n",
      "1598/1598 [==============================] - 2s 1ms/step - loss: 1.1059 - accuracy: 0.7099\n",
      "Epoch 71/100\n",
      "1598/1598 [==============================] - 2s 1ms/step - loss: 1.1044 - accuracy: 0.7099\n",
      "Epoch 72/100\n",
      "1598/1598 [==============================] - 2s 1ms/step - loss: 1.1047 - accuracy: 0.7100\n",
      "Epoch 73/100\n",
      "1598/1598 [==============================] - 2s 1ms/step - loss: 1.1036 - accuracy: 0.7101\n",
      "Epoch 74/100\n",
      "1598/1598 [==============================] - 2s 1ms/step - loss: 1.1040 - accuracy: 0.7103\n",
      "Epoch 75/100\n",
      "1598/1598 [==============================] - 2s 1ms/step - loss: 1.1032 - accuracy: 0.7100\n",
      "Epoch 76/100\n",
      "1598/1598 [==============================] - 2s 1ms/step - loss: 1.1031 - accuracy: 0.7102: 0s - loss: 1\n",
      "Epoch 77/100\n",
      "1598/1598 [==============================] - 2s 1ms/step - loss: 1.1034 - accuracy: 0.7103\n",
      "Epoch 78/100\n",
      "1598/1598 [==============================] - 2s 1ms/step - loss: 1.1031 - accuracy: 0.7104\n",
      "Epoch 79/100\n"
     ]
    },
    {
     "name": "stdout",
     "output_type": "stream",
     "text": [
      "1598/1598 [==============================] - 2s 1ms/step - loss: 1.1032 - accuracy: 0.7103\n",
      "Epoch 80/100\n",
      "1598/1598 [==============================] - 2s 1ms/step - loss: 1.1021 - accuracy: 0.7102\n",
      "Epoch 81/100\n",
      "1598/1598 [==============================] - 2s 1ms/step - loss: 1.1019 - accuracy: 0.7105: 0s - loss: 1.0999 \n",
      "Epoch 82/100\n",
      "1598/1598 [==============================] - 2s 1ms/step - loss: 1.1019 - accuracy: 0.7106\n",
      "Epoch 83/100\n",
      "1598/1598 [==============================] - 2s 1ms/step - loss: 1.1018 - accuracy: 0.7107\n",
      "Epoch 84/100\n",
      "1598/1598 [==============================] - 2s 1ms/step - loss: 1.1014 - accuracy: 0.7108\n",
      "Epoch 85/100\n",
      "1598/1598 [==============================] - 2s 1ms/step - loss: 1.1014 - accuracy: 0.7103\n",
      "Epoch 86/100\n",
      "1598/1598 [==============================] - 2s 1ms/step - loss: 1.1010 - accuracy: 0.7107\n",
      "Epoch 87/100\n",
      "1598/1598 [==============================] - 2s 1ms/step - loss: 1.1012 - accuracy: 0.7106\n",
      "Epoch 88/100\n",
      "1598/1598 [==============================] - 2s 1ms/step - loss: 1.1013 - accuracy: 0.7108\n",
      "Epoch 89/100\n",
      "1598/1598 [==============================] - 2s 1ms/step - loss: 1.1004 - accuracy: 0.7108\n",
      "Epoch 90/100\n",
      "1598/1598 [==============================] - 2s 1ms/step - loss: 1.1002 - accuracy: 0.7108\n",
      "Epoch 91/100\n",
      "1598/1598 [==============================] - 2s 1ms/step - loss: 1.1000 - accuracy: 0.7105\n",
      "Epoch 92/100\n",
      "1598/1598 [==============================] - 2s 1ms/step - loss: 1.1008 - accuracy: 0.7108\n",
      "Epoch 93/100\n",
      "1598/1598 [==============================] - 2s 1ms/step - loss: 1.1004 - accuracy: 0.7105\n",
      "Epoch 94/100\n",
      "1598/1598 [==============================] - 2s 1ms/step - loss: 1.0998 - accuracy: 0.7106\n",
      "Epoch 95/100\n",
      "1598/1598 [==============================] - 2s 1ms/step - loss: 1.0998 - accuracy: 0.7107\n",
      "Epoch 96/100\n",
      "1598/1598 [==============================] - 2s 1ms/step - loss: 1.0991 - accuracy: 0.7108\n",
      "Epoch 97/100\n",
      "1598/1598 [==============================] - 2s 1ms/step - loss: 1.0996 - accuracy: 0.7112\n",
      "Epoch 98/100\n",
      "1598/1598 [==============================] - 2s 1ms/step - loss: 1.0997 - accuracy: 0.7108\n",
      "Epoch 99/100\n",
      "1598/1598 [==============================] - 2s 1ms/step - loss: 1.0986 - accuracy: 0.7110\n",
      "Epoch 100/100\n",
      "1598/1598 [==============================] - 2s 1ms/step - loss: 1.0988 - accuracy: 0.7113\n"
     ]
    },
    {
     "data": {
      "text/plain": [
       "<keras.callbacks.History at 0x284aa0b2820>"
      ]
     },
     "execution_count": 30,
     "metadata": {},
     "output_type": "execute_result"
    }
   ],
   "source": [
    "# Model definition\n",
    "model = ml.Sequential()\n",
    "model.add( l.Dense (\n",
    "                100,\n",
    "                input_dim =x_train.shape[1],\n",
    "                activation = 'relu' \n",
    "                ) ) # Irá adicionar as Layers da rede neural .. Camada de entrada\n",
    "\n",
    "model.add( l.Dense (\n",
    "                    11, #11 por causa do número de saídas\n",
    "                    activation = 'softmax' \n",
    "                    )\n",
    "                    )\n",
    "\n",
    "# Model compile\n",
    "model.compile(loss='categorical_crossentropy',optimizer='adam', metrics=['accuracy'])\n",
    "\n",
    "# train model\n",
    "model.fit(x_train, y_train_nn, epochs=100)"
   ]
  },
  {
   "cell_type": "markdown",
   "metadata": {
    "heading_collapsed": true
   },
   "source": [
    "## 6.0. NN Performance"
   ]
  },
  {
   "cell_type": "code",
   "execution_count": 31,
   "metadata": {
    "ExecuteTime": {
     "end_time": "2021-12-28T03:07:40.679815Z",
     "start_time": "2021-12-28T03:07:40.065335Z"
    },
    "hidden": true
   },
   "outputs": [],
   "source": [
    "# prediction \n",
    "pred_nn = model.predict( x_test )"
   ]
  },
  {
   "cell_type": "code",
   "execution_count": 32,
   "metadata": {
    "ExecuteTime": {
     "end_time": "2021-12-28T03:07:40.695515Z",
     "start_time": "2021-12-28T03:07:40.679815Z"
    },
    "hidden": true
   },
   "outputs": [],
   "source": [
    "# Invert prediction\n",
    "yhat_nn = ohe.inverse_transform( pred_nn )"
   ]
  },
  {
   "cell_type": "code",
   "execution_count": 33,
   "metadata": {
    "ExecuteTime": {
     "end_time": "2021-12-28T03:07:40.711070Z",
     "start_time": "2021-12-28T03:07:40.697473Z"
    },
    "hidden": true
   },
   "outputs": [],
   "source": [
    "\n",
    "\n",
    "# Prediction prepare\n",
    "y_test_nn = y_test.to_numpy()\n",
    "yhat_nn = yhat_nn.reshape(1 , -1 )[0]"
   ]
  },
  {
   "cell_type": "code",
   "execution_count": 34,
   "metadata": {
    "ExecuteTime": {
     "end_time": "2021-12-28T03:07:40.727072Z",
     "start_time": "2021-12-28T03:07:40.713071Z"
    },
    "hidden": true
   },
   "outputs": [
    {
     "data": {
      "text/plain": [
       "array(['US', 'US', 'US', ..., 'US', 'US', 'US'], dtype=object)"
      ]
     },
     "execution_count": 34,
     "metadata": {},
     "output_type": "execute_result"
    }
   ],
   "source": [
    "yhat_nn"
   ]
  },
  {
   "cell_type": "code",
   "execution_count": 37,
   "metadata": {
    "ExecuteTime": {
     "end_time": "2021-12-28T03:22:18.770587Z",
     "start_time": "2021-12-28T03:22:17.072350Z"
    },
    "hidden": true
   },
   "outputs": [
    {
     "name": "stdout",
     "output_type": "stream",
     "text": [
      "Accuracy: 0.7091474505662149\n",
      "Balanced Accuracy: 0.09180950370782566\n",
      "Kappa Score: 0.0038860425125377684\n"
     ]
    },
    {
     "name": "stderr",
     "output_type": "stream",
     "text": [
      "D:\\CDS\\Projetos\\PA01\\airbnb_predict\\airbnb\\lib\\site-packages\\sklearn\\metrics\\_classification.py:1308: UndefinedMetricWarning: Precision and F-score are ill-defined and being set to 0.0 in labels with no predicted samples. Use `zero_division` parameter to control this behavior.\n",
      "  _warn_prf(average, modifier, msg_start, len(result))\n",
      "D:\\CDS\\Projetos\\PA01\\airbnb_predict\\airbnb\\lib\\site-packages\\sklearn\\metrics\\_classification.py:1308: UndefinedMetricWarning: Precision and F-score are ill-defined and being set to 0.0 in labels with no predicted samples. Use `zero_division` parameter to control this behavior.\n",
      "  _warn_prf(average, modifier, msg_start, len(result))\n",
      "D:\\CDS\\Projetos\\PA01\\airbnb_predict\\airbnb\\lib\\site-packages\\sklearn\\metrics\\_classification.py:1308: UndefinedMetricWarning: Precision and F-score are ill-defined and being set to 0.0 in labels with no predicted samples. Use `zero_division` parameter to control this behavior.\n",
      "  _warn_prf(average, modifier, msg_start, len(result))\n"
     ]
    },
    {
     "name": "stdout",
     "output_type": "stream",
     "text": [
      "              precision    recall  f1-score   support\n",
      "\n",
      "          AU       0.00      0.00      0.00       110\n",
      "          CA       0.00      0.00      0.00       272\n",
      "          DE       0.17      0.00      0.01       218\n",
      "          ES       0.25      0.00      0.00       436\n",
      "          FR       0.17      0.00      0.00       917\n",
      "          GB       0.00      0.00      0.00       439\n",
      "          IT       0.00      0.00      0.00       503\n",
      "          NL       0.00      0.00      0.00       130\n",
      "          PT       0.00      0.00      0.00        37\n",
      "          US       0.71      1.00      0.83     12126\n",
      "       other       0.20      0.01      0.01      1855\n",
      "\n",
      "    accuracy                           0.71     17043\n",
      "   macro avg       0.14      0.09      0.08     17043\n",
      "weighted avg       0.55      0.71      0.59     17043\n",
      "\n"
     ]
    },
    {
     "data": {
      "text/plain": [
       "<AxesSubplot:title={'center':'Confusion Matrix'}, xlabel='Predicted label', ylabel='True label'>"
      ]
     },
     "execution_count": 37,
     "metadata": {},
     "output_type": "execute_result"
    },
    {
     "data": {
      "image/png": "[encoded data removed]",
      "text/plain": [
       "<Figure size 864x864 with 2 Axes>"
      ]
     },
     "metadata": {
      "needs_background": "light"
     },
     "output_type": "display_data"
    }
   ],
   "source": [
    "# Accuracy\n",
    "acc_nn = m.accuracy_score( \n",
    "                y_test_nn, \n",
    "                yhat_nn\n",
    "                )\n",
    "print('Accuracy: {}'.format(acc_nn))\n",
    "# Balanced accury Score\n",
    "\n",
    "b_acc_nn = m.balanced_accuracy_score(\n",
    "                        y_test_nn,\n",
    "                        yhat_nn\n",
    "                            )\n",
    "print('Balanced Accuracy: {}'.format(b_acc_nn))\n",
    "\n",
    "# Kappa Metrics\n",
    "kappa_nn = m.cohen_kappa_score(\n",
    "                            y_test_nn,\n",
    "                            yhat_nn\n",
    "                                )\n",
    "print('Kappa Score: {}'.format(kappa_nn))\n",
    "\n",
    "# Classification report\n",
    "print(m.classification_report(y_test_nn, yhat_nn))\n",
    "\n",
    "\n",
    "# Confusion Matrix\n",
    "mt.plot_confusion_matrix(\n",
    "                        y_test_nn,\n",
    "                        yhat_nn, \n",
    "                        normalize=False, \n",
    "                        figsize=(12,12)\n",
    "                        )"
   ]
  },
  {
   "cell_type": "markdown",
   "metadata": {
    "hidden": true
   },
   "source": [
    " O weighted avg é a média ponderada das métricas logo acima."
   ]
  },
  {
   "cell_type": "code",
   "execution_count": null,
   "metadata": {
    "hidden": true
   },
   "outputs": [],
   "source": []
  }
 ],
 "metadata": {
  "interpreter": {
   "hash": "b99113a99553cfb330e5fc867d931833120df9d0f885d4b72a625538577bb4e1"
  },
  "kernelspec": {
   "display_name": "Python 3 (ipykernel)",
   "language": "python",
   "name": "python3"
  },
  "language_info": {
   "codemirror_mode": {
    "name": "ipython",
    "version": 3
   },
   "file_extension": ".py",
   "mimetype": "text/x-python",
   "name": "python",
   "nbconvert_exporter": "python",
   "pygments_lexer": "ipython3",
   "version": "3.9.8"
  }
 },
 "nbformat": 4,
 "nbformat_minor": 2
}
