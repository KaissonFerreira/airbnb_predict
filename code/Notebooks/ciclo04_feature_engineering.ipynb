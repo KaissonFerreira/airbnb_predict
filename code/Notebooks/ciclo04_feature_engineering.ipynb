{
 "cells": [
  {
   "cell_type": "markdown",
   "metadata": {
    "heading_collapsed": true
   },
   "source": [
    "# Entendendimento do Problema - AIRBNB"
   ]
  },
  {
   "cell_type": "markdown",
   "metadata": {
    "hidden": true
   },
   "source": [
    "**Objetivo do problema:**\n",
    "\n",
    "- 1.0 Previsão do primeiro destino que o um novo usuário irá escolher.\n",
    "\n",
    "    - Porque?\n",
    "\n",
    "        * Qual o tipo do modelo de negócio do Airbnb?\n",
    "\n",
    "            * Marketplace (conectar oferta e demanda, e poder ganhar em cima dessa transação).\n",
    "\n",
    "            * Oferta (Pessoas oferecem acomodação)\n",
    "\n",
    "                -- Tamanho do portifólio\n",
    "                -- Diversidade/densidade de portifólio.\n",
    "                -- Preço médio.\n",
    "\n",
    "            * Demanda (Pessoas procurando acomodação)\n",
    "\n",
    "                -- Número de usuários\n",
    "                -- LTV (Lifetime Value - Quanto que a pessoa vai gastar com a empresa)\n",
    "                -- CAC (Client Acquisition Cost - Custo por cliente)\n",
    "\n",
    "                Gross Revenue (Margem de lucro) = (fee * Número de usuário) - CAC\n",
    "                \n",
    "                **FEE => É a diferença entre o preço médio e o valor dado a pessoa que oferece a acomadação.**\n",
    "\n",
    "- Proposta da Solução:\n",
    "\n",
    "    - Modelo de predição do primeiro destino de um novo usuário. Tipo de entrega:\n",
    "\n",
    "        * 1.0. Salvar a predição em tabelas no banco de dados para ser acessada por meio de uma ferramenta de visualização.\n",
    "        * 2.0. Construção de API e acesso por meio dela:\n",
    "        \n",
    "            -- Input: Usuário coloca suas características.\n",
    "            \n",
    "            -- Output: Mostra as características do usuário e a **predição do destino**.\n",
    "\n",
    "    - Ciclos para proposta de solução: 16 Ciclos."
   ]
  },
  {
   "cell_type": "markdown",
   "metadata": {
    "heading_collapsed": true
   },
   "source": [
    "# ETAPAS REALIZADAS NESSE CICLO:"
   ]
  },
  {
   "cell_type": "markdown",
   "metadata": {
    "hidden": true
   },
   "source": [
    " 1. Data Description\n",
    " 2. Feature engineering (Para melhorar a performance do modelo)"
   ]
  },
  {
   "cell_type": "markdown",
   "metadata": {},
   "source": [
    "# Ciclo 04 <font color = 'red'> - Feature engineering </font>"
   ]
  },
  {
   "cell_type": "markdown",
   "metadata": {
    "heading_collapsed": true
   },
   "source": [
    "# 0.0 Imports"
   ]
  },
  {
   "cell_type": "code",
   "execution_count": 1,
   "metadata": {
    "ExecuteTime": {
     "end_time": "2021-12-28T04:16:03.565188Z",
     "start_time": "2021-12-28T04:16:03.554184Z"
    },
    "hidden": true
   },
   "outputs": [],
   "source": [
    "import pandas   as pd\n",
    "import numpy    as np\n",
    "import seaborn  as sns\n",
    "import random\n",
    "\n",
    "from sklearn import model_selection as ms\n",
    "from sklearn import preprocessing   as pp\n",
    "from sklearn import metrics         as m\n",
    "from scikitplot import metrics      as mt\n",
    "import matplotlib.pyplot as plt \n",
    "\n",
    "from keras import models   as ml\n",
    "from keras import layers   as l"
   ]
  },
  {
   "cell_type": "markdown",
   "metadata": {
    "heading_collapsed": true,
    "hidden": true
   },
   "source": [
    "## 0.1. Helper Functions"
   ]
  },
  {
   "cell_type": "markdown",
   "metadata": {
    "hidden": true
   },
   "source": [
    "## 0.2. Loading Data"
   ]
  },
  {
   "cell_type": "code",
   "execution_count": 1,
   "metadata": {
    "ExecuteTime": {
     "end_time": "2021-12-28T04:16:01.624732Z",
     "start_time": "2021-12-28T04:15:59.896705Z"
    },
    "hidden": true
   },
   "outputs": [
    {
     "ename": "NameError",
     "evalue": "name 'pd' is not defined",
     "output_type": "error",
     "traceback": [
      "\u001b[1;31m---------------------------------------------------------------------------\u001b[0m",
      "\u001b[1;31mNameError\u001b[0m                                 Traceback (most recent call last)",
      "\u001b[1;32m~\\AppData\\Local\\Temp/ipykernel_11756/955112091.py\u001b[0m in \u001b[0;36m<module>\u001b[1;34m\u001b[0m\n\u001b[0;32m      1\u001b[0m \u001b[0ma\u001b[0m \u001b[1;33m=\u001b[0m \u001b[1;34mr'D:\\CDS\\Projetos\\PA01\\airbnb_predict\\data\\raw\\train_users_2.csv'\u001b[0m\u001b[1;33m\u001b[0m\u001b[1;33m\u001b[0m\u001b[0m\n\u001b[1;32m----> 2\u001b[1;33m \u001b[0mdf_raw\u001b[0m \u001b[1;33m=\u001b[0m \u001b[0mpd\u001b[0m\u001b[1;33m.\u001b[0m\u001b[0mread_csv\u001b[0m\u001b[1;33m(\u001b[0m\u001b[0ma\u001b[0m\u001b[1;33m,\u001b[0m \u001b[0mlow_memory\u001b[0m\u001b[1;33m=\u001b[0m\u001b[1;32mFalse\u001b[0m\u001b[1;33m)\u001b[0m\u001b[1;33m\u001b[0m\u001b[1;33m\u001b[0m\u001b[0m\n\u001b[0m\u001b[0;32m      3\u001b[0m \u001b[0mdf_raw\u001b[0m\u001b[1;33m.\u001b[0m\u001b[0mshape\u001b[0m\u001b[1;33m\u001b[0m\u001b[1;33m\u001b[0m\u001b[0m\n",
      "\u001b[1;31mNameError\u001b[0m: name 'pd' is not defined"
     ]
    }
   ],
   "source": [
    "a = r'D:\\CDS\\Projetos\\PA01\\airbnb_predict\\data\\raw\\train_users_2.csv'\n",
    "df_raw = pd.read_csv(a, low_memory=False)\n",
    "df_raw.shape"
   ]
  },
  {
   "cell_type": "code",
   "execution_count": null,
   "metadata": {
    "ExecuteTime": {
     "end_time": "2021-12-28T04:16:01.650732Z",
     "start_time": "2021-12-28T04:16:01.628729Z"
    },
    "hidden": true
   },
   "outputs": [
    {
     "data": {
      "text/plain": [
       "(10567737, 6)"
      ]
     },
     "execution_count": 3,
     "metadata": {},
     "output_type": "execute_result"
    }
   ],
   "source": [
    "b = r'D:\\CDS\\Projetos\\PA01\\airbnb_predict\\data\\raw\\sessions.csv'\n",
    "df_sessions = pd.read_csv(b,low_memory=True)\n",
    "df_sessions.shape"
   ]
  },
  {
   "cell_type": "code",
   "execution_count": null,
   "metadata": {
    "ExecuteTime": {
     "end_time": "2021-12-28T04:16:01.672732Z",
     "start_time": "2021-12-28T04:16:01.654727Z"
    },
    "hidden": true
   },
   "outputs": [
    {
     "data": {
      "text/html": [
       "<div>\n",
       "<style scoped>\n",
       "    .dataframe tbody tr th:only-of-type {\n",
       "        vertical-align: middle;\n",
       "    }\n",
       "\n",
       "    .dataframe tbody tr th {\n",
       "        vertical-align: top;\n",
       "    }\n",
       "\n",
       "    .dataframe thead th {\n",
       "        text-align: right;\n",
       "    }\n",
       "</style>\n",
       "<table border=\"1\" class=\"dataframe\">\n",
       "  <thead>\n",
       "    <tr style=\"text-align: right;\">\n",
       "      <th></th>\n",
       "      <th>user_id</th>\n",
       "      <th>action</th>\n",
       "      <th>action_type</th>\n",
       "      <th>action_detail</th>\n",
       "      <th>device_type</th>\n",
       "      <th>secs_elapsed</th>\n",
       "    </tr>\n",
       "  </thead>\n",
       "  <tbody>\n",
       "    <tr>\n",
       "      <th>10492906</th>\n",
       "      <td>rx161m73ef</td>\n",
       "      <td>edit</td>\n",
       "      <td>view</td>\n",
       "      <td>edit_profile</td>\n",
       "      <td>iPhone</td>\n",
       "      <td>11879.0</td>\n",
       "    </tr>\n",
       "    <tr>\n",
       "      <th>5669093</th>\n",
       "      <td>rotwqg8ssu</td>\n",
       "      <td>dashboard</td>\n",
       "      <td>view</td>\n",
       "      <td>dashboard</td>\n",
       "      <td>Windows Desktop</td>\n",
       "      <td>447.0</td>\n",
       "    </tr>\n",
       "  </tbody>\n",
       "</table>\n",
       "</div>"
      ],
      "text/plain": [
       "             user_id     action action_type action_detail      device_type  \\\n",
       "10492906  rx161m73ef       edit        view  edit_profile           iPhone   \n",
       "5669093   rotwqg8ssu  dashboard        view     dashboard  Windows Desktop   \n",
       "\n",
       "          secs_elapsed  \n",
       "10492906       11879.0  \n",
       "5669093          447.0  "
      ]
     },
     "execution_count": 4,
     "metadata": {},
     "output_type": "execute_result"
    }
   ],
   "source": [
    "df_sessions.sample(2)"
   ]
  },
  {
   "cell_type": "markdown",
   "metadata": {
    "heading_collapsed": true
   },
   "source": [
    "# 1.0. Data Description"
   ]
  },
  {
   "cell_type": "markdown",
   "metadata": {},
   "source": [
    "## 1.1 Data Dimensions"
   ]
  },
  {
   "cell_type": "code",
   "execution_count": null,
   "metadata": {
    "ExecuteTime": {
     "end_time": "2021-12-28T04:16:01.720727Z",
     "start_time": "2021-12-28T04:16:01.674727Z"
    },
    "hidden": true
   },
   "outputs": [],
   "source": [
    "df1 = df_raw.copy()"
   ]
  },
  {
   "cell_type": "code",
   "execution_count": null,
   "metadata": {
    "ExecuteTime": {
     "end_time": "2021-12-28T04:16:01.862729Z",
     "start_time": "2021-12-28T04:16:01.722728Z"
    },
    "hidden": true
   },
   "outputs": [
    {
     "name": "stdout",
     "output_type": "stream",
     "text": [
      "Number of rows: 213451\n",
      "Number of collumns: 16\n"
     ]
    }
   ],
   "source": [
    "print('Number of rows: {}'.format(df1.shape[0]))\n",
    "print('Number of collumns: {}'.format(df1.shape[1]))"
   ]
  },
  {
   "cell_type": "code",
   "execution_count": null,
   "metadata": {
    "ExecuteTime": {
     "end_time": "2021-12-28T04:16:01.862729Z",
     "start_time": "2021-12-28T04:16:01.722728Z"
    },
    "hidden": true
   },
   "outputs": [
    {
     "name": "stdout",
     "output_type": "stream",
     "text": [
      "Number of rows: 10567737\n",
      "Number of collumns: 6\n"
     ]
    }
   ],
   "source": [
    "print('Number of rows: {}'.format(df_sessions.shape[0]))\n",
    "print('Number of collumns: {}'.format(df_sessions.shape[1]))"
   ]
  },
  {
   "cell_type": "code",
   "execution_count": null,
   "metadata": {
    "ExecuteTime": {
     "end_time": "2021-12-28T04:16:02.052725Z",
     "start_time": "2021-12-28T04:16:01.864728Z"
    },
    "hidden": true
   },
   "outputs": [
    {
     "data": {
      "text/html": [
       "<div>\n",
       "<style scoped>\n",
       "    .dataframe tbody tr th:only-of-type {\n",
       "        vertical-align: middle;\n",
       "    }\n",
       "\n",
       "    .dataframe tbody tr th {\n",
       "        vertical-align: top;\n",
       "    }\n",
       "\n",
       "    .dataframe thead th {\n",
       "        text-align: right;\n",
       "    }\n",
       "</style>\n",
       "<table border=\"1\" class=\"dataframe\">\n",
       "  <thead>\n",
       "    <tr style=\"text-align: right;\">\n",
       "      <th></th>\n",
       "      <th>id</th>\n",
       "      <th>date_account_created</th>\n",
       "      <th>timestamp_first_active</th>\n",
       "      <th>date_first_booking</th>\n",
       "      <th>gender</th>\n",
       "      <th>age</th>\n",
       "      <th>signup_method</th>\n",
       "      <th>signup_flow</th>\n",
       "      <th>language</th>\n",
       "      <th>affiliate_channel</th>\n",
       "      <th>affiliate_provider</th>\n",
       "      <th>first_affiliate_tracked</th>\n",
       "      <th>signup_app</th>\n",
       "      <th>first_device_type</th>\n",
       "      <th>first_browser</th>\n",
       "      <th>country_destination</th>\n",
       "    </tr>\n",
       "  </thead>\n",
       "  <tbody>\n",
       "    <tr>\n",
       "      <th>0</th>\n",
       "      <td>gxn3p5htnn</td>\n",
       "      <td>2010-06-28</td>\n",
       "      <td>20090319043255</td>\n",
       "      <td>NaN</td>\n",
       "      <td>-unknown-</td>\n",
       "      <td>NaN</td>\n",
       "      <td>facebook</td>\n",
       "      <td>0</td>\n",
       "      <td>en</td>\n",
       "      <td>direct</td>\n",
       "      <td>direct</td>\n",
       "      <td>untracked</td>\n",
       "      <td>Web</td>\n",
       "      <td>Mac Desktop</td>\n",
       "      <td>Chrome</td>\n",
       "      <td>NDF</td>\n",
       "    </tr>\n",
       "    <tr>\n",
       "      <th>1</th>\n",
       "      <td>820tgsjxq7</td>\n",
       "      <td>2011-05-25</td>\n",
       "      <td>20090523174809</td>\n",
       "      <td>NaN</td>\n",
       "      <td>MALE</td>\n",
       "      <td>38.0</td>\n",
       "      <td>facebook</td>\n",
       "      <td>0</td>\n",
       "      <td>en</td>\n",
       "      <td>seo</td>\n",
       "      <td>google</td>\n",
       "      <td>untracked</td>\n",
       "      <td>Web</td>\n",
       "      <td>Mac Desktop</td>\n",
       "      <td>Chrome</td>\n",
       "      <td>NDF</td>\n",
       "    </tr>\n",
       "    <tr>\n",
       "      <th>2</th>\n",
       "      <td>4ft3gnwmtx</td>\n",
       "      <td>2010-09-28</td>\n",
       "      <td>20090609231247</td>\n",
       "      <td>2010-08-02</td>\n",
       "      <td>FEMALE</td>\n",
       "      <td>56.0</td>\n",
       "      <td>basic</td>\n",
       "      <td>3</td>\n",
       "      <td>en</td>\n",
       "      <td>direct</td>\n",
       "      <td>direct</td>\n",
       "      <td>untracked</td>\n",
       "      <td>Web</td>\n",
       "      <td>Windows Desktop</td>\n",
       "      <td>IE</td>\n",
       "      <td>US</td>\n",
       "    </tr>\n",
       "    <tr>\n",
       "      <th>3</th>\n",
       "      <td>bjjt8pjhuk</td>\n",
       "      <td>2011-12-05</td>\n",
       "      <td>20091031060129</td>\n",
       "      <td>2012-09-08</td>\n",
       "      <td>FEMALE</td>\n",
       "      <td>42.0</td>\n",
       "      <td>facebook</td>\n",
       "      <td>0</td>\n",
       "      <td>en</td>\n",
       "      <td>direct</td>\n",
       "      <td>direct</td>\n",
       "      <td>untracked</td>\n",
       "      <td>Web</td>\n",
       "      <td>Mac Desktop</td>\n",
       "      <td>Firefox</td>\n",
       "      <td>other</td>\n",
       "    </tr>\n",
       "    <tr>\n",
       "      <th>4</th>\n",
       "      <td>87mebub9p4</td>\n",
       "      <td>2010-09-14</td>\n",
       "      <td>20091208061105</td>\n",
       "      <td>2010-02-18</td>\n",
       "      <td>-unknown-</td>\n",
       "      <td>41.0</td>\n",
       "      <td>basic</td>\n",
       "      <td>0</td>\n",
       "      <td>en</td>\n",
       "      <td>direct</td>\n",
       "      <td>direct</td>\n",
       "      <td>untracked</td>\n",
       "      <td>Web</td>\n",
       "      <td>Mac Desktop</td>\n",
       "      <td>Chrome</td>\n",
       "      <td>US</td>\n",
       "    </tr>\n",
       "  </tbody>\n",
       "</table>\n",
       "</div>"
      ],
      "text/plain": [
       "           id date_account_created  timestamp_first_active date_first_booking  \\\n",
       "0  gxn3p5htnn           2010-06-28          20090319043255                NaN   \n",
       "1  820tgsjxq7           2011-05-25          20090523174809                NaN   \n",
       "2  4ft3gnwmtx           2010-09-28          20090609231247         2010-08-02   \n",
       "3  bjjt8pjhuk           2011-12-05          20091031060129         2012-09-08   \n",
       "4  87mebub9p4           2010-09-14          20091208061105         2010-02-18   \n",
       "\n",
       "      gender   age signup_method  signup_flow language affiliate_channel  \\\n",
       "0  -unknown-   NaN      facebook            0       en            direct   \n",
       "1       MALE  38.0      facebook            0       en               seo   \n",
       "2     FEMALE  56.0         basic            3       en            direct   \n",
       "3     FEMALE  42.0      facebook            0       en            direct   \n",
       "4  -unknown-  41.0         basic            0       en            direct   \n",
       "\n",
       "  affiliate_provider first_affiliate_tracked signup_app first_device_type  \\\n",
       "0             direct               untracked        Web       Mac Desktop   \n",
       "1             google               untracked        Web       Mac Desktop   \n",
       "2             direct               untracked        Web   Windows Desktop   \n",
       "3             direct               untracked        Web       Mac Desktop   \n",
       "4             direct               untracked        Web       Mac Desktop   \n",
       "\n",
       "  first_browser country_destination  \n",
       "0        Chrome                 NDF  \n",
       "1        Chrome                 NDF  \n",
       "2            IE                  US  \n",
       "3       Firefox               other  \n",
       "4        Chrome                  US  "
      ]
     },
     "execution_count": 8,
     "metadata": {},
     "output_type": "execute_result"
    }
   ],
   "source": [
    "df1.head()"
   ]
  },
  {
   "cell_type": "code",
   "execution_count": null,
   "metadata": {},
   "outputs": [
    {
     "data": {
      "text/html": [
       "<div>\n",
       "<style scoped>\n",
       "    .dataframe tbody tr th:only-of-type {\n",
       "        vertical-align: middle;\n",
       "    }\n",
       "\n",
       "    .dataframe tbody tr th {\n",
       "        vertical-align: top;\n",
       "    }\n",
       "\n",
       "    .dataframe thead th {\n",
       "        text-align: right;\n",
       "    }\n",
       "</style>\n",
       "<table border=\"1\" class=\"dataframe\">\n",
       "  <thead>\n",
       "    <tr style=\"text-align: right;\">\n",
       "      <th></th>\n",
       "      <th>user_id</th>\n",
       "      <th>action</th>\n",
       "      <th>action_type</th>\n",
       "      <th>action_detail</th>\n",
       "      <th>device_type</th>\n",
       "      <th>secs_elapsed</th>\n",
       "    </tr>\n",
       "  </thead>\n",
       "  <tbody>\n",
       "    <tr>\n",
       "      <th>0</th>\n",
       "      <td>d1mm9tcy42</td>\n",
       "      <td>lookup</td>\n",
       "      <td>NaN</td>\n",
       "      <td>NaN</td>\n",
       "      <td>Windows Desktop</td>\n",
       "      <td>319.0</td>\n",
       "    </tr>\n",
       "    <tr>\n",
       "      <th>1</th>\n",
       "      <td>d1mm9tcy42</td>\n",
       "      <td>search_results</td>\n",
       "      <td>click</td>\n",
       "      <td>view_search_results</td>\n",
       "      <td>Windows Desktop</td>\n",
       "      <td>67753.0</td>\n",
       "    </tr>\n",
       "    <tr>\n",
       "      <th>2</th>\n",
       "      <td>d1mm9tcy42</td>\n",
       "      <td>lookup</td>\n",
       "      <td>NaN</td>\n",
       "      <td>NaN</td>\n",
       "      <td>Windows Desktop</td>\n",
       "      <td>301.0</td>\n",
       "    </tr>\n",
       "    <tr>\n",
       "      <th>3</th>\n",
       "      <td>d1mm9tcy42</td>\n",
       "      <td>search_results</td>\n",
       "      <td>click</td>\n",
       "      <td>view_search_results</td>\n",
       "      <td>Windows Desktop</td>\n",
       "      <td>22141.0</td>\n",
       "    </tr>\n",
       "    <tr>\n",
       "      <th>4</th>\n",
       "      <td>d1mm9tcy42</td>\n",
       "      <td>lookup</td>\n",
       "      <td>NaN</td>\n",
       "      <td>NaN</td>\n",
       "      <td>Windows Desktop</td>\n",
       "      <td>435.0</td>\n",
       "    </tr>\n",
       "  </tbody>\n",
       "</table>\n",
       "</div>"
      ],
      "text/plain": [
       "      user_id          action action_type        action_detail  \\\n",
       "0  d1mm9tcy42          lookup         NaN                  NaN   \n",
       "1  d1mm9tcy42  search_results       click  view_search_results   \n",
       "2  d1mm9tcy42          lookup         NaN                  NaN   \n",
       "3  d1mm9tcy42  search_results       click  view_search_results   \n",
       "4  d1mm9tcy42          lookup         NaN                  NaN   \n",
       "\n",
       "       device_type  secs_elapsed  \n",
       "0  Windows Desktop         319.0  \n",
       "1  Windows Desktop       67753.0  \n",
       "2  Windows Desktop         301.0  \n",
       "3  Windows Desktop       22141.0  \n",
       "4  Windows Desktop         435.0  "
      ]
     },
     "execution_count": 9,
     "metadata": {},
     "output_type": "execute_result"
    }
   ],
   "source": [
    "df_sessions.head()"
   ]
  },
  {
   "cell_type": "markdown",
   "metadata": {
    "hidden": true
   },
   "source": [
    "## 1.2 Data type:"
   ]
  },
  {
   "cell_type": "code",
   "execution_count": null,
   "metadata": {},
   "outputs": [
    {
     "data": {
      "text/plain": [
       "user_id           object\n",
       "action            object\n",
       "action_type       object\n",
       "action_detail     object\n",
       "device_type       object\n",
       "secs_elapsed     float64\n",
       "dtype: object"
      ]
     },
     "execution_count": 10,
     "metadata": {},
     "output_type": "execute_result"
    }
   ],
   "source": [
    "df_sessions.dtypes"
   ]
  },
  {
   "cell_type": "code",
   "execution_count": null,
   "metadata": {
    "ExecuteTime": {
     "end_time": "2021-12-28T04:16:02.068728Z",
     "start_time": "2021-12-28T04:16:02.054726Z"
    },
    "hidden": true
   },
   "outputs": [
    {
     "data": {
      "text/plain": [
       "id                          object\n",
       "date_account_created        object\n",
       "timestamp_first_active       int64\n",
       "date_first_booking          object\n",
       "gender                      object\n",
       "age                        float64\n",
       "signup_method               object\n",
       "signup_flow                  int64\n",
       "language                    object\n",
       "affiliate_channel           object\n",
       "affiliate_provider          object\n",
       "first_affiliate_tracked     object\n",
       "signup_app                  object\n",
       "first_device_type           object\n",
       "first_browser               object\n",
       "country_destination         object\n",
       "dtype: object"
      ]
     },
     "execution_count": 11,
     "metadata": {},
     "output_type": "execute_result"
    }
   ],
   "source": [
    "df1.dtypes"
   ]
  },
  {
   "cell_type": "markdown",
   "metadata": {
    "hidden": true
   },
   "source": [
    "Obs: A coluna date_account_created e timestamp_first_active tem que ser Datetime."
   ]
  },
  {
   "cell_type": "markdown",
   "metadata": {
    "hidden": true
   },
   "source": [
    "## 1.3 NA check:"
   ]
  },
  {
   "cell_type": "markdown",
   "metadata": {},
   "source": [
    "### 1.3.0 Dados sessions"
   ]
  },
  {
   "cell_type": "code",
   "execution_count": null,
   "metadata": {},
   "outputs": [
    {
     "data": {
      "text/plain": [
       "user_id          0.003264\n",
       "action           0.007535\n",
       "action_type      0.106570\n",
       "action_detail    0.106570\n",
       "device_type      0.000000\n",
       "secs_elapsed     0.012872\n",
       "dtype: float64"
      ]
     },
     "execution_count": 12,
     "metadata": {},
     "output_type": "execute_result"
    }
   ],
   "source": [
    "# Dados sessions\n",
    "df_sessions.isna().sum() / len(df_sessions)"
   ]
  },
  {
   "cell_type": "code",
   "execution_count": null,
   "metadata": {},
   "outputs": [],
   "source": [
    "# Remove or replace missing values\n",
    "# Como há mais de 10 milhões de linhas, vamos está retirando todas com valores nulos.\n",
    "\n",
    "# user_id \n",
    "df_sessions = df_sessions[~df_sessions['user_id'].isna()]\n",
    "\n",
    "# action\n",
    "df_sessions = df_sessions[~df_sessions['action'].isna()]\n",
    "\n",
    "# action_type\n",
    "df_sessions = df_sessions[~df_sessions['action_type'].isna()]\n",
    "\n",
    "# device_type\n",
    "df_sessions = df_sessions[~df_sessions['device_type'].isna()]\n",
    "\n",
    "# secs_elapsed\n",
    "df_sessions = df_sessions[~df_sessions['secs_elapsed'].isna()]\n"
   ]
  },
  {
   "cell_type": "code",
   "execution_count": null,
   "metadata": {},
   "outputs": [
    {
     "data": {
      "text/plain": [
       "user_id          0.0\n",
       "action           0.0\n",
       "action_type      0.0\n",
       "action_detail    0.0\n",
       "device_type      0.0\n",
       "secs_elapsed     0.0\n",
       "dtype: float64"
      ]
     },
     "execution_count": 14,
     "metadata": {},
     "output_type": "execute_result"
    }
   ],
   "source": [
    "df_sessions.isna().sum() / len(df_sessions)"
   ]
  },
  {
   "cell_type": "markdown",
   "metadata": {},
   "source": [
    "### 1.3.1 Dados df1"
   ]
  },
  {
   "cell_type": "code",
   "execution_count": null,
   "metadata": {
    "ExecuteTime": {
     "end_time": "2021-12-28T04:16:02.246928Z",
     "start_time": "2021-12-28T04:16:02.071727Z"
    },
    "hidden": true
   },
   "outputs": [
    {
     "data": {
      "text/plain": [
       "id                         0.000000\n",
       "date_account_created       0.000000\n",
       "timestamp_first_active     0.000000\n",
       "date_first_booking         0.583473\n",
       "gender                     0.000000\n",
       "age                        0.412226\n",
       "signup_method              0.000000\n",
       "signup_flow                0.000000\n",
       "language                   0.000000\n",
       "affiliate_channel          0.000000\n",
       "affiliate_provider         0.000000\n",
       "first_affiliate_tracked    0.028414\n",
       "signup_app                 0.000000\n",
       "first_device_type          0.000000\n",
       "first_browser              0.000000\n",
       "country_destination        0.000000\n",
       "dtype: float64"
      ]
     },
     "execution_count": 15,
     "metadata": {},
     "output_type": "execute_result"
    }
   ],
   "source": [
    "df1.isna().sum() / len(df1)"
   ]
  },
  {
   "cell_type": "code",
   "execution_count": null,
   "metadata": {},
   "outputs": [
    {
     "data": {
      "text/plain": [
       "NDF    1.0\n",
       "Name: country_destination, dtype: float64"
      ]
     },
     "execution_count": 16,
     "metadata": {},
     "output_type": "execute_result"
    }
   ],
   "source": [
    "# Verificando o quanto de linhas com dados faltantes no atributo date_first_booking tem para cada classe\n",
    "aux = df1[df1['date_first_booking'].isna()]\n",
    "aux['country_destination'].value_counts(normalize=True)"
   ]
  },
  {
   "cell_type": "code",
   "execution_count": null,
   "metadata": {},
   "outputs": [
    {
     "data": {
      "text/plain": [
       "NDF      0.768428\n",
       "US       0.156529\n",
       "other    0.028617\n",
       "FR       0.014888\n",
       "IT       0.009081\n",
       "GB       0.006251\n",
       "ES       0.006171\n",
       "CA       0.003989\n",
       "DE       0.002387\n",
       "NL       0.001818\n",
       "AU       0.001171\n",
       "PT       0.000671\n",
       "Name: country_destination, dtype: float64"
      ]
     },
     "execution_count": 17,
     "metadata": {},
     "output_type": "execute_result"
    }
   ],
   "source": [
    "# Verificando o quanto de linhas com dados faltantes no atributo age tem para cada classe\n",
    "aux = df1[df1['age'].isna()]\n",
    "aux['country_destination'].value_counts(normalize=True)\n",
    "\n",
    "# não há problema em ter os dados faltantes distribuidos em um atributo quase que na msm proporção de distribuição das classes"
   ]
  },
  {
   "cell_type": "code",
   "execution_count": null,
   "metadata": {},
   "outputs": [
    {
     "data": {
      "text/plain": [
       "Text(0.5, 1.0, 'Histograma da idade dos clientes menores que 80 anos')"
      ]
     },
     "execution_count": 18,
     "metadata": {},
     "output_type": "execute_result"
    },
    {
     "data": {
      "image/png": "[encoded data removed]",
      "text/plain": [
       "<Figure size 360x360 with 1 Axes>"
      ]
     },
     "metadata": {
      "needs_background": "light"
     },
     "output_type": "display_data"
    }
   ],
   "source": [
    "sns.displot(df1[df1['age']<80]['age'])\n",
    "plt.title('Histograma da idade dos clientes menores que 80 anos')"
   ]
  },
  {
   "cell_type": "markdown",
   "metadata": {},
   "source": [
    "**Obeservação:** Se a distribuição dos dados for semelhante a uma normal, poderá ser adicionado uma média nos dados faltantes sem necessariamente dar um viés.\n",
    "\n",
    "O lance é descobrir o tipo de distribuição da variável original, e a partir dessa descoberta, identificar qual medida relativa que representa a distribuição, e que possa ser imputada aos dados faltantes sem dar viés aos dados (Interferir na sua distribuição normal)."
   ]
  },
  {
   "cell_type": "code",
   "execution_count": 19,
   "metadata": {},
   "outputs": [
    {
     "data": {
      "text/plain": [
       "0            untracked\n",
       "5                  omg\n",
       "12                 NaN\n",
       "13              linked\n",
       "79       tracked-other\n",
       "257            product\n",
       "6270         marketing\n",
       "11184        local ops\n",
       "Name: first_affiliate_tracked, dtype: object"
      ]
     },
     "execution_count": 19,
     "metadata": {},
     "output_type": "execute_result"
    }
   ],
   "source": [
    "# Verificando como o atributo se qualifica\n",
    "df1['first_affiliate_tracked'].drop_duplicates()\n",
    "\n",
    "# Por ser dados categóricos e por ter poucos dados em comparação com o total (apenas 3%), então podemos excluir os dados faltantes."
   ]
  },
  {
   "cell_type": "code",
   "execution_count": 20,
   "metadata": {
    "ExecuteTime": {
     "end_time": "2021-12-28T04:16:02.497074Z",
     "start_time": "2021-12-28T04:16:02.252929Z"
    },
    "hidden": true
   },
   "outputs": [],
   "source": [
    "# Remove missing values\n",
    "#df1 = df1.dropna()\n",
    "# For df1\n",
    "\n",
    "# date_first_booking - Como não há dados atualizados, iremos pegar a data máxima e subtrair com a data de entrada\n",
    "date_first_booking_max = pd.to_datetime(df1['date_first_booking']).max().strftime('%Y-%m-%d')\n",
    "\n",
    "df1['date_first_booking'] = df1['date_first_booking'].fillna( date_first_booking_max)\n",
    "# age\n",
    "avg_age = df1['age'].mean().astype(int)\n",
    "df1['age'] = df1['age'].fillna(avg_age)\n",
    "\n",
    "# first_affiliate_tracked\n",
    "df1 = df1[~df1['first_affiliate_tracked'].isna()]\n"
   ]
  },
  {
   "cell_type": "code",
   "execution_count": 21,
   "metadata": {},
   "outputs": [
    {
     "data": {
      "text/plain": [
       "id                         0.0\n",
       "date_account_created       0.0\n",
       "timestamp_first_active     0.0\n",
       "date_first_booking         0.0\n",
       "gender                     0.0\n",
       "age                        0.0\n",
       "signup_method              0.0\n",
       "signup_flow                0.0\n",
       "language                   0.0\n",
       "affiliate_channel          0.0\n",
       "affiliate_provider         0.0\n",
       "first_affiliate_tracked    0.0\n",
       "signup_app                 0.0\n",
       "first_device_type          0.0\n",
       "first_browser              0.0\n",
       "country_destination        0.0\n",
       "dtype: float64"
      ]
     },
     "execution_count": 21,
     "metadata": {},
     "output_type": "execute_result"
    }
   ],
   "source": [
    "# Validando os NA Check\n",
    "df1.isna().sum() / len(df1)"
   ]
  },
  {
   "cell_type": "markdown",
   "metadata": {
    "hidden": true
   },
   "source": [
    "## 1.4 Change Data Type:"
   ]
  },
  {
   "cell_type": "code",
   "execution_count": 22,
   "metadata": {
    "ExecuteTime": {
     "end_time": "2021-12-28T04:16:02.513071Z",
     "start_time": "2021-12-28T04:16:02.498073Z"
    },
    "hidden": true
   },
   "outputs": [
    {
     "data": {
      "text/plain": [
       "id                          object\n",
       "date_account_created        object\n",
       "timestamp_first_active       int64\n",
       "date_first_booking          object\n",
       "gender                      object\n",
       "age                        float64\n",
       "signup_method               object\n",
       "signup_flow                  int64\n",
       "language                    object\n",
       "affiliate_channel           object\n",
       "affiliate_provider          object\n",
       "first_affiliate_tracked     object\n",
       "signup_app                  object\n",
       "first_device_type           object\n",
       "first_browser               object\n",
       "country_destination         object\n",
       "dtype: object"
      ]
     },
     "execution_count": 22,
     "metadata": {},
     "output_type": "execute_result"
    }
   ],
   "source": [
    "df1.dtypes"
   ]
  },
  {
   "cell_type": "code",
   "execution_count": 23,
   "metadata": {
    "ExecuteTime": {
     "end_time": "2021-12-28T04:16:02.543337Z",
     "start_time": "2021-12-28T04:16:02.514072Z"
    },
    "hidden": true
   },
   "outputs": [
    {
     "data": {
      "text/html": [
       "<div>\n",
       "<style scoped>\n",
       "    .dataframe tbody tr th:only-of-type {\n",
       "        vertical-align: middle;\n",
       "    }\n",
       "\n",
       "    .dataframe tbody tr th {\n",
       "        vertical-align: top;\n",
       "    }\n",
       "\n",
       "    .dataframe thead th {\n",
       "        text-align: right;\n",
       "    }\n",
       "</style>\n",
       "<table border=\"1\" class=\"dataframe\">\n",
       "  <thead>\n",
       "    <tr style=\"text-align: right;\">\n",
       "      <th></th>\n",
       "      <th>id</th>\n",
       "      <th>date_account_created</th>\n",
       "      <th>timestamp_first_active</th>\n",
       "      <th>date_first_booking</th>\n",
       "      <th>gender</th>\n",
       "      <th>age</th>\n",
       "      <th>signup_method</th>\n",
       "      <th>signup_flow</th>\n",
       "      <th>language</th>\n",
       "      <th>affiliate_channel</th>\n",
       "      <th>affiliate_provider</th>\n",
       "      <th>first_affiliate_tracked</th>\n",
       "      <th>signup_app</th>\n",
       "      <th>first_device_type</th>\n",
       "      <th>first_browser</th>\n",
       "      <th>country_destination</th>\n",
       "    </tr>\n",
       "  </thead>\n",
       "  <tbody>\n",
       "    <tr>\n",
       "      <th>0</th>\n",
       "      <td>gxn3p5htnn</td>\n",
       "      <td>2010-06-28</td>\n",
       "      <td>20090319043255</td>\n",
       "      <td>2015-06-29</td>\n",
       "      <td>-unknown-</td>\n",
       "      <td>49.0</td>\n",
       "      <td>facebook</td>\n",
       "      <td>0</td>\n",
       "      <td>en</td>\n",
       "      <td>direct</td>\n",
       "      <td>direct</td>\n",
       "      <td>untracked</td>\n",
       "      <td>Web</td>\n",
       "      <td>Mac Desktop</td>\n",
       "      <td>Chrome</td>\n",
       "      <td>NDF</td>\n",
       "    </tr>\n",
       "    <tr>\n",
       "      <th>1</th>\n",
       "      <td>820tgsjxq7</td>\n",
       "      <td>2011-05-25</td>\n",
       "      <td>20090523174809</td>\n",
       "      <td>2015-06-29</td>\n",
       "      <td>MALE</td>\n",
       "      <td>38.0</td>\n",
       "      <td>facebook</td>\n",
       "      <td>0</td>\n",
       "      <td>en</td>\n",
       "      <td>seo</td>\n",
       "      <td>google</td>\n",
       "      <td>untracked</td>\n",
       "      <td>Web</td>\n",
       "      <td>Mac Desktop</td>\n",
       "      <td>Chrome</td>\n",
       "      <td>NDF</td>\n",
       "    </tr>\n",
       "    <tr>\n",
       "      <th>2</th>\n",
       "      <td>4ft3gnwmtx</td>\n",
       "      <td>2010-09-28</td>\n",
       "      <td>20090609231247</td>\n",
       "      <td>2010-08-02</td>\n",
       "      <td>FEMALE</td>\n",
       "      <td>56.0</td>\n",
       "      <td>basic</td>\n",
       "      <td>3</td>\n",
       "      <td>en</td>\n",
       "      <td>direct</td>\n",
       "      <td>direct</td>\n",
       "      <td>untracked</td>\n",
       "      <td>Web</td>\n",
       "      <td>Windows Desktop</td>\n",
       "      <td>IE</td>\n",
       "      <td>US</td>\n",
       "    </tr>\n",
       "    <tr>\n",
       "      <th>3</th>\n",
       "      <td>bjjt8pjhuk</td>\n",
       "      <td>2011-12-05</td>\n",
       "      <td>20091031060129</td>\n",
       "      <td>2012-09-08</td>\n",
       "      <td>FEMALE</td>\n",
       "      <td>42.0</td>\n",
       "      <td>facebook</td>\n",
       "      <td>0</td>\n",
       "      <td>en</td>\n",
       "      <td>direct</td>\n",
       "      <td>direct</td>\n",
       "      <td>untracked</td>\n",
       "      <td>Web</td>\n",
       "      <td>Mac Desktop</td>\n",
       "      <td>Firefox</td>\n",
       "      <td>other</td>\n",
       "    </tr>\n",
       "    <tr>\n",
       "      <th>4</th>\n",
       "      <td>87mebub9p4</td>\n",
       "      <td>2010-09-14</td>\n",
       "      <td>20091208061105</td>\n",
       "      <td>2010-02-18</td>\n",
       "      <td>-unknown-</td>\n",
       "      <td>41.0</td>\n",
       "      <td>basic</td>\n",
       "      <td>0</td>\n",
       "      <td>en</td>\n",
       "      <td>direct</td>\n",
       "      <td>direct</td>\n",
       "      <td>untracked</td>\n",
       "      <td>Web</td>\n",
       "      <td>Mac Desktop</td>\n",
       "      <td>Chrome</td>\n",
       "      <td>US</td>\n",
       "    </tr>\n",
       "  </tbody>\n",
       "</table>\n",
       "</div>"
      ],
      "text/plain": [
       "           id date_account_created  timestamp_first_active date_first_booking  \\\n",
       "0  gxn3p5htnn           2010-06-28          20090319043255         2015-06-29   \n",
       "1  820tgsjxq7           2011-05-25          20090523174809         2015-06-29   \n",
       "2  4ft3gnwmtx           2010-09-28          20090609231247         2010-08-02   \n",
       "3  bjjt8pjhuk           2011-12-05          20091031060129         2012-09-08   \n",
       "4  87mebub9p4           2010-09-14          20091208061105         2010-02-18   \n",
       "\n",
       "      gender   age signup_method  signup_flow language affiliate_channel  \\\n",
       "0  -unknown-  49.0      facebook            0       en            direct   \n",
       "1       MALE  38.0      facebook            0       en               seo   \n",
       "2     FEMALE  56.0         basic            3       en            direct   \n",
       "3     FEMALE  42.0      facebook            0       en            direct   \n",
       "4  -unknown-  41.0         basic            0       en            direct   \n",
       "\n",
       "  affiliate_provider first_affiliate_tracked signup_app first_device_type  \\\n",
       "0             direct               untracked        Web       Mac Desktop   \n",
       "1             google               untracked        Web       Mac Desktop   \n",
       "2             direct               untracked        Web   Windows Desktop   \n",
       "3             direct               untracked        Web       Mac Desktop   \n",
       "4             direct               untracked        Web       Mac Desktop   \n",
       "\n",
       "  first_browser country_destination  \n",
       "0        Chrome                 NDF  \n",
       "1        Chrome                 NDF  \n",
       "2            IE                  US  \n",
       "3       Firefox               other  \n",
       "4        Chrome                  US  "
      ]
     },
     "execution_count": 23,
     "metadata": {},
     "output_type": "execute_result"
    }
   ],
   "source": [
    "df1.head()"
   ]
  },
  {
   "cell_type": "code",
   "execution_count": 24,
   "metadata": {
    "ExecuteTime": {
     "end_time": "2021-12-28T04:16:02.950860Z",
     "start_time": "2021-12-28T04:16:02.547342Z"
    },
    "hidden": true
   },
   "outputs": [],
   "source": [
    "# date_account_created\n",
    "df1['date_account_created'] = pd.to_datetime(df1['date_account_created'])\n",
    "# timestamp_first_active\n",
    "df1['timestamp_first_active'] = pd.to_datetime(df1['timestamp_first_active'], format='%Y%m%d%H%M%S')\n",
    "\n",
    "# date_first_booking\n",
    "df1['date_first_booking'] = pd.to_datetime(df1['date_first_booking'])\n",
    "# age\n",
    "df1['age']=df1['age'].astype(np.int64)"
   ]
  },
  {
   "cell_type": "code",
   "execution_count": 25,
   "metadata": {
    "ExecuteTime": {
     "end_time": "2021-12-28T04:16:02.966868Z",
     "start_time": "2021-12-28T04:16:02.952864Z"
    },
    "hidden": true
   },
   "outputs": [
    {
     "data": {
      "text/plain": [
       "id                                 object\n",
       "date_account_created       datetime64[ns]\n",
       "timestamp_first_active     datetime64[ns]\n",
       "date_first_booking         datetime64[ns]\n",
       "gender                             object\n",
       "age                                 int64\n",
       "signup_method                      object\n",
       "signup_flow                         int64\n",
       "language                           object\n",
       "affiliate_channel                  object\n",
       "affiliate_provider                 object\n",
       "first_affiliate_tracked            object\n",
       "signup_app                         object\n",
       "first_device_type                  object\n",
       "first_browser                      object\n",
       "country_destination                object\n",
       "dtype: object"
      ]
     },
     "execution_count": 25,
     "metadata": {},
     "output_type": "execute_result"
    }
   ],
   "source": [
    "df1.dtypes"
   ]
  },
  {
   "cell_type": "markdown",
   "metadata": {
    "hidden": true
   },
   "source": [
    "## 1.5 Check balanced data:"
   ]
  },
  {
   "cell_type": "code",
   "execution_count": 26,
   "metadata": {},
   "outputs": [
    {
     "data": {
      "text/plain": [
       "array(['NDF', 'US', 'other', 'CA', 'FR', 'ES', 'GB', 'IT', 'PT', 'NL',\n",
       "       'DE', 'AU'], dtype=object)"
      ]
     },
     "execution_count": 26,
     "metadata": {},
     "output_type": "execute_result"
    }
   ],
   "source": [
    "# Número de classes\n",
    "df1['country_destination'].unique()"
   ]
  },
  {
   "cell_type": "code",
   "execution_count": 27,
   "metadata": {
    "ExecuteTime": {
     "end_time": "2021-12-28T04:16:03.030884Z",
     "start_time": "2021-12-28T04:16:02.968863Z"
    },
    "hidden": true
   },
   "outputs": [
    {
     "data": {
      "text/plain": [
       "NDF      0.579673\n",
       "US       0.294461\n",
       "other    0.048128\n",
       "FR       0.023623\n",
       "IT       0.013458\n",
       "GB       0.011066\n",
       "ES       0.010671\n",
       "CA       0.006707\n",
       "DE       0.005020\n",
       "NL       0.003621\n",
       "AU       0.002541\n",
       "PT       0.001032\n",
       "Name: country_destination, dtype: float64"
      ]
     },
     "execution_count": 27,
     "metadata": {},
     "output_type": "execute_result"
    }
   ],
   "source": [
    "# Observando o balanceamento da variável resposta\n",
    "df1['country_destination'].value_counts(normalize=True)\n",
    "\n",
    "# Obs: Ao excluir as linhas vazias, foi excluído todo uma classe. (NDF = na)"
   ]
  },
  {
   "cell_type": "markdown",
   "metadata": {},
   "source": [
    "## 1.6 Data Description"
   ]
  },
  {
   "cell_type": "markdown",
   "metadata": {},
   "source": [
    "### 1.6.0 General\n",
    "- Separar os dados em categórico, númerico e data."
   ]
  },
  {
   "cell_type": "code",
   "execution_count": 29,
   "metadata": {},
   "outputs": [],
   "source": [
    "num_attributes = df1.select_dtypes( include=['int64', 'float64'])\n",
    "cat_attributes = df1.select_dtypes( exclude= ['int64','float64','datetime64[ns]'])\n",
    "time_attributes = df1.select_dtypes( include=['datetime64[ns]'])"
   ]
  },
  {
   "cell_type": "markdown",
   "metadata": {},
   "source": [
    "### 1.6.1 Numerical - users"
   ]
  },
  {
   "cell_type": "markdown",
   "metadata": {},
   "source": [
    "Estatística descritiva de 1º ordem: \n",
    "* Medidas de tendência central: Média, mediana\n",
    "* Dispersões: Desvio padrão, min, máx, skew, curtosis."
   ]
  },
  {
   "cell_type": "code",
   "execution_count": 41,
   "metadata": {},
   "outputs": [
    {
     "data": {
      "text/html": [
       "<div>\n",
       "<style scoped>\n",
       "    .dataframe tbody tr th:only-of-type {\n",
       "        vertical-align: middle;\n",
       "    }\n",
       "\n",
       "    .dataframe tbody tr th {\n",
       "        vertical-align: top;\n",
       "    }\n",
       "\n",
       "    .dataframe thead th {\n",
       "        text-align: right;\n",
       "    }\n",
       "</style>\n",
       "<table border=\"1\" class=\"dataframe\">\n",
       "  <thead>\n",
       "    <tr style=\"text-align: right;\">\n",
       "      <th></th>\n",
       "      <th>Attributes</th>\n",
       "      <th>min</th>\n",
       "      <th>max</th>\n",
       "      <th>range</th>\n",
       "      <th>mean</th>\n",
       "      <th>median</th>\n",
       "      <th>std</th>\n",
       "      <th>skew</th>\n",
       "      <th>kurtosis</th>\n",
       "    </tr>\n",
       "  </thead>\n",
       "  <tbody>\n",
       "    <tr>\n",
       "      <th>0</th>\n",
       "      <td>age</td>\n",
       "      <td>1.0</td>\n",
       "      <td>2014.0</td>\n",
       "      <td>2013.0</td>\n",
       "      <td>49.183142</td>\n",
       "      <td>49.0</td>\n",
       "      <td>118.421689</td>\n",
       "      <td>16.333820</td>\n",
       "      <td>267.655434</td>\n",
       "    </tr>\n",
       "    <tr>\n",
       "      <th>1</th>\n",
       "      <td>signup_flow</td>\n",
       "      <td>0.0</td>\n",
       "      <td>25.0</td>\n",
       "      <td>25.0</td>\n",
       "      <td>3.151490</td>\n",
       "      <td>0.0</td>\n",
       "      <td>7.543915</td>\n",
       "      <td>2.287158</td>\n",
       "      <td>3.567794</td>\n",
       "    </tr>\n",
       "  </tbody>\n",
       "</table>\n",
       "</div>"
      ],
      "text/plain": [
       "    Attributes  min     max   range       mean  median         std       skew  \\\n",
       "0          age  1.0  2014.0  2013.0  49.183142    49.0  118.421689  16.333820   \n",
       "1  signup_flow  0.0    25.0    25.0   3.151490     0.0    7.543915   2.287158   \n",
       "\n",
       "     kurtosis  \n",
       "0  267.655434  \n",
       "1    3.567794  "
      ]
     },
     "execution_count": 41,
     "metadata": {},
     "output_type": "execute_result"
    }
   ],
   "source": [
    "# Central Tendency - Mean, Median\n",
    "\n",
    "ct1 = pd.DataFrame(num_attributes.apply(np.mean)).T\n",
    "ct2 = pd.DataFrame(num_attributes.apply(np.median)).T\n",
    "\n",
    "# Dispersions - Std, Min, Max, Range, Skew, Kurtosis\n",
    "d1 = pd.DataFrame(num_attributes.apply(np.std)).T\n",
    "d2 = pd.DataFrame(num_attributes.apply(min)).T\n",
    "d3 = pd.DataFrame(num_attributes.apply(max)).T\n",
    "d4 = pd.DataFrame(num_attributes.apply(lambda x: x.max() - x.min())).T\n",
    "d5 = pd.DataFrame(num_attributes.apply(lambda x: x.skew())).T\n",
    "d6 = pd.DataFrame(num_attributes.apply(lambda x: x.kurtosis())).T\n",
    "\n",
    "# Concat\n",
    "ct = pd.concat([d2,d3,d4,ct1,ct2,d1,d5,d6]).T.reset_index()\n",
    "ct.columns = ['Attributes', 'min','max','range','mean', 'median', 'std', 'skew', 'kurtosis']\n",
    "ct"
   ]
  },
  {
   "cell_type": "code",
   "execution_count": 43,
   "metadata": {},
   "outputs": [
    {
     "data": {
      "text/html": [
       "<div>\n",
       "<style scoped>\n",
       "    .dataframe tbody tr th:only-of-type {\n",
       "        vertical-align: middle;\n",
       "    }\n",
       "\n",
       "    .dataframe tbody tr th {\n",
       "        vertical-align: top;\n",
       "    }\n",
       "\n",
       "    .dataframe thead th {\n",
       "        text-align: right;\n",
       "    }\n",
       "</style>\n",
       "<table border=\"1\" class=\"dataframe\">\n",
       "  <thead>\n",
       "    <tr style=\"text-align: right;\">\n",
       "      <th></th>\n",
       "      <th>count</th>\n",
       "      <th>mean</th>\n",
       "      <th>std</th>\n",
       "      <th>min</th>\n",
       "      <th>25%</th>\n",
       "      <th>50%</th>\n",
       "      <th>75%</th>\n",
       "      <th>max</th>\n",
       "    </tr>\n",
       "  </thead>\n",
       "  <tbody>\n",
       "    <tr>\n",
       "      <th>age</th>\n",
       "      <td>207386.0</td>\n",
       "      <td>49.183142</td>\n",
       "      <td>118.421975</td>\n",
       "      <td>1.0</td>\n",
       "      <td>32.0</td>\n",
       "      <td>49.0</td>\n",
       "      <td>49.0</td>\n",
       "      <td>2014.0</td>\n",
       "    </tr>\n",
       "    <tr>\n",
       "      <th>signup_flow</th>\n",
       "      <td>207386.0</td>\n",
       "      <td>3.151490</td>\n",
       "      <td>7.543933</td>\n",
       "      <td>0.0</td>\n",
       "      <td>0.0</td>\n",
       "      <td>0.0</td>\n",
       "      <td>0.0</td>\n",
       "      <td>25.0</td>\n",
       "    </tr>\n",
       "  </tbody>\n",
       "</table>\n",
       "</div>"
      ],
      "text/plain": [
       "                count       mean         std  min   25%   50%   75%     max\n",
       "age          207386.0  49.183142  118.421975  1.0  32.0  49.0  49.0  2014.0\n",
       "signup_flow  207386.0   3.151490    7.543933  0.0   0.0   0.0   0.0    25.0"
      ]
     },
     "execution_count": 43,
     "metadata": {},
     "output_type": "execute_result"
    }
   ],
   "source": [
    "num_attributes.describe().T"
   ]
  },
  {
   "cell_type": "markdown",
   "metadata": {},
   "source": [
    "### 1.6.2 Numerical - Sessions"
   ]
  },
  {
   "cell_type": "code",
   "execution_count": null,
   "metadata": {},
   "outputs": [],
   "source": []
  },
  {
   "cell_type": "markdown",
   "metadata": {
    "heading_collapsed": true
   },
   "source": [
    "# 2.0. Data Filtering"
   ]
  },
  {
   "cell_type": "code",
   "execution_count": 44,
   "metadata": {
    "ExecuteTime": {
     "end_time": "2021-12-28T04:16:03.062863Z",
     "start_time": "2021-12-28T04:16:03.032863Z"
    },
    "hidden": true
   },
   "outputs": [],
   "source": [
    "df = df1.copy()"
   ]
  },
  {
   "cell_type": "code",
   "execution_count": 45,
   "metadata": {},
   "outputs": [],
   "source": [
    "df2=df1.copy()"
   ]
  },
  {
   "cell_type": "markdown",
   "metadata": {
    "hidden": true
   },
   "source": [
    "## 2.1. Filtering rows"
   ]
  },
  {
   "cell_type": "code",
   "execution_count": null,
   "metadata": {},
   "outputs": [],
   "source": [
    "df"
   ]
  },
  {
   "cell_type": "markdown",
   "metadata": {
    "hidden": true
   },
   "source": [
    "## 2.2. Columns selection"
   ]
  },
  {
   "cell_type": "code",
   "execution_count": null,
   "metadata": {
    "hidden": true
   },
   "outputs": [],
   "source": []
  },
  {
   "cell_type": "markdown",
   "metadata": {
    "heading_collapsed": true
   },
   "source": [
    "# 3.0 Data Preparation"
   ]
  },
  {
   "cell_type": "code",
   "execution_count": 1,
   "metadata": {},
   "outputs": [
    {
     "ename": "NameError",
     "evalue": "name 'df2' is not defined",
     "output_type": "error",
     "traceback": [
      "\u001b[1;31m---------------------------------------------------------------------------\u001b[0m",
      "\u001b[1;31mNameError\u001b[0m                                 Traceback (most recent call last)",
      "\u001b[1;32m<ipython-input-1-82eebe79d547>\u001b[0m in \u001b[0;36m<module>\u001b[1;34m\u001b[0m\n\u001b[1;32m----> 1\u001b[1;33m \u001b[0mdf3\u001b[0m\u001b[1;33m=\u001b[0m\u001b[0mdf2\u001b[0m\u001b[1;33m.\u001b[0m\u001b[0mcopy\u001b[0m\u001b[1;33m(\u001b[0m\u001b[1;33m)\u001b[0m\u001b[1;33m\u001b[0m\u001b[1;33m\u001b[0m\u001b[0m\n\u001b[0m",
      "\u001b[1;31mNameError\u001b[0m: name 'df2' is not defined"
     ]
    }
   ],
   "source": [
    "df3=df2.copy()"
   ]
  },
  {
   "cell_type": "code",
   "execution_count": 56,
   "metadata": {
    "ExecuteTime": {
     "end_time": "2021-12-28T04:16:03.283459Z",
     "start_time": "2021-12-28T04:16:03.065864Z"
    },
    "hidden": true
   },
   "outputs": [],
   "source": [
    "cols_categoric = ['gender',\n",
    "                'signup_method',\n",
    "                'language',\n",
    "                'affiliate_channel',\n",
    "                'affiliate_provider',\n",
    "                'first_affiliate_tracked',\n",
    "                'signup_app',\n",
    "                'first_device_type',\n",
    "                'first_browser']\n",
    "# dummy variable\n",
    "df_dummy = pd.get_dummies( df3.drop( ['id','country_destination'], axis=1 ) ) # Retirando as variáveis do ID e a variável resposta (target)\n",
    "\n",
    "#join id and country destination \n",
    "df = pd.concat( [df3[['id','country_destination']],df_dummy], axis=1 )"
   ]
  },
  {
   "cell_type": "code",
   "execution_count": 57,
   "metadata": {
    "ExecuteTime": {
     "end_time": "2021-12-28T04:16:03.330229Z",
     "start_time": "2021-12-28T04:16:03.285279Z"
    },
    "hidden": true
   },
   "outputs": [
    {
     "data": {
      "text/html": [
       "<div>\n",
       "<style scoped>\n",
       "    .dataframe tbody tr th:only-of-type {\n",
       "        vertical-align: middle;\n",
       "    }\n",
       "\n",
       "    .dataframe tbody tr th {\n",
       "        vertical-align: top;\n",
       "    }\n",
       "\n",
       "    .dataframe thead th {\n",
       "        text-align: right;\n",
       "    }\n",
       "</style>\n",
       "<table border=\"1\" class=\"dataframe\">\n",
       "  <thead>\n",
       "    <tr style=\"text-align: right;\">\n",
       "      <th></th>\n",
       "      <th>id</th>\n",
       "      <th>country_destination</th>\n",
       "      <th>date_account_created</th>\n",
       "      <th>timestamp_first_active</th>\n",
       "      <th>date_first_booking</th>\n",
       "      <th>age</th>\n",
       "      <th>signup_flow</th>\n",
       "      <th>gender_-unknown-</th>\n",
       "      <th>gender_FEMALE</th>\n",
       "      <th>gender_MALE</th>\n",
       "      <th>...</th>\n",
       "      <th>first_browser_SeaMonkey</th>\n",
       "      <th>first_browser_Silk</th>\n",
       "      <th>first_browser_SiteKiosk</th>\n",
       "      <th>first_browser_SlimBrowser</th>\n",
       "      <th>first_browser_Sogou Explorer</th>\n",
       "      <th>first_browser_Stainless</th>\n",
       "      <th>first_browser_TenFourFox</th>\n",
       "      <th>first_browser_TheWorld Browser</th>\n",
       "      <th>first_browser_Yandex.Browser</th>\n",
       "      <th>first_browser_wOSBrowser</th>\n",
       "    </tr>\n",
       "  </thead>\n",
       "  <tbody>\n",
       "    <tr>\n",
       "      <th>0</th>\n",
       "      <td>gxn3p5htnn</td>\n",
       "      <td>NDF</td>\n",
       "      <td>2010-06-28</td>\n",
       "      <td>2009-03-19 04:32:55</td>\n",
       "      <td>2015-06-29</td>\n",
       "      <td>49</td>\n",
       "      <td>0</td>\n",
       "      <td>1</td>\n",
       "      <td>0</td>\n",
       "      <td>0</td>\n",
       "      <td>...</td>\n",
       "      <td>0</td>\n",
       "      <td>0</td>\n",
       "      <td>0</td>\n",
       "      <td>0</td>\n",
       "      <td>0</td>\n",
       "      <td>0</td>\n",
       "      <td>0</td>\n",
       "      <td>0</td>\n",
       "      <td>0</td>\n",
       "      <td>0</td>\n",
       "    </tr>\n",
       "    <tr>\n",
       "      <th>1</th>\n",
       "      <td>820tgsjxq7</td>\n",
       "      <td>NDF</td>\n",
       "      <td>2011-05-25</td>\n",
       "      <td>2009-05-23 17:48:09</td>\n",
       "      <td>2015-06-29</td>\n",
       "      <td>38</td>\n",
       "      <td>0</td>\n",
       "      <td>0</td>\n",
       "      <td>0</td>\n",
       "      <td>1</td>\n",
       "      <td>...</td>\n",
       "      <td>0</td>\n",
       "      <td>0</td>\n",
       "      <td>0</td>\n",
       "      <td>0</td>\n",
       "      <td>0</td>\n",
       "      <td>0</td>\n",
       "      <td>0</td>\n",
       "      <td>0</td>\n",
       "      <td>0</td>\n",
       "      <td>0</td>\n",
       "    </tr>\n",
       "    <tr>\n",
       "      <th>2</th>\n",
       "      <td>4ft3gnwmtx</td>\n",
       "      <td>US</td>\n",
       "      <td>2010-09-28</td>\n",
       "      <td>2009-06-09 23:12:47</td>\n",
       "      <td>2010-08-02</td>\n",
       "      <td>56</td>\n",
       "      <td>3</td>\n",
       "      <td>0</td>\n",
       "      <td>1</td>\n",
       "      <td>0</td>\n",
       "      <td>...</td>\n",
       "      <td>0</td>\n",
       "      <td>0</td>\n",
       "      <td>0</td>\n",
       "      <td>0</td>\n",
       "      <td>0</td>\n",
       "      <td>0</td>\n",
       "      <td>0</td>\n",
       "      <td>0</td>\n",
       "      <td>0</td>\n",
       "      <td>0</td>\n",
       "    </tr>\n",
       "    <tr>\n",
       "      <th>3</th>\n",
       "      <td>bjjt8pjhuk</td>\n",
       "      <td>other</td>\n",
       "      <td>2011-12-05</td>\n",
       "      <td>2009-10-31 06:01:29</td>\n",
       "      <td>2012-09-08</td>\n",
       "      <td>42</td>\n",
       "      <td>0</td>\n",
       "      <td>0</td>\n",
       "      <td>1</td>\n",
       "      <td>0</td>\n",
       "      <td>...</td>\n",
       "      <td>0</td>\n",
       "      <td>0</td>\n",
       "      <td>0</td>\n",
       "      <td>0</td>\n",
       "      <td>0</td>\n",
       "      <td>0</td>\n",
       "      <td>0</td>\n",
       "      <td>0</td>\n",
       "      <td>0</td>\n",
       "      <td>0</td>\n",
       "    </tr>\n",
       "    <tr>\n",
       "      <th>4</th>\n",
       "      <td>87mebub9p4</td>\n",
       "      <td>US</td>\n",
       "      <td>2010-09-14</td>\n",
       "      <td>2009-12-08 06:11:05</td>\n",
       "      <td>2010-02-18</td>\n",
       "      <td>41</td>\n",
       "      <td>0</td>\n",
       "      <td>1</td>\n",
       "      <td>0</td>\n",
       "      <td>0</td>\n",
       "      <td>...</td>\n",
       "      <td>0</td>\n",
       "      <td>0</td>\n",
       "      <td>0</td>\n",
       "      <td>0</td>\n",
       "      <td>0</td>\n",
       "      <td>0</td>\n",
       "      <td>0</td>\n",
       "      <td>0</td>\n",
       "      <td>0</td>\n",
       "      <td>0</td>\n",
       "    </tr>\n",
       "  </tbody>\n",
       "</table>\n",
       "<p>5 rows × 137 columns</p>\n",
       "</div>"
      ],
      "text/plain": [
       "           id country_destination date_account_created timestamp_first_active  \\\n",
       "0  gxn3p5htnn                 NDF           2010-06-28    2009-03-19 04:32:55   \n",
       "1  820tgsjxq7                 NDF           2011-05-25    2009-05-23 17:48:09   \n",
       "2  4ft3gnwmtx                  US           2010-09-28    2009-06-09 23:12:47   \n",
       "3  bjjt8pjhuk               other           2011-12-05    2009-10-31 06:01:29   \n",
       "4  87mebub9p4                  US           2010-09-14    2009-12-08 06:11:05   \n",
       "\n",
       "  date_first_booking  age  signup_flow  gender_-unknown-  gender_FEMALE  \\\n",
       "0         2015-06-29   49            0                 1              0   \n",
       "1         2015-06-29   38            0                 0              0   \n",
       "2         2010-08-02   56            3                 0              1   \n",
       "3         2012-09-08   42            0                 0              1   \n",
       "4         2010-02-18   41            0                 1              0   \n",
       "\n",
       "   gender_MALE  ...  first_browser_SeaMonkey  first_browser_Silk  \\\n",
       "0            0  ...                        0                   0   \n",
       "1            1  ...                        0                   0   \n",
       "2            0  ...                        0                   0   \n",
       "3            0  ...                        0                   0   \n",
       "4            0  ...                        0                   0   \n",
       "\n",
       "   first_browser_SiteKiosk  first_browser_SlimBrowser  \\\n",
       "0                        0                          0   \n",
       "1                        0                          0   \n",
       "2                        0                          0   \n",
       "3                        0                          0   \n",
       "4                        0                          0   \n",
       "\n",
       "   first_browser_Sogou Explorer  first_browser_Stainless  \\\n",
       "0                             0                        0   \n",
       "1                             0                        0   \n",
       "2                             0                        0   \n",
       "3                             0                        0   \n",
       "4                             0                        0   \n",
       "\n",
       "   first_browser_TenFourFox  first_browser_TheWorld Browser  \\\n",
       "0                         0                               0   \n",
       "1                         0                               0   \n",
       "2                         0                               0   \n",
       "3                         0                               0   \n",
       "4                         0                               0   \n",
       "\n",
       "   first_browser_Yandex.Browser  first_browser_wOSBrowser  \n",
       "0                             0                         0  \n",
       "1                             0                         0  \n",
       "2                             0                         0  \n",
       "3                             0                         0  \n",
       "4                             0                         0  \n",
       "\n",
       "[5 rows x 137 columns]"
      ]
     },
     "execution_count": 57,
     "metadata": {},
     "output_type": "execute_result"
    }
   ],
   "source": [
    "df.head()"
   ]
  },
  {
   "cell_type": "markdown",
   "metadata": {},
   "source": [
    "# 4.0. Feature Selection"
   ]
  },
  {
   "cell_type": "code",
   "execution_count": 58,
   "metadata": {
    "ExecuteTime": {
     "end_time": "2021-12-28T04:16:03.409187Z",
     "start_time": "2021-12-28T04:16:03.333230Z"
    }
   },
   "outputs": [
    {
     "data": {
      "text/html": [
       "<div>\n",
       "<style scoped>\n",
       "    .dataframe tbody tr th:only-of-type {\n",
       "        vertical-align: middle;\n",
       "    }\n",
       "\n",
       "    .dataframe tbody tr th {\n",
       "        vertical-align: top;\n",
       "    }\n",
       "\n",
       "    .dataframe thead th {\n",
       "        text-align: right;\n",
       "    }\n",
       "</style>\n",
       "<table border=\"1\" class=\"dataframe\">\n",
       "  <thead>\n",
       "    <tr style=\"text-align: right;\">\n",
       "      <th></th>\n",
       "      <th>57055</th>\n",
       "    </tr>\n",
       "  </thead>\n",
       "  <tbody>\n",
       "    <tr>\n",
       "      <th>id</th>\n",
       "      <td>q8ghrdjg3j</td>\n",
       "    </tr>\n",
       "    <tr>\n",
       "      <th>country_destination</th>\n",
       "      <td>other</td>\n",
       "    </tr>\n",
       "    <tr>\n",
       "      <th>date_account_created</th>\n",
       "      <td>2013-01-22 00:00:00</td>\n",
       "    </tr>\n",
       "    <tr>\n",
       "      <th>timestamp_first_active</th>\n",
       "      <td>2013-01-22 18:37:16</td>\n",
       "    </tr>\n",
       "    <tr>\n",
       "      <th>date_first_booking</th>\n",
       "      <td>2013-01-23 00:00:00</td>\n",
       "    </tr>\n",
       "    <tr>\n",
       "      <th>...</th>\n",
       "      <td>...</td>\n",
       "    </tr>\n",
       "    <tr>\n",
       "      <th>first_browser_Stainless</th>\n",
       "      <td>0</td>\n",
       "    </tr>\n",
       "    <tr>\n",
       "      <th>first_browser_TenFourFox</th>\n",
       "      <td>0</td>\n",
       "    </tr>\n",
       "    <tr>\n",
       "      <th>first_browser_TheWorld Browser</th>\n",
       "      <td>0</td>\n",
       "    </tr>\n",
       "    <tr>\n",
       "      <th>first_browser_Yandex.Browser</th>\n",
       "      <td>0</td>\n",
       "    </tr>\n",
       "    <tr>\n",
       "      <th>first_browser_wOSBrowser</th>\n",
       "      <td>0</td>\n",
       "    </tr>\n",
       "  </tbody>\n",
       "</table>\n",
       "<p>137 rows × 1 columns</p>\n",
       "</div>"
      ],
      "text/plain": [
       "                                              57055\n",
       "id                                       q8ghrdjg3j\n",
       "country_destination                           other\n",
       "date_account_created            2013-01-22 00:00:00\n",
       "timestamp_first_active          2013-01-22 18:37:16\n",
       "date_first_booking              2013-01-23 00:00:00\n",
       "...                                             ...\n",
       "first_browser_Stainless                           0\n",
       "first_browser_TenFourFox                          0\n",
       "first_browser_TheWorld Browser                    0\n",
       "first_browser_Yandex.Browser                      0\n",
       "first_browser_wOSBrowser                          0\n",
       "\n",
       "[137 rows x 1 columns]"
      ]
     },
     "execution_count": 58,
     "metadata": {},
     "output_type": "execute_result"
    }
   ],
   "source": [
    "df.sample().T"
   ]
  },
  {
   "cell_type": "code",
   "execution_count": 59,
   "metadata": {
    "ExecuteTime": {
     "end_time": "2021-12-28T04:16:03.440436Z",
     "start_time": "2021-12-28T04:16:03.411184Z"
    }
   },
   "outputs": [],
   "source": [
    "cols_drop = ['id','date_account_created','timestamp_first_active','date_first_booking'] # Original Dates\n",
    "df=df.drop(cols_drop,axis=1)\n",
    "#df.dtypes"
   ]
  },
  {
   "cell_type": "code",
   "execution_count": 60,
   "metadata": {
    "ExecuteTime": {
     "end_time": "2021-12-28T04:16:03.471434Z",
     "start_time": "2021-12-28T04:16:03.444184Z"
    }
   },
   "outputs": [],
   "source": [
    "X = df.drop('country_destination', axis=1)\n",
    "y = df['country_destination'].copy()"
   ]
  },
  {
   "cell_type": "code",
   "execution_count": 61,
   "metadata": {
    "ExecuteTime": {
     "end_time": "2021-12-28T04:16:03.518428Z",
     "start_time": "2021-12-28T04:16:03.473184Z"
    }
   },
   "outputs": [
    {
     "data": {
      "text/html": [
       "<div>\n",
       "<style scoped>\n",
       "    .dataframe tbody tr th:only-of-type {\n",
       "        vertical-align: middle;\n",
       "    }\n",
       "\n",
       "    .dataframe tbody tr th {\n",
       "        vertical-align: top;\n",
       "    }\n",
       "\n",
       "    .dataframe thead th {\n",
       "        text-align: right;\n",
       "    }\n",
       "</style>\n",
       "<table border=\"1\" class=\"dataframe\">\n",
       "  <thead>\n",
       "    <tr style=\"text-align: right;\">\n",
       "      <th></th>\n",
       "      <th>age</th>\n",
       "      <th>signup_flow</th>\n",
       "      <th>gender_-unknown-</th>\n",
       "      <th>gender_FEMALE</th>\n",
       "      <th>gender_MALE</th>\n",
       "      <th>gender_OTHER</th>\n",
       "      <th>signup_method_basic</th>\n",
       "      <th>signup_method_facebook</th>\n",
       "      <th>signup_method_google</th>\n",
       "      <th>language_ca</th>\n",
       "      <th>...</th>\n",
       "      <th>first_browser_SeaMonkey</th>\n",
       "      <th>first_browser_Silk</th>\n",
       "      <th>first_browser_SiteKiosk</th>\n",
       "      <th>first_browser_SlimBrowser</th>\n",
       "      <th>first_browser_Sogou Explorer</th>\n",
       "      <th>first_browser_Stainless</th>\n",
       "      <th>first_browser_TenFourFox</th>\n",
       "      <th>first_browser_TheWorld Browser</th>\n",
       "      <th>first_browser_Yandex.Browser</th>\n",
       "      <th>first_browser_wOSBrowser</th>\n",
       "    </tr>\n",
       "  </thead>\n",
       "  <tbody>\n",
       "    <tr>\n",
       "      <th>0</th>\n",
       "      <td>49</td>\n",
       "      <td>0</td>\n",
       "      <td>1</td>\n",
       "      <td>0</td>\n",
       "      <td>0</td>\n",
       "      <td>0</td>\n",
       "      <td>0</td>\n",
       "      <td>1</td>\n",
       "      <td>0</td>\n",
       "      <td>0</td>\n",
       "      <td>...</td>\n",
       "      <td>0</td>\n",
       "      <td>0</td>\n",
       "      <td>0</td>\n",
       "      <td>0</td>\n",
       "      <td>0</td>\n",
       "      <td>0</td>\n",
       "      <td>0</td>\n",
       "      <td>0</td>\n",
       "      <td>0</td>\n",
       "      <td>0</td>\n",
       "    </tr>\n",
       "    <tr>\n",
       "      <th>1</th>\n",
       "      <td>38</td>\n",
       "      <td>0</td>\n",
       "      <td>0</td>\n",
       "      <td>0</td>\n",
       "      <td>1</td>\n",
       "      <td>0</td>\n",
       "      <td>0</td>\n",
       "      <td>1</td>\n",
       "      <td>0</td>\n",
       "      <td>0</td>\n",
       "      <td>...</td>\n",
       "      <td>0</td>\n",
       "      <td>0</td>\n",
       "      <td>0</td>\n",
       "      <td>0</td>\n",
       "      <td>0</td>\n",
       "      <td>0</td>\n",
       "      <td>0</td>\n",
       "      <td>0</td>\n",
       "      <td>0</td>\n",
       "      <td>0</td>\n",
       "    </tr>\n",
       "    <tr>\n",
       "      <th>2</th>\n",
       "      <td>56</td>\n",
       "      <td>3</td>\n",
       "      <td>0</td>\n",
       "      <td>1</td>\n",
       "      <td>0</td>\n",
       "      <td>0</td>\n",
       "      <td>1</td>\n",
       "      <td>0</td>\n",
       "      <td>0</td>\n",
       "      <td>0</td>\n",
       "      <td>...</td>\n",
       "      <td>0</td>\n",
       "      <td>0</td>\n",
       "      <td>0</td>\n",
       "      <td>0</td>\n",
       "      <td>0</td>\n",
       "      <td>0</td>\n",
       "      <td>0</td>\n",
       "      <td>0</td>\n",
       "      <td>0</td>\n",
       "      <td>0</td>\n",
       "    </tr>\n",
       "    <tr>\n",
       "      <th>3</th>\n",
       "      <td>42</td>\n",
       "      <td>0</td>\n",
       "      <td>0</td>\n",
       "      <td>1</td>\n",
       "      <td>0</td>\n",
       "      <td>0</td>\n",
       "      <td>0</td>\n",
       "      <td>1</td>\n",
       "      <td>0</td>\n",
       "      <td>0</td>\n",
       "      <td>...</td>\n",
       "      <td>0</td>\n",
       "      <td>0</td>\n",
       "      <td>0</td>\n",
       "      <td>0</td>\n",
       "      <td>0</td>\n",
       "      <td>0</td>\n",
       "      <td>0</td>\n",
       "      <td>0</td>\n",
       "      <td>0</td>\n",
       "      <td>0</td>\n",
       "    </tr>\n",
       "    <tr>\n",
       "      <th>4</th>\n",
       "      <td>41</td>\n",
       "      <td>0</td>\n",
       "      <td>1</td>\n",
       "      <td>0</td>\n",
       "      <td>0</td>\n",
       "      <td>0</td>\n",
       "      <td>1</td>\n",
       "      <td>0</td>\n",
       "      <td>0</td>\n",
       "      <td>0</td>\n",
       "      <td>...</td>\n",
       "      <td>0</td>\n",
       "      <td>0</td>\n",
       "      <td>0</td>\n",
       "      <td>0</td>\n",
       "      <td>0</td>\n",
       "      <td>0</td>\n",
       "      <td>0</td>\n",
       "      <td>0</td>\n",
       "      <td>0</td>\n",
       "      <td>0</td>\n",
       "    </tr>\n",
       "    <tr>\n",
       "      <th>...</th>\n",
       "      <td>...</td>\n",
       "      <td>...</td>\n",
       "      <td>...</td>\n",
       "      <td>...</td>\n",
       "      <td>...</td>\n",
       "      <td>...</td>\n",
       "      <td>...</td>\n",
       "      <td>...</td>\n",
       "      <td>...</td>\n",
       "      <td>...</td>\n",
       "      <td>...</td>\n",
       "      <td>...</td>\n",
       "      <td>...</td>\n",
       "      <td>...</td>\n",
       "      <td>...</td>\n",
       "      <td>...</td>\n",
       "      <td>...</td>\n",
       "      <td>...</td>\n",
       "      <td>...</td>\n",
       "      <td>...</td>\n",
       "      <td>...</td>\n",
       "    </tr>\n",
       "    <tr>\n",
       "      <th>213446</th>\n",
       "      <td>32</td>\n",
       "      <td>0</td>\n",
       "      <td>0</td>\n",
       "      <td>0</td>\n",
       "      <td>1</td>\n",
       "      <td>0</td>\n",
       "      <td>1</td>\n",
       "      <td>0</td>\n",
       "      <td>0</td>\n",
       "      <td>0</td>\n",
       "      <td>...</td>\n",
       "      <td>0</td>\n",
       "      <td>0</td>\n",
       "      <td>0</td>\n",
       "      <td>0</td>\n",
       "      <td>0</td>\n",
       "      <td>0</td>\n",
       "      <td>0</td>\n",
       "      <td>0</td>\n",
       "      <td>0</td>\n",
       "      <td>0</td>\n",
       "    </tr>\n",
       "    <tr>\n",
       "      <th>213447</th>\n",
       "      <td>49</td>\n",
       "      <td>0</td>\n",
       "      <td>1</td>\n",
       "      <td>0</td>\n",
       "      <td>0</td>\n",
       "      <td>0</td>\n",
       "      <td>1</td>\n",
       "      <td>0</td>\n",
       "      <td>0</td>\n",
       "      <td>0</td>\n",
       "      <td>...</td>\n",
       "      <td>0</td>\n",
       "      <td>0</td>\n",
       "      <td>0</td>\n",
       "      <td>0</td>\n",
       "      <td>0</td>\n",
       "      <td>0</td>\n",
       "      <td>0</td>\n",
       "      <td>0</td>\n",
       "      <td>0</td>\n",
       "      <td>0</td>\n",
       "    </tr>\n",
       "    <tr>\n",
       "      <th>213448</th>\n",
       "      <td>32</td>\n",
       "      <td>0</td>\n",
       "      <td>1</td>\n",
       "      <td>0</td>\n",
       "      <td>0</td>\n",
       "      <td>0</td>\n",
       "      <td>1</td>\n",
       "      <td>0</td>\n",
       "      <td>0</td>\n",
       "      <td>0</td>\n",
       "      <td>...</td>\n",
       "      <td>0</td>\n",
       "      <td>0</td>\n",
       "      <td>0</td>\n",
       "      <td>0</td>\n",
       "      <td>0</td>\n",
       "      <td>0</td>\n",
       "      <td>0</td>\n",
       "      <td>0</td>\n",
       "      <td>0</td>\n",
       "      <td>0</td>\n",
       "    </tr>\n",
       "    <tr>\n",
       "      <th>213449</th>\n",
       "      <td>49</td>\n",
       "      <td>25</td>\n",
       "      <td>1</td>\n",
       "      <td>0</td>\n",
       "      <td>0</td>\n",
       "      <td>0</td>\n",
       "      <td>1</td>\n",
       "      <td>0</td>\n",
       "      <td>0</td>\n",
       "      <td>0</td>\n",
       "      <td>...</td>\n",
       "      <td>0</td>\n",
       "      <td>0</td>\n",
       "      <td>0</td>\n",
       "      <td>0</td>\n",
       "      <td>0</td>\n",
       "      <td>0</td>\n",
       "      <td>0</td>\n",
       "      <td>0</td>\n",
       "      <td>0</td>\n",
       "      <td>0</td>\n",
       "    </tr>\n",
       "    <tr>\n",
       "      <th>213450</th>\n",
       "      <td>49</td>\n",
       "      <td>25</td>\n",
       "      <td>1</td>\n",
       "      <td>0</td>\n",
       "      <td>0</td>\n",
       "      <td>0</td>\n",
       "      <td>1</td>\n",
       "      <td>0</td>\n",
       "      <td>0</td>\n",
       "      <td>0</td>\n",
       "      <td>...</td>\n",
       "      <td>0</td>\n",
       "      <td>0</td>\n",
       "      <td>0</td>\n",
       "      <td>0</td>\n",
       "      <td>0</td>\n",
       "      <td>0</td>\n",
       "      <td>0</td>\n",
       "      <td>0</td>\n",
       "      <td>0</td>\n",
       "      <td>0</td>\n",
       "    </tr>\n",
       "  </tbody>\n",
       "</table>\n",
       "<p>207386 rows × 132 columns</p>\n",
       "</div>"
      ],
      "text/plain": [
       "        age  signup_flow  gender_-unknown-  gender_FEMALE  gender_MALE  \\\n",
       "0        49            0                 1              0            0   \n",
       "1        38            0                 0              0            1   \n",
       "2        56            3                 0              1            0   \n",
       "3        42            0                 0              1            0   \n",
       "4        41            0                 1              0            0   \n",
       "...     ...          ...               ...            ...          ...   \n",
       "213446   32            0                 0              0            1   \n",
       "213447   49            0                 1              0            0   \n",
       "213448   32            0                 1              0            0   \n",
       "213449   49           25                 1              0            0   \n",
       "213450   49           25                 1              0            0   \n",
       "\n",
       "        gender_OTHER  signup_method_basic  signup_method_facebook  \\\n",
       "0                  0                    0                       1   \n",
       "1                  0                    0                       1   \n",
       "2                  0                    1                       0   \n",
       "3                  0                    0                       1   \n",
       "4                  0                    1                       0   \n",
       "...              ...                  ...                     ...   \n",
       "213446             0                    1                       0   \n",
       "213447             0                    1                       0   \n",
       "213448             0                    1                       0   \n",
       "213449             0                    1                       0   \n",
       "213450             0                    1                       0   \n",
       "\n",
       "        signup_method_google  language_ca  ...  first_browser_SeaMonkey  \\\n",
       "0                          0            0  ...                        0   \n",
       "1                          0            0  ...                        0   \n",
       "2                          0            0  ...                        0   \n",
       "3                          0            0  ...                        0   \n",
       "4                          0            0  ...                        0   \n",
       "...                      ...          ...  ...                      ...   \n",
       "213446                     0            0  ...                        0   \n",
       "213447                     0            0  ...                        0   \n",
       "213448                     0            0  ...                        0   \n",
       "213449                     0            0  ...                        0   \n",
       "213450                     0            0  ...                        0   \n",
       "\n",
       "        first_browser_Silk  first_browser_SiteKiosk  \\\n",
       "0                        0                        0   \n",
       "1                        0                        0   \n",
       "2                        0                        0   \n",
       "3                        0                        0   \n",
       "4                        0                        0   \n",
       "...                    ...                      ...   \n",
       "213446                   0                        0   \n",
       "213447                   0                        0   \n",
       "213448                   0                        0   \n",
       "213449                   0                        0   \n",
       "213450                   0                        0   \n",
       "\n",
       "        first_browser_SlimBrowser  first_browser_Sogou Explorer  \\\n",
       "0                               0                             0   \n",
       "1                               0                             0   \n",
       "2                               0                             0   \n",
       "3                               0                             0   \n",
       "4                               0                             0   \n",
       "...                           ...                           ...   \n",
       "213446                          0                             0   \n",
       "213447                          0                             0   \n",
       "213448                          0                             0   \n",
       "213449                          0                             0   \n",
       "213450                          0                             0   \n",
       "\n",
       "        first_browser_Stainless  first_browser_TenFourFox  \\\n",
       "0                             0                         0   \n",
       "1                             0                         0   \n",
       "2                             0                         0   \n",
       "3                             0                         0   \n",
       "4                             0                         0   \n",
       "...                         ...                       ...   \n",
       "213446                        0                         0   \n",
       "213447                        0                         0   \n",
       "213448                        0                         0   \n",
       "213449                        0                         0   \n",
       "213450                        0                         0   \n",
       "\n",
       "        first_browser_TheWorld Browser  first_browser_Yandex.Browser  \\\n",
       "0                                    0                             0   \n",
       "1                                    0                             0   \n",
       "2                                    0                             0   \n",
       "3                                    0                             0   \n",
       "4                                    0                             0   \n",
       "...                                ...                           ...   \n",
       "213446                               0                             0   \n",
       "213447                               0                             0   \n",
       "213448                               0                             0   \n",
       "213449                               0                             0   \n",
       "213450                               0                             0   \n",
       "\n",
       "        first_browser_wOSBrowser  \n",
       "0                              0  \n",
       "1                              0  \n",
       "2                              0  \n",
       "3                              0  \n",
       "4                              0  \n",
       "...                          ...  \n",
       "213446                         0  \n",
       "213447                         0  \n",
       "213448                         0  \n",
       "213449                         0  \n",
       "213450                         0  \n",
       "\n",
       "[207386 rows x 132 columns]"
      ]
     },
     "execution_count": 61,
     "metadata": {},
     "output_type": "execute_result"
    }
   ],
   "source": [
    "X"
   ]
  },
  {
   "cell_type": "markdown",
   "metadata": {},
   "source": [
    "# 5.0. Machine Learning Model "
   ]
  },
  {
   "cell_type": "code",
   "execution_count": 62,
   "metadata": {
    "ExecuteTime": {
     "end_time": "2021-12-28T04:23:25.570785Z",
     "start_time": "2021-12-28T04:23:23.499517Z"
    }
   },
   "outputs": [],
   "source": [
    "# Split Dataset into training and test\n",
    "x_train, x_test, y_train, y_test = ms.train_test_split(\n",
    "                                                        X,\n",
    "                                                        y,\n",
    "                                                        test_size = 0.25,\n",
    "                                                        random_state=42\n",
    "                                                        )"
   ]
  },
  {
   "cell_type": "markdown",
   "metadata": {},
   "source": [
    "## 5.1. Baseline Model\n",
    "- Inserindo um modelo que realizar a classifição da amostragem de forma aleatória, com os devidos pesos.\n"
   ]
  },
  {
   "cell_type": "code",
   "execution_count": 63,
   "metadata": {
    "ExecuteTime": {
     "end_time": "2021-12-28T04:49:42.750111Z",
     "start_time": "2021-12-28T04:49:42.422743Z"
    }
   },
   "outputs": [],
   "source": [
    "country_destination_weights = df1['country_destination'].value_counts(normalize = True).sort_index().tolist()"
   ]
  },
  {
   "cell_type": "code",
   "execution_count": 64,
   "metadata": {
    "ExecuteTime": {
     "end_time": "2021-12-28T04:49:43.358384Z",
     "start_time": "2021-12-28T04:49:43.353382Z"
    }
   },
   "outputs": [],
   "source": [
    "k_num = y_test.shape[0]"
   ]
  },
  {
   "cell_type": "code",
   "execution_count": 65,
   "metadata": {
    "ExecuteTime": {
     "end_time": "2021-12-28T04:49:44.065422Z",
     "start_time": "2021-12-28T04:49:43.954457Z"
    }
   },
   "outputs": [],
   "source": [
    "country_destination_list = df1['country_destination'].drop_duplicates().sort_values().tolist()"
   ]
  },
  {
   "cell_type": "code",
   "execution_count": 66,
   "metadata": {
    "ExecuteTime": {
     "end_time": "2021-12-28T04:49:45.919950Z",
     "start_time": "2021-12-28T04:49:45.894951Z"
    }
   },
   "outputs": [
    {
     "data": {
      "text/plain": [
       "51847"
      ]
     },
     "execution_count": 66,
     "metadata": {},
     "output_type": "execute_result"
    }
   ],
   "source": [
    "# Modelo que faz a aleatoriazação da target\n",
    "yhat_random = random.choices(\n",
    "                            population = country_destination_list,\n",
    "                            weights = country_destination_weights,\n",
    "                            k= k_num )\n",
    "len(yhat_random)"
   ]
  },
  {
   "cell_type": "markdown",
   "metadata": {
    "heading_collapsed": true
   },
   "source": [
    "## 5.2. Neural Network - MLP"
   ]
  },
  {
   "cell_type": "code",
   "execution_count": 74,
   "metadata": {
    "ExecuteTime": {
     "end_time": "2021-12-28T03:04:28.209424Z",
     "start_time": "2021-12-28T03:04:28.198424Z"
    },
    "hidden": true
   },
   "outputs": [
    {
     "data": {
      "text/plain": [
       "array(['GB', 'US', 'NDF', ..., 'US', 'NDF', 'NDF'], dtype=object)"
      ]
     },
     "execution_count": 74,
     "metadata": {},
     "output_type": "execute_result"
    }
   ],
   "source": [
    "#y_train.values # Tem que transformar em valores numéricos. Utiliza-se o One Hot Encoding"
   ]
  },
  {
   "cell_type": "code",
   "execution_count": 73,
   "metadata": {
    "ExecuteTime": {
     "end_time": "2021-12-28T03:04:28.225423Z",
     "start_time": "2021-12-28T03:04:28.214425Z"
    },
    "hidden": true
   },
   "outputs": [
    {
     "data": {
      "text/plain": [
       "array([['GB'],\n",
       "       ['US'],\n",
       "       ['NDF'],\n",
       "       ...,\n",
       "       ['US'],\n",
       "       ['NDF'],\n",
       "       ['NDF']], dtype=object)"
      ]
     },
     "execution_count": 73,
     "metadata": {},
     "output_type": "execute_result"
    }
   ],
   "source": [
    "#y_train.values.reshape(-1,1)"
   ]
  },
  {
   "cell_type": "code",
   "execution_count": 69,
   "metadata": {
    "ExecuteTime": {
     "end_time": "2021-12-28T04:45:09.159679Z",
     "start_time": "2021-12-28T04:45:07.427227Z"
    },
    "hidden": true
   },
   "outputs": [],
   "source": [
    "ohe = pp.OneHotEncoder()\n",
    "y_ohe = y_train.values.reshape(-1,1)\n",
    "y_train_nn = ohe.fit_transform(y_ohe).toarray()"
   ]
  },
  {
   "cell_type": "code",
   "execution_count": 76,
   "metadata": {
    "ExecuteTime": {
     "end_time": "2021-12-28T04:45:12.790731Z",
     "start_time": "2021-12-28T04:45:12.775733Z"
    },
    "hidden": true
   },
   "outputs": [
    {
     "data": {
      "text/plain": [
       "array([[0., 0., 0., ..., 0., 0., 0.],\n",
       "       [0., 0., 0., ..., 0., 1., 0.],\n",
       "       [0., 0., 0., ..., 0., 0., 0.],\n",
       "       ...,\n",
       "       [0., 0., 0., ..., 0., 1., 0.],\n",
       "       [0., 0., 0., ..., 0., 0., 0.],\n",
       "       [0., 0., 0., ..., 0., 0., 0.]])"
      ]
     },
     "execution_count": 76,
     "metadata": {},
     "output_type": "execute_result"
    }
   ],
   "source": [
    "#y_train_nn"
   ]
  },
  {
   "cell_type": "code",
   "execution_count": 72,
   "metadata": {
    "ExecuteTime": {
     "end_time": "2021-12-28T04:48:36.886152Z",
     "start_time": "2021-12-28T04:45:14.275845Z"
    },
    "hidden": true
   },
   "outputs": [
    {
     "name": "stdout",
     "output_type": "stream",
     "text": [
      "Epoch 1/100\n",
      "4861/4861 [==============================] - ETA: 0s - loss: 1.2390 - accuracy: 0.58 - 14s 2ms/step - loss: 1.2389 - accuracy: 0.5880\n",
      "Epoch 2/100\n",
      "4861/4861 [==============================] - 7s 1ms/step - loss: 1.1581 - accuracy: 0.6066\n",
      "Epoch 3/100\n",
      "4861/4861 [==============================] - 6s 1ms/step - loss: 1.1225 - accuracy: 0.6152\n",
      "Epoch 4/100\n",
      "4861/4861 [==============================] - 7s 1ms/step - loss: 1.0999 - accuracy: 0.6200\n",
      "Epoch 5/100\n",
      "4861/4861 [==============================] - 7s 1ms/step - loss: 1.0895 - accuracy: 0.6199\n",
      "Epoch 6/100\n",
      "4861/4861 [==============================] - 7s 1ms/step - loss: 1.0864 - accuracy: 0.6201\n",
      "Epoch 7/100\n",
      "4861/4861 [==============================] - 6s 1ms/step - loss: 1.0846 - accuracy: 0.6213\n",
      "Epoch 8/100\n",
      "4861/4861 [==============================] - 6s 1ms/step - loss: 1.0840 - accuracy: 0.6208\n",
      "Epoch 9/100\n",
      "4861/4861 [==============================] - ETA: 0s - loss: 1.0834 - accuracy: 0.62 - 6s 1ms/step - loss: 1.0831 - accuracy: 0.6218\n",
      "Epoch 10/100\n",
      "4861/4861 [==============================] - 6s 1ms/step - loss: 1.0816 - accuracy: 0.6216\n",
      "Epoch 11/100\n",
      "4861/4861 [==============================] - 6s 1ms/step - loss: 1.0807 - accuracy: 0.6217\n",
      "Epoch 12/100\n",
      "4861/4861 [==============================] - 10s 2ms/step - loss: 1.0804 - accuracy: 0.6226- ETA: 0s - loss: 1\n",
      "Epoch 13/100\n",
      "4861/4861 [==============================] - 7s 1ms/step - loss: 1.0797 - accuracy: 0.6224\n",
      "Epoch 14/100\n",
      "4861/4861 [==============================] - 8s 2ms/step - loss: 1.0803 - accuracy: 0.6225\n",
      "Epoch 15/100\n",
      "4861/4861 [==============================] - 8s 2ms/step - loss: 1.0803 - accuracy: 0.6218\n",
      "Epoch 16/100\n",
      "4861/4861 [==============================] - 7s 1ms/step - loss: 1.0794 - accuracy: 0.6232\n",
      "Epoch 17/100\n",
      "4861/4861 [==============================] - 8s 2ms/step - loss: 1.0787 - accuracy: 0.6230\n",
      "Epoch 18/100\n",
      "4861/4861 [==============================] - 7s 1ms/step - loss: 1.0782 - accuracy: 0.6222\n",
      "Epoch 19/100\n",
      "4861/4861 [==============================] - 7s 1ms/step - loss: 1.0785 - accuracy: 0.6237\n",
      "Epoch 20/100\n",
      "4861/4861 [==============================] - 7s 1ms/step - loss: 1.0777 - accuracy: 0.6229\n",
      "Epoch 21/100\n",
      "4861/4861 [==============================] - 8s 2ms/step - loss: 1.0773 - accuracy: 0.6225\n",
      "Epoch 22/100\n",
      "4861/4861 [==============================] - 8s 2ms/step - loss: 1.0767 - accuracy: 0.6236\n",
      "Epoch 23/100\n",
      "4861/4861 [==============================] - 7s 2ms/step - loss: 1.0763 - accuracy: 0.6226\n",
      "Epoch 24/100\n",
      "4861/4861 [==============================] - 7s 2ms/step - loss: 1.0756 - accuracy: 0.6238\n",
      "Epoch 25/100\n",
      "4861/4861 [==============================] - 7s 2ms/step - loss: 1.0754 - accuracy: 0.6237\n",
      "Epoch 26/100\n",
      "4861/4861 [==============================] - 7s 2ms/step - loss: 1.0748 - accuracy: 0.6238\n",
      "Epoch 27/100\n",
      "4861/4861 [==============================] - 8s 2ms/step - loss: 1.0748 - accuracy: 0.6234\n",
      "Epoch 28/100\n",
      "4861/4861 [==============================] - 7s 1ms/step - loss: 1.0742 - accuracy: 0.6235\n",
      "Epoch 29/100\n",
      "4861/4861 [==============================] - 9s 2ms/step - loss: 1.0743 - accuracy: 0.6240\n",
      "Epoch 30/100\n",
      "4861/4861 [==============================] - 9s 2ms/step - loss: 1.0740 - accuracy: 0.6232\n",
      "Epoch 31/100\n",
      "4861/4861 [==============================] - 6s 1ms/step - loss: 1.0737 - accuracy: 0.6238\n",
      "Epoch 32/100\n",
      "4861/4861 [==============================] - 6s 1ms/step - loss: 1.0738 - accuracy: 0.6232\n",
      "Epoch 33/100\n",
      "4861/4861 [==============================] - 6s 1ms/step - loss: 1.0730 - accuracy: 0.6244\n",
      "Epoch 34/100\n",
      "4861/4861 [==============================] - 6s 1ms/step - loss: 1.0734 - accuracy: 0.6239\n",
      "Epoch 35/100\n",
      "4861/4861 [==============================] - 6s 1ms/step - loss: 1.0725 - accuracy: 0.6236\n",
      "Epoch 36/100\n",
      "4861/4861 [==============================] - 6s 1ms/step - loss: 1.0728 - accuracy: 0.6237\n",
      "Epoch 37/100\n",
      "4861/4861 [==============================] - 6s 1ms/step - loss: 1.0724 - accuracy: 0.6242\n",
      "Epoch 38/100\n",
      "4861/4861 [==============================] - 6s 1ms/step - loss: 1.0726 - accuracy: 0.6246\n",
      "Epoch 39/100\n",
      "4861/4861 [==============================] - 6s 1ms/step - loss: 1.0724 - accuracy: 0.6236\n",
      "Epoch 40/100\n",
      "4861/4861 [==============================] - 6s 1ms/step - loss: 1.0723 - accuracy: 0.6247\n",
      "Epoch 41/100\n",
      "4861/4861 [==============================] - 6s 1ms/step - loss: 1.0713 - accuracy: 0.6244\n",
      "Epoch 42/100\n",
      "4861/4861 [==============================] - 6s 1ms/step - loss: 1.0716 - accuracy: 0.6240\n",
      "Epoch 43/100\n",
      "4861/4861 [==============================] - 6s 1ms/step - loss: 1.0714 - accuracy: 0.6241\n",
      "Epoch 44/100\n",
      "4861/4861 [==============================] - 7s 1ms/step - loss: 1.0711 - accuracy: 0.6243\n",
      "Epoch 45/100\n",
      "4861/4861 [==============================] - 7s 1ms/step - loss: 1.0714 - accuracy: 0.6244\n",
      "Epoch 46/100\n",
      "4861/4861 [==============================] - 6s 1ms/step - loss: 1.0708 - accuracy: 0.6255\n",
      "Epoch 47/100\n",
      "4861/4861 [==============================] - 8s 2ms/step - loss: 1.0713 - accuracy: 0.6257\n",
      "Epoch 48/100\n",
      "4861/4861 [==============================] - 8s 2ms/step - loss: 1.0703 - accuracy: 0.6251\n",
      "Epoch 49/100\n",
      "4861/4861 [==============================] - 7s 2ms/step - loss: 1.0702 - accuracy: 0.6253\n",
      "Epoch 50/100\n",
      "4861/4861 [==============================] - 7s 2ms/step - loss: 1.0704 - accuracy: 0.6246\n",
      "Epoch 51/100\n",
      "4861/4861 [==============================] - 7s 2ms/step - loss: 1.0704 - accuracy: 0.6252\n",
      "Epoch 52/100\n",
      "4861/4861 [==============================] - 7s 2ms/step - loss: 1.0703 - accuracy: 0.6250\n",
      "Epoch 53/100\n",
      "4861/4861 [==============================] - 7s 2ms/step - loss: 1.0700 - accuracy: 0.6247\n",
      "Epoch 54/100\n",
      "4861/4861 [==============================] - ETA: 0s - loss: 1.0702 - accuracy: 0.62 - 7s 1ms/step - loss: 1.0700 - accuracy: 0.6243\n",
      "Epoch 55/100\n",
      "4861/4861 [==============================] - 7s 2ms/step - loss: 1.0696 - accuracy: 0.6258\n",
      "Epoch 56/100\n",
      "4861/4861 [==============================] - 7s 2ms/step - loss: 1.0697 - accuracy: 0.6252\n",
      "Epoch 57/100\n",
      "4861/4861 [==============================] - 7s 2ms/step - loss: 1.0695 - accuracy: 0.6254\n",
      "Epoch 58/100\n",
      "4861/4861 [==============================] - 7s 2ms/step - loss: 1.0698 - accuracy: 0.6245\n",
      "Epoch 59/100\n",
      "4861/4861 [==============================] - 7s 2ms/step - loss: 1.0692 - accuracy: 0.6251\n",
      "Epoch 60/100\n",
      "4861/4861 [==============================] - 7s 2ms/step - loss: 1.0698 - accuracy: 0.6248\n",
      "Epoch 61/100\n",
      "4861/4861 [==============================] - 8s 2ms/step - loss: 1.0694 - accuracy: 0.6248: 0s - loss: 1.0694 - accuracy: 0.62\n",
      "Epoch 62/100\n",
      "4861/4861 [==============================] - 9s 2ms/step - loss: 1.0694 - accuracy: 0.6248\n",
      "Epoch 63/100\n",
      "4861/4861 [==============================] - 7s 1ms/step - loss: 1.0690 - accuracy: 0.6249\n",
      "Epoch 64/100\n",
      "4861/4861 [==============================] - 7s 2ms/step - loss: 1.0687 - accuracy: 0.6248\n",
      "Epoch 65/100\n",
      "4861/4861 [==============================] - 7s 1ms/step - loss: 1.0689 - accuracy: 0.6256\n",
      "Epoch 66/100\n",
      "4861/4861 [==============================] - 7s 1ms/step - loss: 1.0689 - accuracy: 0.6253\n",
      "Epoch 67/100\n",
      "4861/4861 [==============================] - 7s 1ms/step - loss: 1.0684 - accuracy: 0.6256\n",
      "Epoch 68/100\n",
      "4861/4861 [==============================] - 7s 1ms/step - loss: 1.0686 - accuracy: 0.6256\n",
      "Epoch 69/100\n",
      "4861/4861 [==============================] - 6s 1ms/step - loss: 1.0683 - accuracy: 0.6252\n",
      "Epoch 70/100\n",
      "4861/4861 [==============================] - 5s 1ms/step - loss: 1.0686 - accuracy: 0.6250\n",
      "Epoch 71/100\n",
      "4861/4861 [==============================] - 6s 1ms/step - loss: 1.0685 - accuracy: 0.6254\n",
      "Epoch 72/100\n",
      "4861/4861 [==============================] - 6s 1ms/step - loss: 1.0683 - accuracy: 0.6253\n",
      "Epoch 73/100\n",
      "4861/4861 [==============================] - 5s 1ms/step - loss: 1.0681 - accuracy: 0.6258\n",
      "Epoch 74/100\n",
      "4861/4861 [==============================] - 5s 1ms/step - loss: 1.0686 - accuracy: 0.6258\n",
      "Epoch 75/100\n",
      "4861/4861 [==============================] - 5s 1ms/step - loss: 1.0680 - accuracy: 0.6253\n",
      "Epoch 76/100\n",
      "4861/4861 [==============================] - 5s 1ms/step - loss: 1.0683 - accuracy: 0.6258\n",
      "Epoch 77/100\n",
      "4861/4861 [==============================] - 5s 1ms/step - loss: 1.0684 - accuracy: 0.6254\n",
      "Epoch 78/100\n",
      "4861/4861 [==============================] - 5s 1ms/step - loss: 1.0680 - accuracy: 0.6250\n",
      "Epoch 79/100\n",
      "4861/4861 [==============================] - 5s 1ms/step - loss: 1.0680 - accuracy: 0.6260\n",
      "Epoch 80/100\n",
      "4861/4861 [==============================] - 6s 1ms/step - loss: 1.0680 - accuracy: 0.6255: 0s -\n",
      "Epoch 81/100\n",
      "4861/4861 [==============================] - 8s 2ms/step - loss: 1.0679 - accuracy: 0.6264\n",
      "Epoch 82/100\n",
      "4861/4861 [==============================] - 8s 2ms/step - loss: 1.0678 - accuracy: 0.6254\n",
      "Epoch 83/100\n",
      "4861/4861 [==============================] - 8s 2ms/step - loss: 1.0678 - accuracy: 0.6259\n",
      "Epoch 84/100\n",
      "4861/4861 [==============================] - 8s 2ms/step - loss: 1.0676 - accuracy: 0.6258\n",
      "Epoch 85/100\n",
      "4861/4861 [==============================] - 6s 1ms/step - loss: 1.0679 - accuracy: 0.6256\n",
      "Epoch 86/100\n",
      "4861/4861 [==============================] - 5s 1ms/step - loss: 1.0677 - accuracy: 0.6257\n",
      "Epoch 87/100\n",
      "4861/4861 [==============================] - 5s 1ms/step - loss: 1.0679 - accuracy: 0.6253\n",
      "Epoch 88/100\n",
      "4861/4861 [==============================] - 6s 1ms/step - loss: 1.0674 - accuracy: 0.6259\n",
      "Epoch 89/100\n",
      "4861/4861 [==============================] - 6s 1ms/step - loss: 1.0677 - accuracy: 0.6261\n",
      "Epoch 90/100\n",
      "4861/4861 [==============================] - 5s 1ms/step - loss: 1.0673 - accuracy: 0.6258\n",
      "Epoch 91/100\n",
      "4861/4861 [==============================] - 7s 1ms/step - loss: 1.0675 - accuracy: 0.6268\n",
      "Epoch 92/100\n",
      "4861/4861 [==============================] - 8s 2ms/step - loss: 1.0672 - accuracy: 0.6263\n",
      "Epoch 93/100\n",
      "4861/4861 [==============================] - 7s 1ms/step - loss: 1.0672 - accuracy: 0.6252\n",
      "Epoch 94/100\n",
      "4861/4861 [==============================] - 6s 1ms/step - loss: 1.0673 - accuracy: 0.6261\n",
      "Epoch 95/100\n",
      "4861/4861 [==============================] - 6s 1ms/step - loss: 1.0674 - accuracy: 0.6259\n",
      "Epoch 96/100\n",
      "4861/4861 [==============================] - 7s 1ms/step - loss: 1.0674 - accuracy: 0.6255\n",
      "Epoch 97/100\n",
      "4861/4861 [==============================] - 7s 1ms/step - loss: 1.0673 - accuracy: 0.6262\n",
      "Epoch 98/100\n",
      "4861/4861 [==============================] - 7s 1ms/step - loss: 1.0672 - accuracy: 0.6264\n",
      "Epoch 99/100\n",
      "4861/4861 [==============================] - 7s 1ms/step - loss: 1.0673 - accuracy: 0.6260\n",
      "Epoch 100/100\n",
      "4861/4861 [==============================] - 6s 1ms/step - loss: 1.0672 - accuracy: 0.6252\n"
     ]
    },
    {
     "data": {
      "text/plain": [
       "<keras.callbacks.History at 0x25b84ee0850>"
      ]
     },
     "execution_count": 72,
     "metadata": {},
     "output_type": "execute_result"
    }
   ],
   "source": [
    "# Model definition\n",
    "model = ml.Sequential()\n",
    "model.add( l.Dense (\n",
    "                100,\n",
    "                input_dim =x_train.shape[1],\n",
    "                activation = 'relu' \n",
    "                ) ) # Irá adicionar as Layers da rede neural .. Camada de entrada\n",
    "\n",
    "model.add( l.Dense (\n",
    "                    12, #11 por causa do número de saídas\n",
    "                    activation = 'softmax' \n",
    "                    )\n",
    "                    )\n",
    "\n",
    "# Model compile\n",
    "model.compile(loss='categorical_crossentropy',optimizer='adam', metrics=['accuracy'])\n",
    "\n",
    "# train model\n",
    "model.fit(x_train, y_train_nn, epochs=100)"
   ]
  },
  {
   "cell_type": "markdown",
   "metadata": {},
   "source": [
    "# 6.0. Performance"
   ]
  },
  {
   "cell_type": "markdown",
   "metadata": {},
   "source": [
    "## 6.1. NN - Performance"
   ]
  },
  {
   "cell_type": "code",
   "execution_count": 77,
   "metadata": {
    "ExecuteTime": {
     "end_time": "2021-12-28T04:48:37.514040Z",
     "start_time": "2021-12-28T04:48:36.889114Z"
    }
   },
   "outputs": [],
   "source": [
    "# prediction \n",
    "pred_nn = model.predict( x_test )"
   ]
  },
  {
   "cell_type": "code",
   "execution_count": 78,
   "metadata": {
    "ExecuteTime": {
     "end_time": "2021-12-28T04:48:37.592256Z",
     "start_time": "2021-12-28T04:48:37.514040Z"
    }
   },
   "outputs": [],
   "source": [
    "# Invert prediction\n",
    "yhat_nn = ohe.inverse_transform( pred_nn )"
   ]
  },
  {
   "cell_type": "code",
   "execution_count": 80,
   "metadata": {
    "ExecuteTime": {
     "end_time": "2021-12-28T04:48:37.608083Z",
     "start_time": "2021-12-28T04:48:37.595307Z"
    }
   },
   "outputs": [],
   "source": [
    "# Prediction prepare\n",
    "y_test_nn = y_test.to_numpy()\n",
    "yhat_nn = yhat_nn.reshape(1 , -1 )[0]"
   ]
  },
  {
   "cell_type": "code",
   "execution_count": 81,
   "metadata": {
    "ExecuteTime": {
     "end_time": "2021-12-28T04:48:37.623943Z",
     "start_time": "2021-12-28T04:48:37.609777Z"
    }
   },
   "outputs": [
    {
     "data": {
      "text/plain": [
       "array(['US', 'NDF', 'NDF', ..., 'NDF', 'NDF', 'NDF'], dtype=object)"
      ]
     },
     "execution_count": 81,
     "metadata": {},
     "output_type": "execute_result"
    }
   ],
   "source": [
    "yhat_nn"
   ]
  },
  {
   "cell_type": "code",
   "execution_count": 82,
   "metadata": {
    "ExecuteTime": {
     "end_time": "2021-12-28T04:48:39.651567Z",
     "start_time": "2021-12-28T04:48:37.625902Z"
    }
   },
   "outputs": [
    {
     "name": "stdout",
     "output_type": "stream",
     "text": [
      "Accuracy: 0.624240553937547\n",
      "Balanced Accuracy: 0.1051229596091892\n",
      "Kappa Score: 0.22117942467561824\n"
     ]
    },
    {
     "name": "stderr",
     "output_type": "stream",
     "text": [
      "d:\\CDS\\Projetos\\PA01\\airbnb_predict\\airbnb\\lib\\site-packages\\sklearn\\metrics\\_classification.py:1308: UndefinedMetricWarning: Precision and F-score are ill-defined and being set to 0.0 in labels with no predicted samples. Use `zero_division` parameter to control this behavior.\n",
      "  _warn_prf(average, modifier, msg_start, len(result))\n",
      "d:\\CDS\\Projetos\\PA01\\airbnb_predict\\airbnb\\lib\\site-packages\\sklearn\\metrics\\_classification.py:1308: UndefinedMetricWarning: Precision and F-score are ill-defined and being set to 0.0 in labels with no predicted samples. Use `zero_division` parameter to control this behavior.\n",
      "  _warn_prf(average, modifier, msg_start, len(result))\n",
      "d:\\CDS\\Projetos\\PA01\\airbnb_predict\\airbnb\\lib\\site-packages\\sklearn\\metrics\\_classification.py:1308: UndefinedMetricWarning: Precision and F-score are ill-defined and being set to 0.0 in labels with no predicted samples. Use `zero_division` parameter to control this behavior.\n",
      "  _warn_prf(average, modifier, msg_start, len(result))\n"
     ]
    },
    {
     "name": "stdout",
     "output_type": "stream",
     "text": [
      "              precision    recall  f1-score   support\n",
      "\n",
      "          AU       0.00      0.00      0.00       123\n",
      "          CA       0.00      0.00      0.00       360\n",
      "          DE       0.00      0.00      0.00       268\n",
      "          ES       0.00      0.00      0.00       537\n",
      "          FR       0.00      0.00      0.00      1229\n",
      "          GB       0.00      0.00      0.00       611\n",
      "          IT       0.00      0.00      0.00       696\n",
      "         NDF       0.66      0.89      0.76     30076\n",
      "          NL       0.00      0.00      0.00       211\n",
      "          PT       0.00      0.00      0.00        61\n",
      "          US       0.50      0.37      0.43     15145\n",
      "       other       0.17      0.00      0.00      2530\n",
      "\n",
      "    accuracy                           0.62     51847\n",
      "   macro avg       0.11      0.11      0.10     51847\n",
      "weighted avg       0.54      0.62      0.56     51847\n",
      "\n"
     ]
    },
    {
     "data": {
      "text/plain": [
       "<AxesSubplot:title={'center':'Confusion Matrix'}, xlabel='Predicted label', ylabel='True label'>"
      ]
     },
     "execution_count": 82,
     "metadata": {},
     "output_type": "execute_result"
    },
    {
     "data": {
      "image/png": "[encoded data removed]",
      "text/plain": [
       "<Figure size 864x864 with 2 Axes>"
      ]
     },
     "metadata": {
      "needs_background": "light"
     },
     "output_type": "display_data"
    }
   ],
   "source": [
    "# Accuracy\n",
    "acc_nn = m.accuracy_score( \n",
    "                y_test_nn, \n",
    "                yhat_nn\n",
    "                )\n",
    "print('Accuracy: {}'.format(acc_nn))\n",
    "# Balanced accury Score\n",
    "\n",
    "b_acc_nn = m.balanced_accuracy_score(\n",
    "                        y_test_nn,\n",
    "                        yhat_nn\n",
    "                            )\n",
    "print('Balanced Accuracy: {}'.format(b_acc_nn))\n",
    "\n",
    "# Kappa Metrics\n",
    "kappa_nn = m.cohen_kappa_score(\n",
    "                            y_test_nn,\n",
    "                            yhat_nn\n",
    "                                )\n",
    "print('Kappa Score: {}'.format(kappa_nn))\n",
    "\n",
    "# Classification report\n",
    "print(m.classification_report(y_test_nn, yhat_nn))\n",
    "\n",
    "\n",
    "# Confusion Matrix\n",
    "mt.plot_confusion_matrix(\n",
    "                        y_test_nn,\n",
    "                        yhat_nn, \n",
    "                        normalize=False, \n",
    "                        figsize=(12,12)\n",
    "                        )"
   ]
  },
  {
   "cell_type": "markdown",
   "metadata": {},
   "source": [
    " O weighted avg é a média ponderada das métricas logo acima."
   ]
  },
  {
   "cell_type": "markdown",
   "metadata": {},
   "source": [
    "## 6.2. Baseline Model - Performance"
   ]
  },
  {
   "cell_type": "code",
   "execution_count": 84,
   "metadata": {
    "ExecuteTime": {
     "end_time": "2021-12-28T04:49:56.127101Z",
     "start_time": "2021-12-28T04:49:52.387524Z"
    }
   },
   "outputs": [
    {
     "name": "stdout",
     "output_type": "stream",
     "text": [
      "Accuracy: 0.42449900669276913\n",
      "Balanced Accuracy: 0.08216466204056878\n",
      "Kappa Score: -0.000993723605408503\n",
      "              precision    recall  f1-score   support\n",
      "\n",
      "          AU       0.00      0.00      0.00       123\n",
      "          CA       0.01      0.01      0.01       360\n",
      "          DE       0.00      0.00      0.00       268\n",
      "          ES       0.01      0.01      0.01       537\n",
      "          FR       0.02      0.02      0.02      1229\n",
      "          GB       0.01      0.01      0.01       611\n",
      "          IT       0.01      0.01      0.01       696\n",
      "         NDF       0.58      0.58      0.58     30076\n",
      "          NL       0.01      0.01      0.01       211\n",
      "          PT       0.00      0.00      0.00        61\n",
      "          US       0.29      0.29      0.29     15145\n",
      "       other       0.05      0.05      0.05      2530\n",
      "\n",
      "    accuracy                           0.42     51847\n",
      "   macro avg       0.08      0.08      0.08     51847\n",
      "weighted avg       0.42      0.42      0.42     51847\n",
      "\n"
     ]
    },
    {
     "data": {
      "text/plain": [
       "<AxesSubplot:title={'center':'Confusion Matrix'}, xlabel='Predicted label', ylabel='True label'>"
      ]
     },
     "execution_count": 84,
     "metadata": {},
     "output_type": "execute_result"
    },
    {
     "data": {
      "image/png": "[encoded data removed]",
      "text/plain": [
       "<Figure size 864x864 with 2 Axes>"
      ]
     },
     "metadata": {
      "needs_background": "light"
     },
     "output_type": "display_data"
    }
   ],
   "source": [
    "# Accuracy\n",
    "acc_random = m.accuracy_score( \n",
    "                y_test_nn, \n",
    "                yhat_random\n",
    "                )\n",
    "print('Accuracy: {}'.format(acc_random))\n",
    "# Balanced accury Score\n",
    "\n",
    "b_acc_random = m.balanced_accuracy_score(\n",
    "                        y_test_nn,\n",
    "                        yhat_random\n",
    "                            )\n",
    "print('Balanced Accuracy: {}'.format(b_acc_random))\n",
    "\n",
    "# Kappa Metrics\n",
    "kappa_random = m.cohen_kappa_score(\n",
    "                            y_test_nn,\n",
    "                            yhat_random\n",
    "                                )\n",
    "print('Kappa Score: {}'.format(kappa_random))\n",
    "\n",
    "# Classification report\n",
    "print(m.classification_report(y_test_nn, yhat_random))\n",
    "\n",
    "\n",
    "# Confusion Matrix\n",
    "mt.plot_confusion_matrix(\n",
    "                        y_test_nn,\n",
    "                        yhat_random, \n",
    "                        normalize=False, \n",
    "                        figsize=(12,12)\n",
    "                        )"
   ]
  },
  {
   "cell_type": "markdown",
   "metadata": {},
   "source": [
    "## 6.3. NN  Performance: Cross-validation (Essa parte é realizada somente no final do ciclo )"
   ]
  },
  {
   "cell_type": "markdown",
   "metadata": {},
   "source": [
    "* O cross-validation é feito apenas no final, somente depois do Tuning-Fine.\n",
    "* A entrega das métricas para o time de negócio são aquelas realizadas a partir da validação cruzada.\n",
    "* Para essa processo se faz necessário aplicar processos de paralelização (Ou seja, o laço irá rodar em 5 threads)."
   ]
  },
  {
   "cell_type": "code",
   "execution_count": 86,
   "metadata": {
    "ExecuteTime": {
     "end_time": "2021-12-28T04:48:37.608083Z",
     "start_time": "2021-12-28T04:48:37.595307Z"
    }
   },
   "outputs": [
    {
     "name": "stdout",
     "output_type": "stream",
     "text": [
      "Fold Number: 1/5\n",
      "Fold Number: 2/5\n",
      "Fold Number: 3/5\n",
      "Fold Number: 4/5\n",
      "Fold Number: 5/5\n"
     ]
    }
   ],
   "source": [
    "# Criar uma lista para as métricas\n",
    "balanced_acc_list = []\n",
    "kappa_acc_list = []\n",
    "\n",
    "# Generate k-fold\n",
    "num_folds = 5\n",
    "k_fold = ms.StratifiedKFold(n_splits=num_folds,\n",
    "                    shuffle=True,\n",
    "                    random_state=42)\n",
    "\n",
    "i = 1\n",
    "for train_ix, val_ix in k_fold.split(x_train, y_train): # Mantém a proporção das classes\n",
    "# Para cada iteração vms ter um conjunto de indíces diferentes\n",
    "    print('Fold Number: {}/{}'.format(i,num_folds))\n",
    "\n",
    "    # Get fold\n",
    "    x_train_fold = x_train.iloc[train_ix]\n",
    "    y_train_fold = y_train.iloc[train_ix]\n",
    "\n",
    "    x_val_fold = x_train.iloc[val_ix]\n",
    "    y_val_fold = y_train.iloc[val_ix]\n",
    "\n",
    "    # Target hot-encoding\n",
    "    ohe = pp.OneHotEncoder()\n",
    "    y_train_fold_nn = ohe.fit_transform(y_train_fold.values.reshape(-1,1)).toarray() #Convertendo a classe em um array\n",
    "\n",
    "    # Model definition\n",
    "    model = ml.Sequential()\n",
    "\n",
    "    model.add(l.Dense(256, #Números de neurônios na camada escondida\n",
    "                    input_dim= x_train.shape[1], # Números de entrada na minha rede (camada de entrada)\n",
    "                    activation= 'relu' # Função de ativação da rede neural (essa função agrega todos os pesos dos nós)\n",
    "                    ))\n",
    "    model.add(l.Dense(12, # Número de neurônios na camada de saída deve ser igual ao número de classes para o modelo.\n",
    "                    activation= 'softmax' # Essa função de ativação é muito usada em problemas de multiclasse.\n",
    "                    ))\n",
    "    # Compile model\n",
    "    model.compile(\n",
    "                loss = 'categorical_crossentropy', #função de perda\n",
    "                optimizer = 'adam', # Função de otimização\n",
    "                metrics = ['accuracy'] # Métrica utilizada\n",
    "                )\n",
    "\n",
    "    # training model\n",
    "    model.fit(x_train_fold, \n",
    "                y_train_fold_nn, \n",
    "                epochs = 100, # Quantas vezes irá passar pelo dataset\n",
    "                batch_size = 32,\n",
    "                verbose = 0\n",
    "                )\n",
    "\n",
    "    # Prediction\n",
    "    pred_nn = model.predict(x_val_fold)\n",
    "    yhat_nn = ohe.inverse_transform(pred_nn) # Dados da variável target preditos\n",
    "\n",
    "    # Prepare Data\n",
    "\n",
    "    y_test_nn = y_val_fold.to_numpy()\n",
    "    yhat_nn = yhat_nn.reshape(1,-1)[0]\n",
    "\n",
    "    # Metrics\n",
    "    ## Balanced Accuracy\n",
    "    balanced_acc_nn = m.balanced_accuracy_score(y_test_nn, yhat_nn)\n",
    "    balanced_acc_list.append(balanced_acc_nn)\n",
    "\n",
    "    ## Kappa metrics\n",
    "    kappa_acc_nn = m.cohen_kappa_score(y_test_nn, yhat_nn)\n",
    "    kappa_acc_list.append(kappa_acc_nn)\n",
    "    \n",
    "    i += 1"
   ]
  },
  {
   "cell_type": "code",
   "execution_count": 87,
   "metadata": {
    "ExecuteTime": {
     "end_time": "2021-12-28T04:48:37.623943Z",
     "start_time": "2021-12-28T04:48:37.609777Z"
    }
   },
   "outputs": [
    {
     "name": "stdout",
     "output_type": "stream",
     "text": [
      "Avg Balanced Accuracy: 0.1 +/- 0.0018\n",
      "Avg Kappa : 0.22 +/- 0.015\n"
     ]
    }
   ],
   "source": [
    "print(f'Avg Balanced Accuracy: {np.round(np.mean(balanced_acc_list),2)} +/- {np.round(np.std(balanced_acc_list), 4)}')\n",
    "print(f'Avg Kappa : {np.round(np.mean(kappa_acc_list),2)} +/- {np.round(np.std(kappa_acc_list), 4)}')"
   ]
  },
  {
   "cell_type": "markdown",
   "metadata": {},
   "source": []
  }
 ],
 "metadata": {
  "interpreter": {
   "hash": "b99113a99553cfb330e5fc867d931833120df9d0f885d4b72a625538577bb4e1"
  },
  "kernelspec": {
   "display_name": "Python 3 (ipykernel)",
   "language": "python",
   "name": "python3"
  },
  "language_info": {
   "codemirror_mode": {
    "name": "ipython",
    "version": 3
   },
   "file_extension": ".py",
   "mimetype": "text/x-python",
   "name": "python",
   "nbconvert_exporter": "python",
   "pygments_lexer": "ipython3",
   "version": "3.9.8"
  }
 },
 "nbformat": 4,
 "nbformat_minor": 2
}
